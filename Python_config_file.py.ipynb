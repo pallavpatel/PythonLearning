{
 "cells": [
  {
   "cell_type": "code",
   "execution_count": null,
   "metadata": {
    "collapsed": true
   },
   "outputs": [],
   "source": [
    "file_bucket = \"s3://rawdata/\"\n",
    "temp_s3_ bucket = \"s3://rawdata/temp_bucket\"\n",
    "\n",
    "schema = \"prod\"\n",
    "dbname = \"prd_rdshift\"\n",
    "port = 5439\n",
    "user = admin\n",
    "password = admin123\n",
    "table_name = s3_redshift\n",
    "\n",
    "host_url = \"jdbc:redshift://endpointname:5439/prd_rdshift\"\n",
    "file_path = \n",
    "\n",
    "aws_access_key_id = \"SFDASFSFGSDFGSDFGSDGSF\"\n",
    "aws_secret_access_key = \"ssgfsfsdwttSDF/DGDFHTG/jhkjhjJHKJHjhHKJH\""
   ]
  }
 ],
 "metadata": {
  "kernelspec": {
   "display_name": "Python 2",
   "language": "python",
   "name": "python2"
  },
  "language_info": {
   "codemirror_mode": {
    "name": "ipython",
    "version": 2
   },
   "file_extension": ".py",
   "mimetype": "text/x-python",
   "name": "python",
   "nbconvert_exporter": "python",
   "pygments_lexer": "ipython2",
   "version": "2.7.13"
  }
 },
 "nbformat": 4,
 "nbformat_minor": 2
}
