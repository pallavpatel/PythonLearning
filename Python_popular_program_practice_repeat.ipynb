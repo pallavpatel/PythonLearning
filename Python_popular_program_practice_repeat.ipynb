{
 "cells": [
  {
   "cell_type": "markdown",
   "metadata": {},
   "source": [
    "### Apple stocks Program \n",
    "( it may be any company like Amazon etc)"
   ]
  },
  {
   "cell_type": "code",
   "execution_count": 13,
   "metadata": {
    "collapsed": true
   },
   "outputs": [],
   "source": [
    "\n",
    "def get_max_profit(stock_prices):\n",
    "    \n",
    "    if len(stock_prices) <= 1:\n",
    "        print (\"Atleast 2 prices are needed\")\n",
    "        return\n",
    "    \n",
    "    min_buy_price = stock_prices[0]\n",
    "    \n",
    "    max_profit = stock_prices[1] - stock_prices[0]\n",
    "    \n",
    "    for price in stock_prices[1:]:\n",
    "        \n",
    "        curr_profit = price - min_buy_price\n",
    "        \n",
    "        max_profit = max(curr_profit , max_profit)\n",
    "        \n",
    "        min_buy_price = min(min_buy_price, price)\n",
    "    \n",
    "    return max_profit\n"
   ]
  },
  {
   "cell_type": "code",
   "execution_count": 14,
   "metadata": {},
   "outputs": [
    {
     "data": {
      "text/plain": [
       "6"
      ]
     },
     "execution_count": 14,
     "metadata": {},
     "output_type": "execute_result"
    }
   ],
   "source": [
    "stock_prices = [10, 7, 5, 8, 11, 9]\n",
    "get_max_profit(stock_prices)"
   ]
  },
  {
   "cell_type": "code",
   "execution_count": 15,
   "metadata": {},
   "outputs": [
    {
     "data": {
      "text/plain": [
       "0"
      ]
     },
     "execution_count": 15,
     "metadata": {},
     "output_type": "execute_result"
    }
   ],
   "source": [
    "stock_prices = [10, 10,10,10,10]\n",
    "get_max_profit(stock_prices)"
   ]
  },
  {
   "cell_type": "code",
   "execution_count": 16,
   "metadata": {},
   "outputs": [
    {
     "data": {
      "text/plain": [
       "-1"
      ]
     },
     "execution_count": 16,
     "metadata": {},
     "output_type": "execute_result"
    }
   ],
   "source": [
    "stock_prices = [18, 15,11,10,5]\n",
    "get_max_profit(stock_prices)"
   ]
  },
  {
   "cell_type": "markdown",
   "metadata": {},
   "source": [
    "#### Do not forget edge case here\n",
    "\n",
    "stock_prices = [18]\n",
    "\n",
    "get_max_profit(stock_prices) # if there is only 1 price. \n",
    "\n",
    "Adding if condition to take care of edge case"
   ]
  },
  {
   "cell_type": "code",
   "execution_count": 18,
   "metadata": {},
   "outputs": [
    {
     "name": "stdout",
     "output_type": "stream",
     "text": [
      "Atleast 2 prices are needed\n"
     ]
    }
   ],
   "source": [
    "stock_prices = [18]\n",
    "get_max_profit(stock_prices)"
   ]
  },
  {
   "cell_type": "code",
   "execution_count": null,
   "metadata": {
    "collapsed": true
   },
   "outputs": [],
   "source": []
  },
  {
   "cell_type": "markdown",
   "metadata": {},
   "source": [
    "### You have a list of integers, \n",
    "and for each index you want to find the product of every integer except the integer at that index.\n",
    "\n",
    "Write a function get_products_of_all_ints_except_at_index() that takes a list of integers and returns a list of the products.\n",
    "\n",
    "For example, given:\n",
    "\n",
    "  [1, 7, 3, 4]\n",
    "\n",
    "your function would return:\n",
    "\n",
    "  [84, 12, 28, 21]\n",
    "\n",
    "by calculating:\n",
    "\n",
    "  [7 * 3 * 4,  1 * 3 * 4,  1 * 7 * 4,  1 * 7 * 3]\n",
    "\n",
    "Here's the catch: You can't use division in your solution!\n"
   ]
  },
  {
   "cell_type": "code",
   "execution_count": 36,
   "metadata": {},
   "outputs": [],
   "source": [
    "def get_products_of_all_ints_except_at_index(arr):\n",
    "    \n",
    "    if len(arr) == 1:\n",
    "        print \"need atleast more than 1 integers\"\n",
    "    \n",
    "    product = 1\n",
    "    output = []\n",
    "    \n",
    "    i = 0\n",
    "    \n",
    "    while i <= len(arr)-1:\n",
    "        output.append(product)\n",
    "        product = product * arr[i]\n",
    "        i = i+1\n",
    "        \n",
    "    product = 1\n",
    "    i = len(arr) - 1\n",
    "    \n",
    "    while i >= 0:\n",
    "        \n",
    "        output[i] = output[i]*product\n",
    "        product = product*arr[i]\n",
    "        i = i-1\n",
    "    \n",
    "    print output\n",
    "    \n",
    "    \n",
    "    \n",
    "    "
   ]
  },
  {
   "cell_type": "code",
   "execution_count": 37,
   "metadata": {},
   "outputs": [
    {
     "name": "stdout",
     "output_type": "stream",
     "text": [
      "[84, 24, 56, 42]\n"
     ]
    }
   ],
   "source": [
    "arr = [2, 7, 3, 4]\n",
    "get_products_of_all_ints_except_at_index(arr)"
   ]
  },
  {
   "cell_type": "code",
   "execution_count": 38,
   "metadata": {},
   "outputs": [
    {
     "name": "stdout",
     "output_type": "stream",
     "text": [
      "[0, 24, 0, 0]\n"
     ]
    }
   ],
   "source": [
    "arr = [2, 0, 3, 4]\n",
    "get_products_of_all_ints_except_at_index(arr)"
   ]
  },
  {
   "cell_type": "code",
   "execution_count": null,
   "metadata": {
    "collapsed": true
   },
   "outputs": [],
   "source": []
  },
  {
   "cell_type": "markdown",
   "metadata": {},
   "source": [
    "### Product of 3 integers\n",
    "\n",
    "Given a list of integers, find the highest product you can get from three of the integers.\n",
    "\n",
    "The input list_of_ints will always have at least three integers."
   ]
  },
  {
   "cell_type": "code",
   "execution_count": 42,
   "metadata": {
    "collapsed": true
   },
   "outputs": [],
   "source": [
    "def highest_prod_of_3_int(arr):\n",
    "    \n",
    "    if len(arr) == 3:\n",
    "        print arr[0]*arr[1]*arr[2]\n",
    "        return\n",
    "    \n",
    "    if len(arr) < 3:\n",
    "        print(\"need 3 integers\")\n",
    "        return\n",
    "    \n",
    "    high = max(arr[0] , arr[1])\n",
    "    low = min(arr[0] , arr[1])\n",
    "    \n",
    "    high_prod = arr[0]*arr[1]\n",
    "    low_prod = arr[0]*arr[1]\n",
    "    \n",
    "    prod_of_3 = arr[0]*arr[1]*arr[2]\n",
    "    \n",
    "    for num in arr[2:]:\n",
    "        \n",
    "        prod_of_3 = max(prod_of_3, high_prod*num, low_prod*num)\n",
    "        \n",
    "        high_prod = max(high_prod , high*num)\n",
    "        \n",
    "        low_prod = min(low_prod , low*num)\n",
    "        \n",
    "        high = max(high, num)\n",
    "        low = min(low, num)\n",
    "        \n",
    "    print prod_of_3"
   ]
  },
  {
   "cell_type": "code",
   "execution_count": 43,
   "metadata": {},
   "outputs": [
    {
     "name": "stdout",
     "output_type": "stream",
     "text": [
      "24\n"
     ]
    }
   ],
   "source": [
    "arr = [2, 0, 3, 4]\n",
    "highest_prod_of_3_int(arr)"
   ]
  },
  {
   "cell_type": "code",
   "execution_count": 44,
   "metadata": {},
   "outputs": [
    {
     "name": "stdout",
     "output_type": "stream",
     "text": [
      "2000\n"
     ]
    }
   ],
   "source": [
    "arr = [-10, -50, 2, 0, 3, 4]\n",
    "highest_prod_of_3_int(arr)"
   ]
  },
  {
   "cell_type": "code",
   "execution_count": null,
   "metadata": {
    "collapsed": true
   },
   "outputs": [],
   "source": []
  },
  {
   "cell_type": "markdown",
   "metadata": {},
   "source": [
    "### calendar tool called HiCal\n",
    "\n",
    "Your company built an in-house calendar tool called HiCal. You want to add a feature to see the times in a day when everyone is available.\n",
    "\n",
    "To do this, you’ll need to know when any team is having a meeting. In HiCal, a meeting is stored as a tuple ↴ of integers (start_time, end_time). These integers represent the number of 30-minute blocks past 9:00am.\n",
    "\n",
    "For example:\n",
    "\n",
    "  (2, 3)  # Meeting from 10:00 – 10:30 am\n",
    "(6, 9)  # Meeting from 12:00 – 1:30 pm\n",
    "\n",
    "Write a function merge_ranges() that takes a list of multiple meeting time ranges and returns a list of condensed ranges.\n",
    "\n",
    "For example, given:\n",
    "\n",
    "  [(0, 1), (3, 5), (4, 8), (10, 12), (9, 10)]\n",
    "\n",
    "your function would return:\n",
    "\n",
    "  [(0, 1), (3, 8), (9, 12)]\n",
    "\n",
    "Do not assume the meetings are in order. The meeting times are coming from multiple teams.\n",
    "\n",
    "Link: https://www.interviewcake.com/question/python/merging-ranges"
   ]
  },
  {
   "cell_type": "code",
   "execution_count": 97,
   "metadata": {
    "collapsed": true
   },
   "outputs": [],
   "source": [
    "def merge_ranges(arr):\n",
    "    \n",
    "    \n",
    "    arr.sort()\n",
    "    \n",
    "    output = []\n",
    "    \n",
    "    start_time = arr[0][0]\n",
    "    end_time = arr[0][1]\n",
    "    \n",
    "    for i, a in enumerate(arr):\n",
    "        \n",
    "        if end_time < a[0]:\n",
    "            output.append((start_time, end_time))\n",
    "            start_time = a[0]\n",
    "            end_time = a[1]\n",
    "        \n",
    "        end_time = max(end_time,a[0],a[1])\n",
    "        \n",
    "        if i == len(arr) - 1:\n",
    "            output.append((start_time,end_time))\n",
    "    \n",
    "    print output"
   ]
  },
  {
   "cell_type": "code",
   "execution_count": 98,
   "metadata": {},
   "outputs": [
    {
     "name": "stdout",
     "output_type": "stream",
     "text": [
      "[(0, 1), (3, 8), (9, 12)]\n",
      "[(0, 1), (3, 8), (9, 13), (15, 17)]\n",
      "[(1, 4)]\n",
      "[(1, 5)]\n"
     ]
    }
   ],
   "source": [
    "arr =   [(0, 1), (3, 5), (4, 8), (10, 12), (9, 10)]\n",
    "\n",
    "arr1 =   [(0, 1), (3, 5), (4, 8), (15,17), (10, 12), (9, 13)]\n",
    "\n",
    "arr2 =  [(1, 3), (2, 4)]\n",
    "\n",
    "arr3 = [(1, 5), (2, 3)]\n",
    "    \n",
    "merge_ranges(arr)\n",
    "merge_ranges(arr1)\n",
    "merge_ranges(arr2)\n",
    "merge_ranges(arr3)"
   ]
  },
  {
   "cell_type": "markdown",
   "metadata": {},
   "source": [
    "#### Interview cake approach for calendar problem"
   ]
  },
  {
   "cell_type": "code",
   "execution_count": 102,
   "metadata": {},
   "outputs": [],
   "source": [
    "  def merge_ranges1(meetings):\n",
    "    # Sort by start time\n",
    "    sorted_meetings = sorted(meetings)\n",
    "\n",
    "    # Initialize merged_meetings with the earliest meeting\n",
    "    merged_meetings = [sorted_meetings[0]]\n",
    "\n",
    "    for current_meeting_start, current_meeting_end in sorted_meetings[1:]:\n",
    "        last_merged_meeting_start, last_merged_meeting_end = merged_meetings[-1]\n",
    "\n",
    "        # If the current meeting overlaps with the last merged meeting, use the\n",
    "        # later end time of the two\n",
    "        if (current_meeting_start <= last_merged_meeting_end):\n",
    "            merged_meetings[-1] = (last_merged_meeting_start,\n",
    "                                   max(last_merged_meeting_end,\n",
    "                                       current_meeting_end))\n",
    "        else:\n",
    "            # Add the current meeting since it doesn't overlap\n",
    "            merged_meetings.append((current_meeting_start, current_meeting_end))\n",
    "\n",
    "    print merged_meetings"
   ]
  },
  {
   "cell_type": "code",
   "execution_count": 103,
   "metadata": {},
   "outputs": [
    {
     "name": "stdout",
     "output_type": "stream",
     "text": [
      "[(0, 1), (3, 8), (9, 12)]\n",
      "[(0, 1), (3, 8), (9, 13), (15, 17)]\n",
      "[(1, 4)]\n",
      "[(1, 5)]\n"
     ]
    }
   ],
   "source": [
    "arr =   [(0, 1), (3, 5), (4, 8), (10, 12), (9, 10)]\n",
    "\n",
    "arr1 =   [(0, 1), (3, 5), (4, 8), (15,17), (10, 12), (9, 13)]\n",
    "\n",
    "arr2 =  [(1, 3), (2, 4)]\n",
    "\n",
    "arr3 = [(1, 5), (2, 3)]\n",
    "    \n",
    "merge_ranges1(arr)\n",
    "merge_ranges1(arr1)\n",
    "merge_ranges1(arr2)\n",
    "merge_ranges1(arr3)"
   ]
  },
  {
   "cell_type": "code",
   "execution_count": null,
   "metadata": {
    "collapsed": true
   },
   "outputs": [],
   "source": []
  },
  {
   "cell_type": "markdown",
   "metadata": {},
   "source": [
    "### temperature-tracker\n",
    "\n",
    "You decide to test if your oddly-mathematical heating company is fulfilling its All-Time Max, Min, Mean and Mode Temperature Guarantee™.\n",
    "\n",
    "Write a class TempTracker with these methods:\n",
    "\n",
    "insert()—records a new temperature\n",
    "\n",
    "get_max()—returns the highest temp we've seen so far\n",
    "\n",
    "get_min()—returns the lowest temp we've seen so far\n",
    "\n",
    "get_mean()—returns the mean of all temps we've seen so far\n",
    "\n",
    "get_mode()—returns a mode of all temps we've seen so far\n",
    "\n",
    "Optimize for space and time. Favor speeding up the getter methods get_max(), get_min(), get_mean(), and get_mode() over speeding up the insert() method.\n",
    "\n",
    "get_mean() should return a float, but the rest of the getter methods can return integers. Temperatures will all be inserted as integers. We'll record our temperatures in Fahrenheit, so we can assume they'll all be in the range 0..1100..110.\n",
    "\n",
    "If there is more than one mode, return any of the modes.\n"
   ]
  },
  {
   "cell_type": "code",
   "execution_count": 110,
   "metadata": {},
   "outputs": [],
   "source": [
    "# Interview cake method and solutions\n",
    "\n",
    "\n",
    "class TempTracker(object):\n",
    "\n",
    "    def __init__(self):\n",
    "        # For mode\n",
    "        self.occurrences = [0] * 111  # List of 0s at indices 0..110\n",
    "        self.max_occurrences = 0\n",
    "        self.mode = None\n",
    "\n",
    "        # For mean\n",
    "        self.number_of_readings = 0\n",
    "        self.total_sum = 0.0  # Mean should be float\n",
    "        self.mean = None\n",
    "\n",
    "        # For min and max\n",
    "        self.min_temp = float('inf')\n",
    "        self.max_temp = float('-inf')\n",
    "\n",
    "    def insert(self, temperature):\n",
    "        # For mode\n",
    "        self.occurrences[temperature] += 1\n",
    "        if self.occurrences[temperature] > self.max_occurrences:\n",
    "            self.mode = temperature\n",
    "            self.max_occurrences = self.occurrences[temperature]\n",
    "\n",
    "        # For mean\n",
    "        self.number_of_readings += 1\n",
    "        self.total_sum += temperature\n",
    "        self.mean = self.total_sum / self.number_of_readings\n",
    "\n",
    "        # For min and max\n",
    "        if temperature > self.max_temp:\n",
    "            self.max_temp = temperature\n",
    "        if temperature < self.min_temp:\n",
    "            self.min_temp = temperature\n",
    "\n",
    "    def get_max(self):\n",
    "        return self.max_temp\n",
    "\n",
    "    def get_min(self):\n",
    "        return self.min_temp\n",
    "\n",
    "    def get_mean(self):\n",
    "        return self.mean\n",
    "\n",
    "    def get_mode(self):\n",
    "        return self.mode\n"
   ]
  },
  {
   "cell_type": "markdown",
   "metadata": {},
   "source": [
    "We don't really need the getter methods since they all return attributes. We could directly access the attributes!\n",
    "\n",
    "#### Method\n",
    "temp_tracker.get_mean()\n",
    "\n",
    "#### Attribute\n",
    "temp_tracker.mean"
   ]
  },
  {
   "cell_type": "code",
   "execution_count": null,
   "metadata": {
    "collapsed": true
   },
   "outputs": [],
   "source": []
  },
  {
   "cell_type": "markdown",
   "metadata": {},
   "source": [
    "### inflight-entertainment\n",
    "\n",
    "Users on longer flights like to start a second movie right when their first one ends, but they complain that the plane usually lands before they can see the ending. So you're building a feature for choosing two movies whose total runtimes will equal the exact flight length.\n",
    "\n",
    "Write a function that takes an integer flight_length (in minutes) and a list of integers movie_lengths (in minutes) and returns a boolean indicating whether there are two numbers in movie_lengths whose sum equals flight_length.\n",
    "\n",
    "When building your function:\n",
    "\n",
    "Assume your users will watch exactly two movies\n",
    "Don't make your users watch the same movie twice\n",
    "Optimize for runtime over memory\n"
   ]
  },
  {
   "cell_type": "code",
   "execution_count": 122,
   "metadata": {
    "collapsed": true
   },
   "outputs": [],
   "source": [
    "def sum_of_target_int(arr, target):\n",
    "    \n",
    "    seen = []\n",
    "    list_of_movies = []\n",
    "    \n",
    "    for a in arr:\n",
    "        \n",
    "        c = target - a\n",
    "        \n",
    "        if a in seen and a != c:\n",
    "            list_of_movies.append((a,c))\n",
    "        \n",
    "        else:\n",
    "            seen.append(c)\n",
    "            \n",
    "        \n",
    "    print list_of_movies\n",
    "        \n",
    "        \n",
    "    "
   ]
  },
  {
   "cell_type": "code",
   "execution_count": 123,
   "metadata": {},
   "outputs": [
    {
     "name": "stdout",
     "output_type": "stream",
     "text": [
      "[(5, 3)]\n"
     ]
    }
   ],
   "source": [
    "arr = [1,2,3,4,5,4]\n",
    "target = 8\n",
    "sum_of_target_int(arr, target)"
   ]
  },
  {
   "cell_type": "code",
   "execution_count": null,
   "metadata": {
    "collapsed": true
   },
   "outputs": [],
   "source": []
  },
  {
   "cell_type": "markdown",
   "metadata": {},
   "source": [
    "### cake-thief\n",
    "\n",
    "Each type of cake has a weight and a value, stored in a tuple with two indices:\n",
    "\n",
    "An integer representing the weight of the cake in kilograms\n",
    "An integer representing the monetary value of the cake in British shillings\n",
    "For example:\n",
    "\n",
    "##### Weighs 7 kilograms and has a value of 160 shillings\n",
    "(7, 160)\n",
    "\n",
    "##### Weighs 3 kilograms and has a value of 90 shillings\n",
    "(3, 90)\n",
    "\n",
    "You brought a duffel bag that can hold limited weight, and you want to make off with the most valuable haul possible.\n",
    "\n",
    "Write a function max_duffel_bag_value() that takes a list of cake type tuples and a weight capacity, and returns the maximum monetary value the duffel bag can hold.\n",
    "\n",
    "For example:\n",
    "\n",
    "  cake_tuples = [(7, 160), (3, 90), (2, 15)]\n",
    "capacity    = 20\n",
    "\n",
    "##### Returns 555 (6 of the middle type of cake and 1 of the last type of cake)\n",
    "max_duffel_bag_value(cake_tuples, capacity)\n",
    "\n",
    "Weights and values may be any non-negative integer. \n"
   ]
  },
  {
   "cell_type": "code",
   "execution_count": 177,
   "metadata": {},
   "outputs": [],
   "source": [
    "def max_duffel_bag_value(cake_tuples, capacity):\n",
    "    \n",
    "    while (0,0) in cake_tuples:\n",
    "        cake_tuples.pop(cake_tuples.index((0,0)))\n",
    "    \n",
    "    cake_tuple_with_value = [ (a[0],a[1], round(float(a[1])/a[0],2)) for a in cake_tuples]\n",
    "    \n",
    "    sorted_cake_as_value = sorted(cake_tuple_with_value, key=lambda tup: tup[2], reverse=True)\n",
    "    \n",
    "    tot_value = 0\n",
    "    \n",
    "    for cake in sorted_cake_as_value:\n",
    "     \n",
    "        i = 0\n",
    "        \n",
    "        while cake[0] <= capacity:\n",
    "            \n",
    "            capacity = capacity-cake[0]\n",
    "            i = i + 1\n",
    "            \n",
    "        tot_value = tot_value + (i*cake[1])\n",
    "    \n",
    "    print tot_value\n",
    "    "
   ]
  },
  {
   "cell_type": "code",
   "execution_count": 178,
   "metadata": {},
   "outputs": [
    {
     "name": "stdout",
     "output_type": "stream",
     "text": [
      "555\n"
     ]
    }
   ],
   "source": [
    "cake_tuples = [(7, 160), (3, 90), (2, 15)]\n",
    "capacity    = 20\n",
    "\n",
    "max_duffel_bag_value(cake_tuples , capacity)"
   ]
  },
  {
   "cell_type": "code",
   "execution_count": 179,
   "metadata": {},
   "outputs": [
    {
     "name": "stdout",
     "output_type": "stream",
     "text": [
      "0\n"
     ]
    }
   ],
   "source": [
    "# if bag capacity is 0\n",
    "cake_tuples = [(7, 160), (3, 90), (2, 15)]\n",
    "capacity    = 0\n",
    "\n",
    "max_duffel_bag_value(cake_tuples , capacity)"
   ]
  },
  {
   "cell_type": "code",
   "execution_count": 182,
   "metadata": {},
   "outputs": [
    {
     "name": "stdout",
     "output_type": "stream",
     "text": [
      "0\n"
     ]
    }
   ],
   "source": [
    "# If any of the cakes weigh 0 kg? Think about a cake whose weight and value are both 0.\n",
    "\n",
    "# Code added to remove (0,0) from tuple value\n",
    "\n",
    "cake_tuples = [(7, 160), (3, 90), (2, 15) ,(0,0)]\n",
    "capacity    = 0\n",
    "\n",
    "max_duffel_bag_value(cake_tuples , capacity)"
   ]
  },
  {
   "cell_type": "code",
   "execution_count": null,
   "metadata": {},
   "outputs": [],
   "source": []
  },
  {
   "cell_type": "markdown",
   "metadata": {},
   "source": [
    "### queue-two-stacks\n",
    "\n",
    "Implement a queue ↴ with 2 stacks. ↴ Your queue should have an enqueue and a dequeue method and it should be \"first in first out\" (FIFO).\n",
    "\n",
    "Optimize for the time cost of mm calls on your queue. These can be any mix of enqueue and dequeue calls.\n",
    "\n",
    "Assume you already have a stack implementation and it gives O(1)O(1) time push and pop."
   ]
  },
  {
   "cell_type": "code",
   "execution_count": 185,
   "metadata": {},
   "outputs": [
    {
     "ename": "SyntaxError",
     "evalue": "invalid syntax (<ipython-input-185-73965ac180c9>, line 9)",
     "output_type": "error",
     "traceback": [
      "\u001b[1;36m  File \u001b[1;32m\"<ipython-input-185-73965ac180c9>\"\u001b[1;36m, line \u001b[1;32m9\u001b[0m\n\u001b[1;33m    function Enqueue(element) {\u001b[0m\n\u001b[1;37m                   ^\u001b[0m\n\u001b[1;31mSyntaxError\u001b[0m\u001b[1;31m:\u001b[0m invalid syntax\n"
     ]
    }
   ],
   "source": [
    "# code byte solution\n",
    "# have syntax error\n",
    "\n",
    "# this will work only for 1 pop.. we need to add back to stack1 from stack2 after pop operation\n",
    "\n",
    "## implement stacks using plain arrays with push and pop functions\n",
    "Stack1 = [];\n",
    "Stack2 = [];\n",
    "\n",
    "## implement enqueue method by using only stacks\n",
    "## and the push and pop functions\n",
    "function Enqueue(element) {\n",
    "  Stack1.push(element);\n",
    "}\n",
    "\n",
    "## implement dequeue method by pushing all elements\n",
    "## from stack 1 into stack 2, which reverses the order\n",
    "## and then popping from stack 2\n",
    "function Dequeue() {\n",
    "  if (Stack2.length === 0) {\n",
    "    if (Stack1.length === 0) { return 'Cannot dequeue because queue is empty'; }\n",
    "    while (Stack1.length > 0) {\n",
    "      var p = Stack1.pop();\n",
    "      Stack2.push(p);\n",
    "    }\n",
    "  }\n",
    "  return Stack2.pop();\n",
    "}\n",
    "\n",
    "Enqueue('a');\n",
    "Enqueue('b');\n",
    "Enqueue('c');\n",
    "Dequeue(); "
   ]
  },
  {
   "cell_type": "code",
   "execution_count": null,
   "metadata": {
    "collapsed": true
   },
   "outputs": [],
   "source": []
  },
  {
   "cell_type": "markdown",
   "metadata": {},
   "source": [
    "### Problem permutation-palindrome\n",
    "\n",
    "Write an efficient function that checks whether any permutation ↴ of an input string is a palindrome. ↴\n",
    "\n",
    "You can assume the input string only contains lowercase letters.\n",
    "\n",
    "Examples:\n",
    "\n",
    "\"civic\" should return True\n",
    "\"ivicc\" should return True\n",
    "\"civil\" should return False\n",
    "\"livci\" should return False\n",
    "\"But 'ivicc' isn't a palindrome!\"\n",
    "\n",
    "If you had this thought, read the question again carefully. We're asking if any permutation of the string is a palindrome. Spend some extra time ensuring you fully understand the question before starting. Jumping in with a flawed understanding of the problem doesn't look good in an interview.\n",
    "\n"
   ]
  },
  {
   "cell_type": "markdown",
   "metadata": {},
   "source": [
    "#### Approach\n",
    "\n",
    "Breakdown\n",
    "The brute force ↴ approach would be to check every permutation of the input string to see if it is a palindrome.\n",
    "\n",
    "What would be the time cost? For a string of length n, there are n!n! permutations (nn choices for the first character, times n-1n−1 choices for the second character, etc). Checking each length-nn permutation to see if it's a palindrome involves checking each character, taking O(n)O(n) time. That gives us O(n!n)O(n!n) time overall. We can do better!\n",
    "\n",
    "Let's try rephrasing the problem. How can we tell if any permutation of a string is a palindrome?\n",
    "\n",
    "Well, how would we check that a string is a palindrome? We could use the somewhat-common \"keep two pointers\" pattern. We'd start a pointer at the beginning of the string and a pointer at the end of the string, and check that the characters at those pointers are equal as we walk both pointers towards the middle of the string.\n",
    "\n",
    "civic\n",
    "\n",
    "^   ^\n",
    "\n",
    "civic\n",
    "\n",
    " ^ ^\n",
    "\n",
    "civic\n",
    "\n",
    "  ^\n",
    "\n",
    "Can we adapt the idea behind this approach to checking if any permutation of a string is a palindrome?\n",
    "\n",
    "Notice: we're essentially checking that each character left of the middle has a corresponding copy right of the middle.\n",
    "\n",
    "We can simply check that each character appears an even number of times (unless there is a middle character, which can appear once or some other odd number of times). This ensures that the characters can be ordered so that each char on the left side of the string has a matching char on the right side of the string.\n",
    "\n",
    "But we'll need a data structure to keep track of the number of times each character appears. What should we use?\n",
    "\n",
    "We could use a dictionary ↴ . (Tip: using a dictionary is the most common way to get from a brute force approach to something more clever. It should always be your first thought.)\n",
    "\n",
    "So we’ll go through all the characters and track how many times each character appears in the input string. Then we just have to make sure no more than one of the characters appears an odd numbers of times.\n",
    "\n",
    "That will give us a runtime of O(n)O(n), which is the best we can do since we have to look at a number of characters dependent on the length of the input string.\n",
    "\n",
    "Ok, so we’ve reached our best run time. But can we still clean our solution up a little?\n",
    "\n",
    "We don’t really care how many times a character appears in the string, we just need to know whether the character appears an even or odd number of times.\n",
    "\n",
    "What if we just track whether or not each character appears an odd number of times? Then we can map characters to booleans. This will be more explicit (we don’t have to check each number’s parity, we already have booleans) and we’ll avoid the risk of integer overflow ↴ if some characters appear a high number of times.\n",
    "\n",
    "Can we take this a step further and clean it up even more?\n",
    "\n",
    "Even more specifically than whether characters appear an even or odd number of times, we really just need to know there isn’t more than one character that appears an odd number of times.\n",
    "\n",
    "What if we only track the characters that appear an odd number of times? Is there a data structure even simpler than a dictionary we could use?\n",
    "\n",
    "We could use a set, adding and removing characters as we look through the input string, so the set always only holds the characters that appear an odd number of times."
   ]
  },
  {
   "cell_type": "markdown",
   "metadata": {},
   "source": [
    "#### Solution\n",
    "\n",
    "Our approach is to check that each character appears an even number of times, allowing for only one character to appear an odd number of times (a middle character). This is enough to determine if a permutation of the input string is a palindrome.\n",
    "\n",
    "We iterate through each character in the input string, keeping track of the characters we’ve seen an odd number of times using a set unpaired_characters.\n",
    "\n",
    "As we iterate through the characters in the input string:\n",
    "\n",
    "If the character is not in unpaired_characters, we add it.\n",
    "If the character is already in unpaired_characters, we remove it.\n",
    "Finally, we just need to check if less than two characters don’t have a pair."
   ]
  },
  {
   "cell_type": "code",
   "execution_count": 187,
   "metadata": {
    "collapsed": true
   },
   "outputs": [],
   "source": [
    "def has_palindrome_permutation(the_string):\n",
    "    # Track characters we've seen an odd number of times\n",
    "    unpaired_characters = set()\n",
    "\n",
    "    for char in the_string:\n",
    "        if char in unpaired_characters:\n",
    "            unpaired_characters.remove(char)\n",
    "        else:\n",
    "            unpaired_characters.add(char)\n",
    "\n",
    "    # The string has a palindrome permutation if it\n",
    "    # has one or zero characters without a pair\n",
    "    return len(unpaired_characters) <= 1"
   ]
  },
  {
   "cell_type": "code",
   "execution_count": null,
   "metadata": {
    "collapsed": true
   },
   "outputs": [],
   "source": []
  },
  {
   "cell_type": "markdown",
   "metadata": {},
   "source": [
    "### Permutation\n",
    "\n",
    "Write a recursive function for generating all permutations of an input string. Return them as a set."
   ]
  },
  {
   "cell_type": "code",
   "execution_count": 188,
   "metadata": {
    "collapsed": true
   },
   "outputs": [],
   "source": [
    "def permute(s):\n",
    "    \n",
    "    out = []\n",
    "    \n",
    "    # Base Case\n",
    "    if len(s) == 1:\n",
    "        out = [s]\n",
    "     \n",
    "    else:\n",
    "       \n",
    "        for i, let in enumerate(s):\n",
    "            \n",
    "            #print (\"first for loop i = {}, let = {} , next string = {} \".format(i, let, s[:i] + s[i+1:]) )\n",
    "            \n",
    "            for perm  in permute(s[:i] + s[i+1:]):\n",
    "   \n",
    "                #print (\"inner for loop let = {}, perm = {} out + [let + perm] = {} \".format(let,perm, out+ [let + perm]))\n",
    "                out += [let + perm]\n",
    "\n",
    "    return out"
   ]
  },
  {
   "cell_type": "code",
   "execution_count": null,
   "metadata": {
    "collapsed": true
   },
   "outputs": [],
   "source": []
  },
  {
   "cell_type": "code",
   "execution_count": null,
   "metadata": {
    "collapsed": true
   },
   "outputs": [],
   "source": []
  },
  {
   "cell_type": "markdown",
   "metadata": {},
   "source": [
    "### top score Problem"
   ]
  },
  {
   "cell_type": "markdown",
   "metadata": {},
   "source": [
    "#### You created a game that is more popular than Angry Birds.\n",
    "\n",
    "Each round, players receive a score between 0 and 100, which you use to rank them from highest to lowest. So far you're using an algorithm that sorts in O(n\\lg{n})O(nlgn) time, but players are complaining that their rankings aren't updated fast enough. You need a faster sorting algorithm.\n",
    "\n",
    "Write a function that takes:\n",
    "\n",
    "a list of unsorted_scores\n",
    "\n",
    "the highest_possible_score in the game\n",
    "\n",
    "and returns a sorted list of scores in less than O(n\\lg{n})O(nlgn) time.\n",
    "\n",
    "unsorted_scores = [37, 89, 41, 65, 91, 53]\n",
    "\n",
    "HIGHEST_POSSIBLE_SCORE = 100\n",
    "\n",
    "\n",
    "#### Returns [91, 89, 65, 53, 41, 37]\n",
    "\n",
    "sort_scores(unsorted_scores, HIGHEST_POSSIBLE_SCORE)\n",
    "\n",
    "We’re defining nn as the number of unsorted_scores because we’re expecting the number of players to keep climbing.\n",
    "\n",
    "And, we'll treat highest_possible_score as a constant instead of factoring it into our big O time and space costs because the highest possible score isn’t going to change. Even if we do redesign the game a little, the scores will stay around the same order of magnitude.\n",
    "\n",
    "\n",
    "Breakdown\n",
    "\n",
    "O(n\\lg{n})O(nlgn) is the time to beat. Even if our list of scores were already sorted we'd have to do a full walk through the list to confirm that it was in fact fully sorted. So we have to spend at least O(n)O(n) time on our sorting function. If we're going to do better than O(n\\lg{n})O(nlgn), we're probably going to do exactly O(n)O(n).\n",
    "\n",
    "What are some common ways to get O(n)O(n) runtime?\n",
    "\n",
    "One common way to get O(n)O(n) runtime is to use a greedy algorithm. ↴ But in this case we're not looking to just grab a specific value from our input set (e.g. the \"largest\" or the \"greatest difference\")—we're looking to reorder the whole set. That doesn't lend itself as well to a greedy approach.\n",
    "\n",
    "Another common way to get O(n)O(n) runtime is to use counting. ↴ We can build a list score_counts where the indices represent scores and the values represent how many times the score appears. Once we have that, can we generate a sorted list of scores?\n",
    "\n",
    "What if we did an in-order walk through score_counts. Each index represents a score and its value represents the count of appearances. So we can simply add the score to a new list sorted_scores as many times as count of appearances.\n"
   ]
  },
  {
   "cell_type": "markdown",
   "metadata": {},
   "source": [
    "#### Solution"
   ]
  },
  {
   "cell_type": "code",
   "execution_count": 203,
   "metadata": {
    "collapsed": true
   },
   "outputs": [],
   "source": [
    "def sort_scores(unsorted_scores, highest_possible_score):\n",
    "    # List of 0s at indices 0..highest_possible_score\n",
    "    score_counts = [0] * (highest_possible_score+1)\n",
    "\n",
    "    # Populate score_counts\n",
    "    for score in unsorted_scores:\n",
    "        score_counts[score] += 1\n",
    "    \n",
    "    #print score_counts\n",
    "    \n",
    "    # Populate the final sorted list\n",
    "    sorted_scores = []\n",
    "\n",
    "    # For each item in score_counts\n",
    "    for score in xrange(len(score_counts) - 1, -1, -1):\n",
    "        count = score_counts[score]\n",
    "\n",
    "        # For the number of times the item occurs\n",
    "        for time in xrange(count):\n",
    "            # Add it to the sorted list\n",
    "            sorted_scores.append(score)\n",
    "\n",
    "    return sorted_scores"
   ]
  },
  {
   "cell_type": "code",
   "execution_count": 204,
   "metadata": {},
   "outputs": [
    {
     "data": {
      "text/plain": [
       "[91, 91, 89, 89, 65, 53, 41, 37, 37]"
      ]
     },
     "execution_count": 204,
     "metadata": {},
     "output_type": "execute_result"
    }
   ],
   "source": [
    "unsorted_scores = [37, 89, 41, 65, 91, 53,89, 37 , 91]\n",
    "highest_possible_score = 100\n",
    "\n",
    "sort_scores(unsorted_scores, highest_possible_score)\n"
   ]
  },
  {
   "cell_type": "code",
   "execution_count": null,
   "metadata": {
    "collapsed": true
   },
   "outputs": [],
   "source": []
  },
  {
   "cell_type": "markdown",
   "metadata": {},
   "source": [
    "### Permutations and n length combination"
   ]
  },
  {
   "cell_type": "markdown",
   "metadata": {},
   "source": [
    "http://code.activestate.com/recipes/190465-generator-for-permutations-combinations-selections/"
   ]
  },
  {
   "cell_type": "code",
   "execution_count": 297,
   "metadata": {},
   "outputs": [],
   "source": [
    "def xcombinations(items, n):\n",
    "    if n==0:      \n",
    "        yield []\n",
    "    else:\n",
    "        for i in xrange(len(items)):\n",
    "            for cc in xcombinations(items[:i]+items[i+1:],n-1):\n",
    "                \n",
    "                yield [items[i]]+cc\n",
    "\n",
    "def xuniqueCombinations(items, n):\n",
    "    if n==0: yield []\n",
    "    else:\n",
    "        for i in xrange(len(items)):\n",
    "            for cc in xuniqueCombinations(items[i+1:],n-1):\n",
    "                yield [items[i]]+cc\n",
    "    \n",
    "def xselections(items, n):\n",
    "    if n==0: yield []\n",
    "    else:\n",
    "        for i in xrange(len(items)):\n",
    "            for ss in xselections(items, n-1):\n",
    "                yield [items[i]]+ss\n",
    "    "
   ]
  },
  {
   "cell_type": "code",
   "execution_count": 619,
   "metadata": {
    "collapsed": true
   },
   "outputs": [
    {
     "name": "stdout",
     "output_type": "stream",
     "text": [
      "lo\n",
      "lv\n",
      "le\n",
      "ol\n",
      "ov\n",
      "oe\n",
      "vl\n",
      "vo\n",
      "ve\n",
      "el\n",
      "eo\n",
      "ev\n",
      "===================================\n",
      "lo\n",
      "lv\n",
      "le\n",
      "ov\n",
      "oe\n",
      "ve\n",
      "===================================\n",
      "ll\n",
      "lo\n",
      "lv\n",
      "le\n",
      "ol\n",
      "oo\n",
      "ov\n",
      "oe\n",
      "vl\n",
      "vo\n",
      "vv\n",
      "ve\n",
      "el\n",
      "eo\n",
      "ev\n",
      "ee\n",
      "===================================\n",
      "abc\n",
      "acb\n",
      "bac\n",
      "bca\n",
      "cab\n",
      "cba\n"
     ]
    }
   ],
   "source": [
    "\n",
    "for s in xcombinations(\"love\",2): print ''.join(s)\n",
    "print \"===================================\"\n",
    "for s in xuniqueCombinations(\"love\",2): print ''.join(s)\n",
    "print \"===================================\"\n",
    "for s in xselections(\"love\",2): print ''.join(s)\n",
    "print(\"===================================\")\n",
    "for s in xcombinations(\"abc\" , len(\"abc\")): print ''.join(s)"
   ]
  },
  {
   "cell_type": "code",
   "execution_count": null,
   "metadata": {},
   "outputs": [],
   "source": [
    "\n"
   ]
  },
  {
   "cell_type": "code",
   "execution_count": null,
   "metadata": {},
   "outputs": [],
   "source": []
  },
  {
   "cell_type": "code",
   "execution_count": null,
   "metadata": {},
   "outputs": [],
   "source": []
  },
  {
   "cell_type": "code",
   "execution_count": null,
   "metadata": {
    "collapsed": true
   },
   "outputs": [],
   "source": []
  },
  {
   "cell_type": "code",
   "execution_count": null,
   "metadata": {
    "collapsed": true
   },
   "outputs": [],
   "source": []
  },
  {
   "cell_type": "code",
   "execution_count": null,
   "metadata": {
    "collapsed": true
   },
   "outputs": [],
   "source": []
  },
  {
   "cell_type": "code",
   "execution_count": null,
   "metadata": {
    "collapsed": true
   },
   "outputs": [],
   "source": []
  },
  {
   "cell_type": "code",
   "execution_count": null,
   "metadata": {
    "collapsed": true
   },
   "outputs": [],
   "source": []
  },
  {
   "cell_type": "code",
   "execution_count": null,
   "metadata": {
    "collapsed": true
   },
   "outputs": [],
   "source": []
  },
  {
   "cell_type": "code",
   "execution_count": null,
   "metadata": {
    "collapsed": true
   },
   "outputs": [],
   "source": []
  },
  {
   "cell_type": "code",
   "execution_count": null,
   "metadata": {
    "collapsed": true
   },
   "outputs": [],
   "source": []
  }
 ],
 "metadata": {
  "kernelspec": {
   "display_name": "Python 2",
   "language": "python",
   "name": "python2"
  },
  "language_info": {
   "codemirror_mode": {
    "name": "ipython",
    "version": 2
   },
   "file_extension": ".py",
   "mimetype": "text/x-python",
   "name": "python",
   "nbconvert_exporter": "python",
   "pygments_lexer": "ipython2",
   "version": "2.7.13"
  }
 },
 "nbformat": 4,
 "nbformat_minor": 2
}
