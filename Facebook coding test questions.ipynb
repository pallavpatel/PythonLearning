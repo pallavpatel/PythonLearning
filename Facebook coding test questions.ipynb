{
 "cells": [
  {
   "cell_type": "code",
   "execution_count": 6,
   "metadata": {},
   "outputs": [
    {
     "name": "stdout",
     "output_type": "stream",
     "text": [
      "5\n",
      "5\n",
      "0\n"
     ]
    }
   ],
   "source": [
    "# Get the length of string\n",
    "\n",
    "l = [1,2,3,4,5]\n",
    "l1 = ['a' , 'b' , 'c' , 'd', 'e']\n",
    "l2 = []\n",
    "\n",
    "print len(l)\n",
    "print len(l1)\n",
    "print len(l2)"
   ]
  },
  {
   "cell_type": "code",
   "execution_count": 11,
   "metadata": {},
   "outputs": [
    {
     "name": "stdout",
     "output_type": "stream",
     "text": [
      "['this', 'is', 'sentence', 'but', 'duplicate', 'as', 'well']\n"
     ]
    }
   ],
   "source": [
    "#Find unique element from list\n",
    "\n",
    "sen = \" this is sentence but duplicate this sentence as well\"\n",
    "\n",
    "sen_list = list(sen.split())\n",
    "\n",
    "seen = []\n",
    "\n",
    "for word in sen_list:\n",
    "    if word not in seen:\n",
    "        seen.append(word)\n",
    "\n",
    "print seen"
   ]
  },
  {
   "cell_type": "code",
   "execution_count": 18,
   "metadata": {},
   "outputs": [
    {
     "name": "stdout",
     "output_type": "stream",
     "text": [
      "9\n",
      "9\n"
     ]
    }
   ],
   "source": [
    "# count number of words in sentences\n",
    "\n",
    "sen = \" this is sentence but duplicate this sentence as well\"\n",
    "\n",
    "sen_list = sen.split()\n",
    "print len(sen_list)\n",
    "\n",
    "# Alternate method\n",
    "counter = 0\n",
    "\n",
    "for word in sen_list:\n",
    "    counter += 1\n",
    "    \n",
    "print counter"
   ]
  },
  {
   "cell_type": "code",
   "execution_count": 1,
   "metadata": {},
   "outputs": [
    {
     "name": "stdout",
     "output_type": "stream",
     "text": [
      "{'sentence': 2, 'this': 2, 'is': 1, 'well': 1, 'duplicate': 1, 'but': 1, 'as': 1}\n"
     ]
    }
   ],
   "source": [
    "#count frequency of words in list\n",
    "\n",
    "sen = \" this is sentence but duplicate this sentence as well\"\n",
    "count = {}\n",
    "sen_list = sen.split()\n",
    "\n",
    "for word in sen_list:\n",
    "    \n",
    "    if word in count:\n",
    "        count[word] += 1\n",
    "    else:\n",
    "        count[word] = 1\n",
    "    \n",
    "print count\n"
   ]
  },
  {
   "cell_type": "code",
   "execution_count": 3,
   "metadata": {},
   "outputs": [
    {
     "name": "stdout",
     "output_type": "stream",
     "text": [
      "95\n",
      "95\n"
     ]
    }
   ],
   "source": [
    "# Find max element from list\n",
    "\n",
    "l1 = [3,6,9,1,67,34,23,95,35]\n",
    "\n",
    "#print max(l1)\n",
    "#########\n",
    "l1.sort()\n",
    "print l1[-1]\n",
    "#######\n",
    "max1 = l1[0]\n",
    "\n",
    "for a in l1:\n",
    "    if a > max1:\n",
    "        max1 = a\n",
    "    \n",
    "print max1"
   ]
  },
  {
   "cell_type": "code",
   "execution_count": 2,
   "metadata": {},
   "outputs": [
    {
     "name": "stdout",
     "output_type": "stream",
     "text": [
      "16\n"
     ]
    }
   ],
   "source": [
    "# Find median of given list\n",
    "\n",
    "l1 = [3,6,9,1,67,34,23,95,35]\n",
    "l1 = [3,6,9,1,67,34,23,35]\n",
    "\n",
    "l1.sort()\n",
    "\n",
    "if len(l1) % 2 == 1:\n",
    "    med = l1[len(l1)/2 ]\n",
    "else:\n",
    "    med = ( l1[(len(l1)/2)-1]  + l1[(len(l1)/2)] ) / 2 \n",
    "\n",
    "print med"
   ]
  },
  {
   "cell_type": "code",
   "execution_count": 3,
   "metadata": {},
   "outputs": [
    {
     "data": {
      "text/plain": [
       "9"
      ]
     },
     "execution_count": 3,
     "metadata": {},
     "output_type": "execute_result"
    }
   ],
   "source": [
    "# first non recurring element from list\n",
    "\n",
    "l = [3,6,9,1,67,34,23,35,6,3,67,34]\n",
    "\n",
    "[a for a in l if l.count(a) == 1][0]"
   ]
  },
  {
   "cell_type": "code",
   "execution_count": 111,
   "metadata": {},
   "outputs": [
    {
     "name": "stdout",
     "output_type": "stream",
     "text": [
      "6\n"
     ]
    }
   ],
   "source": [
    "# Most recurring element\n",
    "\n",
    "l = [3,6,9,1,67,34,23,35,6,3,67,34,1,6,1,6,1,6,1,6,6]\n",
    "\n",
    "counter = {}\n",
    "\n",
    "for a in l:\n",
    "    if a in counter:\n",
    "        counter[a] += 1\n",
    "    else:\n",
    "        counter[a] = 1\n",
    "\n",
    "max1 = 0\n",
    "for key, value in counter.items():\n",
    "    \n",
    "    if value > max1:\n",
    "        max1 = value\n",
    "        max_recurring_ele = key\n",
    "\n",
    "\n",
    "print max_recurring_ele\n",
    "\n"
   ]
  },
  {
   "cell_type": "code",
   "execution_count": 4,
   "metadata": {
    "collapsed": true
   },
   "outputs": [],
   "source": [
    "# gretest common factor\n",
    "\n",
    "\n",
    "def gcd(a,b):\n",
    "    \n",
    "    if a > b:\n",
    "        c = a-b\n",
    "        gcd(b,c)\n",
    "    elif a < b:\n",
    "        c = b-a\n",
    "        gcd(a,c)\n",
    "    else:\n",
    "        print a\n",
    "    "
   ]
  },
  {
   "cell_type": "code",
   "execution_count": 5,
   "metadata": {},
   "outputs": [
    {
     "name": "stdout",
     "output_type": "stream",
     "text": [
      "5\n"
     ]
    }
   ],
   "source": [
    "gcd(10,15)"
   ]
  },
  {
   "cell_type": "code",
   "execution_count": 65,
   "metadata": {},
   "outputs": [
    {
     "name": "stdout",
     "output_type": "stream",
     "text": [
      "[3, 9, 18, 19, 86, 120, 143, 178, 184, 187, 254, 288, 289, 295, 296, 302, 303, 309, 310, 316, 322]\n"
     ]
    }
   ],
   "source": [
    "# cumulative sum of element in new list\n",
    "\n",
    "l = [3,6,9,1,67,34,23,35,6,3,67,34,1,6,1,6,1,6,1,6,6]\n",
    "l2 = []\n",
    "total = 0\n",
    "for a in l:\n",
    "    total = total + a\n",
    "    l2.append(total)\n",
    "    \n",
    "print l2\n"
   ]
  },
  {
   "cell_type": "code",
   "execution_count": 69,
   "metadata": {},
   "outputs": [
    {
     "data": {
      "text/plain": [
       "[1, 0, 0, 2, 0, 4]"
      ]
     },
     "execution_count": 69,
     "metadata": {},
     "output_type": "execute_result"
    }
   ],
   "source": [
    "# write a function that takes number and return list of digit\n",
    "\n",
    "a = 100204\n",
    "[int(let) for let in str(a)]"
   ]
  },
  {
   "cell_type": "code",
   "execution_count": 2,
   "metadata": {},
   "outputs": [
    {
     "name": "stdout",
     "output_type": "stream",
     "text": [
      "1 67\n",
      "1 67\n"
     ]
    }
   ],
   "source": [
    "# Find max and min from list of elements\n",
    "l = [3,6,9,1,67,34,23,35,6,3,67,34,1,6,1,6,1,6,1,6,6]\n",
    "\n",
    "l.sort()\n",
    "print l[0] , l[-1]\n",
    "\n",
    "#======================\n",
    "\n",
    "max_ele = l[0]\n",
    "min_ele = l[0]\n",
    "\n",
    "for a in l:\n",
    "    if a > max_ele:\n",
    "        max_ele = a\n",
    "    \n",
    "    if a < min_ele:\n",
    "        min_ele = a\n",
    "        \n",
    "print min_ele , max_ele\n",
    "\n"
   ]
  },
  {
   "cell_type": "code",
   "execution_count": 1,
   "metadata": {},
   "outputs": [
    {
     "name": "stdout",
     "output_type": "stream",
     "text": [
      "[(3, 5), (2, 6), (1, 7), (4, 4)]\n"
     ]
    }
   ],
   "source": [
    "#find sum of any 2 numbers in list is eual to given number\n",
    "\n",
    "a = [1,2,3,4,5,6,7,4]\n",
    "target = 8\n",
    "\n",
    "out_put = []\n",
    "seen = []\n",
    "\n",
    "for ele in a:\n",
    "    c = target - ele\n",
    "    if c in seen:\n",
    "        min_ele = min(ele , c)\n",
    "        max_ele = max(ele , c)\n",
    "        out_put.append((min_ele,max_ele))\n",
    "    else:\n",
    "        seen.append(ele)\n",
    "print out_put"
   ]
  },
  {
   "cell_type": "code",
   "execution_count": null,
   "metadata": {
    "collapsed": true
   },
   "outputs": [],
   "source": []
  },
  {
   "cell_type": "code",
   "execution_count": 11,
   "metadata": {},
   "outputs": [
    {
     "name": "stdout",
     "output_type": "stream",
     "text": [
      "True\n"
     ]
    }
   ],
   "source": [
    "# check if string are anagram\n",
    "\n",
    "\n",
    "str1 = \"a bcd\"\n",
    "\n",
    "str2 = \"dcba \"\n",
    "\n",
    "if sorted(str1.lower()) == sorted(str2.lower()):\n",
    "    print True\n",
    "else:\n",
    "    print False\n"
   ]
  },
  {
   "cell_type": "code",
   "execution_count": 14,
   "metadata": {
    "collapsed": true
   },
   "outputs": [],
   "source": [
    "# Find next smallest palindrom  number\n",
    "\n",
    "def next_palindrom(a):\n",
    "    a = int(a) +1\n",
    "    \n",
    "    while True:\n",
    "        if a == int(str(a)[::-1]):\n",
    "            print \"next palindrom number is \", a\n",
    "            return True\n",
    "        else:\n",
    "            a = a+1\n",
    "    "
   ]
  },
  {
   "cell_type": "code",
   "execution_count": 20,
   "metadata": {},
   "outputs": [
    {
     "name": "stdout",
     "output_type": "stream",
     "text": [
      "next palindrom number is  4325234\n"
     ]
    },
    {
     "data": {
      "text/plain": [
       "True"
      ]
     },
     "execution_count": 20,
     "metadata": {},
     "output_type": "execute_result"
    }
   ],
   "source": [
    "next_palindrom(4324247)"
   ]
  },
  {
   "cell_type": "code",
   "execution_count": 28,
   "metadata": {
    "collapsed": true
   },
   "outputs": [],
   "source": [
    "# check if ip address is valid or not\n",
    "\n",
    "def validate_ip(s):\n",
    "    a = s.split('.')\n",
    "    #print a\n",
    "    if len(a) != 4:\n",
    "        return False\n",
    "    for x in a:\n",
    "        if not x.isdigit():\n",
    "            return False\n",
    "        i = int(x)\n",
    "        if i < 0 or i > 255:\n",
    "            return False\n",
    "    return True"
   ]
  },
  {
   "cell_type": "code",
   "execution_count": 29,
   "metadata": {},
   "outputs": [
    {
     "name": "stdout",
     "output_type": "stream",
     "text": [
      "['255', '23', '56', '99']\n"
     ]
    },
    {
     "data": {
      "text/plain": [
       "True"
      ]
     },
     "execution_count": 29,
     "metadata": {},
     "output_type": "execute_result"
    }
   ],
   "source": [
    "validate_ip(\"255.23.56.99\")"
   ]
  },
  {
   "cell_type": "code",
   "execution_count": 53,
   "metadata": {
    "collapsed": true
   },
   "outputs": [],
   "source": [
    "# Find the minimum absolute difference between the set of elements of an array\n",
    "\n",
    "\"\"\"Input  : {1, 5, 3, 19, 18, 25};\n",
    "Output : 1\n",
    "Minimum difference is between 18 and 19\n",
    "\n",
    "Input  : {30, 5, 20, 9};\n",
    "Output : 4\n",
    "Minimum difference is between 5 and 9\n",
    "\n",
    "Input  : {1, 19, -4, 31, 38, 25, 100};\n",
    "Output : 5\n",
    "Minimum difference is between 1 and -4\n",
    "\"\"\"\n",
    "\n",
    "def min_abs_diff(a):\n",
    "    \n",
    "    a = list(a)\n",
    "    a.sort()\n",
    "    min_diff = abs(a[1]-a[0])\n",
    "    \n",
    "    for i in range(len(a)-1):\n",
    "        if i >= 1: \n",
    "            min_diff = min(min_diff , abs(a[i] - a[i-1]))\n",
    "    print min_diff\n",
    "            \n",
    "    "
   ]
  },
  {
   "cell_type": "code",
   "execution_count": 55,
   "metadata": {},
   "outputs": [
    {
     "name": "stdout",
     "output_type": "stream",
     "text": [
      "5\n"
     ]
    }
   ],
   "source": [
    "min_abs_diff({1, 19, -4, 31, 38, 25, 100})"
   ]
  },
  {
   "cell_type": "code",
   "execution_count": 56,
   "metadata": {
    "collapsed": true
   },
   "outputs": [],
   "source": [
    "# Count the number of times a substring appear in a string\n",
    "def count_substring(string, sub_string):\n",
    "\n",
    "    length = len(string)\n",
    "    counter = 0\n",
    "    for i in range(length):\n",
    "        for j in range(length):\n",
    "            if string[i:j+1] == sub_string:\n",
    "                counter +=1\n",
    "    return counter\n"
   ]
  },
  {
   "cell_type": "code",
   "execution_count": null,
   "metadata": {
    "collapsed": true
   },
   "outputs": [],
   "source": [
    "def count_substring1(string, sub_string):\n",
    "    counter = 0\n",
    "    i = j = 0\n",
    "    while i <= len(string)-1:\n",
    "        while j <= len(string)-1:\n",
    "            if string[i:j+1] == sub_string:\n",
    "                #print i, j\n",
    "                counter = counter + 1\n",
    "                i = j+1\n",
    "                j = i\n",
    "            else:\n",
    "                j = j +1\n",
    "        i = i+1\n",
    "    print counter\n",
    "\n",
    "count_substring1('aaaaaaaaaaaaaaa', 'aaa')"
   ]
  },
  {
   "cell_type": "code",
   "execution_count": 61,
   "metadata": {},
   "outputs": [
    {
     "name": "stdout",
     "output_type": "stream",
     "text": [
      "2\n",
      "3\n"
     ]
    }
   ],
   "source": [
    "# Alternate approach\n",
    "\n",
    "nStr = '000123000123'\n",
    "print nStr.count('123')\n",
    "\n",
    "nStr = 'aaaaaaaaaaa'\n",
    "print nStr.count('aaa')"
   ]
  },
  {
   "cell_type": "code",
   "execution_count": 66,
   "metadata": {
    "collapsed": true
   },
   "outputs": [],
   "source": [
    "# Find square root\n",
    "\n",
    "def sqrt_num(k):\n",
    "    if k <= 0:\n",
    "        print(\"invalid number\")\n",
    "    for a in range(int(k/2)):\n",
    "        if a*a == k :\n",
    "            return a\n",
    "        if a*a > k:\n",
    "            return a-1\n",
    "\n",
    "def find_sqrt(n):\n",
    "    if n < 0:\n",
    "        print(\"invalid number..\")\n",
    "    if n == 1:\n",
    "        return 1\n",
    "    for a in range(1+n/2):\n",
    "        if a*a == n:\n",
    "            return a\n",
    "        if a*a > n:\n",
    "            return a-1\n"
   ]
  },
  {
   "cell_type": "code",
   "execution_count": null,
   "metadata": {
    "collapsed": true
   },
   "outputs": [],
   "source": []
  }
 ],
 "metadata": {
  "kernelspec": {
   "display_name": "Python 2",
   "language": "python",
   "name": "python2"
  },
  "language_info": {
   "codemirror_mode": {
    "name": "ipython",
    "version": 2
   },
   "file_extension": ".py",
   "mimetype": "text/x-python",
   "name": "python",
   "nbconvert_exporter": "python",
   "pygments_lexer": "ipython2",
   "version": "2.7.13"
  }
 },
 "nbformat": 4,
 "nbformat_minor": 2
}
