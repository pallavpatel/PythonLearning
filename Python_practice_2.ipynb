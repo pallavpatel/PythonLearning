{
 "cells": [
  {
   "cell_type": "markdown",
   "metadata": {},
   "source": [
    "## Trading Apple stocks\n",
    "\n",
    "First, I wanna know how much money I could have made yesterday if I'd been trading Apple stocks all day.\n",
    "\n",
    "So I grabbed Apple's stock prices from yesterday and put them in a list called stock_prices, where:\n",
    "\n",
    "The indices are the time (in minutes) past trade opening time, which was 9:30am local time.\n",
    "The values are the price (in US dollars) of one share of Apple stock at that time.\n",
    "So if the stock cost $500 at 10:30am, that means stock_prices[60] = 500.\n",
    "\n",
    "Write an efficient function that takes stock_prices and returns the best profit I could have made from one purchase and one sale of one share of Apple stock yesterday.\n",
    "\n",
    "For example:\n",
    "\n",
    "  stock_prices = [10, 7, 5, 8, 11, 9]\n",
    "\n",
    "get_max_profit(stock_prices)\n",
    "#### Returns 6 (buying for $5 and selling for $11)\n",
    "\n",
    "No \"shorting\"—you need to buy before you can sell. Also, you can't buy and sell in the same time step—at least 1 minute has to pass.\n",
    "\n",
    "Gotchas\n",
    "You can't just take the difference between the highest price and the lowest price, because the highest price might come before the lowest price. And you have to buy before you can sell.\n",
    "\n",
    "What if the price goes down all day? In that case, the best profit will be negative.\n",
    "\n",
    "You can do this in O(n)O(n) time and O(1)O(1) space! ↴"
   ]
  },
  {
   "cell_type": "code",
   "execution_count": 39,
   "metadata": {},
   "outputs": [],
   "source": [
    "#moving across stock price only 1 time\n",
    "\n",
    "def get_max_profit(stock_prices):\n",
    "    \n",
    "    if len(stock_prices) < 2:\n",
    "        print (\"Need atleast 2 prices\")\n",
    "    \n",
    "    min_buy = stock_prices[0]\n",
    "    \n",
    "    max_profit = stock_prices[1] - stock_prices[0]\n",
    "    \n",
    "    for price in stock_prices[1:]:\n",
    "        \n",
    "        curr_profit = price - min_buy\n",
    "        max_profit = max(curr_profit, max_profit) \n",
    "        min_buy = min(min_buy,price)\n",
    "    \n",
    "            \n",
    "    print max_profit    \n",
    "    "
   ]
  },
  {
   "cell_type": "code",
   "execution_count": 40,
   "metadata": {},
   "outputs": [
    {
     "name": "stdout",
     "output_type": "stream",
     "text": [
      "6\n"
     ]
    }
   ],
   "source": [
    "stock_prices = [10, 7, 5, 8, 11, 9]\n",
    "get_max_profit(stock_prices)"
   ]
  },
  {
   "cell_type": "code",
   "execution_count": 41,
   "metadata": {},
   "outputs": [
    {
     "name": "stdout",
     "output_type": "stream",
     "text": [
      "-1\n"
     ]
    }
   ],
   "source": [
    "stock_prices = [10, 7, 5, 3, 2, 0]\n",
    "get_max_profit(stock_prices)"
   ]
  },
  {
   "cell_type": "code",
   "execution_count": 42,
   "metadata": {},
   "outputs": [
    {
     "name": "stdout",
     "output_type": "stream",
     "text": [
      "7\n"
     ]
    }
   ],
   "source": [
    "stock_prices = [23,12,3,10]\n",
    "get_max_profit(stock_prices)"
   ]
  },
  {
   "cell_type": "code",
   "execution_count": null,
   "metadata": {
    "collapsed": true
   },
   "outputs": [],
   "source": []
  },
  {
   "cell_type": "markdown",
   "metadata": {},
   "source": [
    "### find the product of every integer except the integer at that index.\n",
    "\n",
    "Write a function get_products_of_all_ints_except_at_index() that takes a list of integers and returns a list of the products.\n",
    "\n",
    "For example, given:\n",
    "\n",
    "  [1, 7, 3, 4]\n",
    "\n",
    "your function would return:\n",
    "\n",
    "  [84, 12, 28, 21]\n",
    "\n",
    "by calculating:\n",
    "\n",
    "  [7 * 3 * 4,  1 * 3 * 4,  1 * 7 * 4,  1 * 7 * 3]\n",
    "\n",
    "#### Here's the catch: You can't use division in your solution!\n",
    "\n",
    "Does your function work if the input list contains zeroes? Remember—no division.\n",
    "\n",
    "We can do this in O(n)O(n) time and O(n)O(n) space!"
   ]
  },
  {
   "cell_type": "code",
   "execution_count": 55,
   "metadata": {},
   "outputs": [],
   "source": [
    "def get_products_of_all_ints_except_at_index(arr):\n",
    "    \n",
    "    prod_till_index = 1\n",
    "    prod_next_nums = 1\n",
    "    output= []\n",
    "    if len(arr) == 1:\n",
    "        print \"need more then 1 elements\"\n",
    "    \n",
    "    for i, a in enumerate(arr):\n",
    "        \n",
    "        if i == 0:\n",
    "            pass\n",
    "        else:\n",
    "            prod_till_index = prod_till_index*arr[i-1]\n",
    "            \n",
    "        prod_next_nums = 1\n",
    "        for b in arr[i+1:]:\n",
    "            prod_next_nums = prod_next_nums*b\n",
    "        \n",
    "        output.append(prod_till_index*prod_next_nums)\n",
    "    \n",
    "    print output"
   ]
  },
  {
   "cell_type": "code",
   "execution_count": 56,
   "metadata": {},
   "outputs": [
    {
     "name": "stdout",
     "output_type": "stream",
     "text": [
      "[84, 12, 28, 21]\n"
     ]
    }
   ],
   "source": [
    "arr = [1, 7, 3, 4]\n",
    "get_products_of_all_ints_except_at_index(arr)"
   ]
  },
  {
   "cell_type": "code",
   "execution_count": 57,
   "metadata": {},
   "outputs": [
    {
     "name": "stdout",
     "output_type": "stream",
     "text": [
      "[24, 12, 8, 6]\n"
     ]
    }
   ],
   "source": [
    "arr = [1, 2, 3, 4]\n",
    "get_products_of_all_ints_except_at_index(arr)"
   ]
  },
  {
   "cell_type": "code",
   "execution_count": 69,
   "metadata": {
    "collapsed": true
   },
   "outputs": [],
   "source": [
    "# this is right solution as per efficiency\n",
    "\n",
    "def get_products_of_all_ints_except_at_index2(arr):\n",
    "    \n",
    "    output = [None]*len(arr)\n",
    "    product = 1\n",
    "    \n",
    "    for i, num in enumerate(arr):\n",
    "        output[i] = product\n",
    "        product = product*arr[i]\n",
    "    \n",
    "    product = 1\n",
    "    \n",
    "    i = len(arr)-1\n",
    "    \n",
    "    while i >= 0:\n",
    "        \n",
    "        output[i] = output[i]*product\n",
    "        product = product* arr[i]\n",
    "        i = i-1\n",
    "    \n",
    "    print output\n",
    "    "
   ]
  },
  {
   "cell_type": "code",
   "execution_count": 70,
   "metadata": {},
   "outputs": [
    {
     "name": "stdout",
     "output_type": "stream",
     "text": [
      "[84, 12, 28, 21]\n"
     ]
    }
   ],
   "source": [
    "arr = [1, 7, 3, 4]\n",
    "get_products_of_all_ints_except_at_index2(arr)"
   ]
  },
  {
   "cell_type": "code",
   "execution_count": 71,
   "metadata": {},
   "outputs": [
    {
     "name": "stdout",
     "output_type": "stream",
     "text": [
      "[24, 12, 8, 6]\n"
     ]
    }
   ],
   "source": [
    "arr = [1, 2, 3, 4]\n",
    "get_products_of_all_ints_except_at_index2(arr)"
   ]
  },
  {
   "cell_type": "markdown",
   "metadata": {},
   "source": [
    "### Problem\n",
    "Given two rectangles, determine if they overlap. The rectangles are defined as a Dictionary, for example:\n",
    "\n",
    "r1 = {\n",
    "    \n",
    "         # x and y coordinates of the bottom-left corner of the rectangle\n",
    "         'x': 2 , 'y': 4,\n",
    "         \n",
    "         # Width and Height of rectangle\n",
    "         'w':5,'h':12}\n",
    "If the rectangles do overlap, return the dictionary which describes the overlapping section\n",
    "\n",
    "Requirements\n",
    "Make sure the dictionary you output is in the same form as the input."
   ]
  },
  {
   "cell_type": "code",
   "execution_count": 73,
   "metadata": {
    "collapsed": true
   },
   "outputs": [],
   "source": [
    "def calc_overlap(coor1, dim1, coor2, dim2):\n",
    "    \n",
    "    greater = max(coor1, coor2)\n",
    "    \n",
    "    lower = min(coor1+dim1, coor2+dim2)\n",
    "    \n",
    "    if greater >= lower:\n",
    "        return(None, None)\n",
    "    \n",
    "    overlap = lower-greater\n",
    "    \n",
    "    return (greater, overlap)\n",
    "    "
   ]
  },
  {
   "cell_type": "code",
   "execution_count": 78,
   "metadata": {},
   "outputs": [],
   "source": [
    "def calc_rect_overlap(r1,r2):\n",
    "    \n",
    "    x1_overlap, width = calc_overlap (r1['x'] , r1['w'] , r2['x'] , r2['w'])\n",
    "    \n",
    "    y1_overlap, height = calc_overlap (r1['y'] , r1['h'] , r2['y'] , r2['h'])\n",
    "    \n",
    "    if not width and not height:\n",
    "        print(\" No overlap\")\n",
    "        return\n",
    "    \n",
    "    return {'x': x1_overlap, \n",
    "            'y': y1_overlap,\n",
    "            'w': width,\n",
    "            'h': height}\n",
    "    \n",
    "    "
   ]
  },
  {
   "cell_type": "code",
   "execution_count": 79,
   "metadata": {
    "collapsed": true
   },
   "outputs": [],
   "source": [
    "r1 = {'x': 2 , 'y': 4,\n",
    "     'w':5,'h':12}\n",
    "\n",
    "r2 = {'x': 1 , 'y': 5,\n",
    "     'w':7,'h':14}"
   ]
  },
  {
   "cell_type": "code",
   "execution_count": 80,
   "metadata": {},
   "outputs": [
    {
     "name": "stdout",
     "output_type": "stream",
     "text": [
      "{'y': 5, 'x': 2, 'w': 5, 'h': 11}\n"
     ]
    }
   ],
   "source": [
    "print calc_rect_overlap(r1,r2)"
   ]
  },
  {
   "cell_type": "markdown",
   "metadata": {},
   "source": [
    "### Write a function to reverse string using recusrsion"
   ]
  },
  {
   "cell_type": "code",
   "execution_count": 88,
   "metadata": {
    "collapsed": true
   },
   "outputs": [],
   "source": [
    "def reverse_string(s):\n",
    "    \n",
    "    if len(s) <= 1:\n",
    "        return s\n",
    "    else:\n",
    "        return s[-1] + reverse_string(s[:-1])\n",
    "    \n",
    "    \n",
    "            "
   ]
  },
  {
   "cell_type": "code",
   "execution_count": 89,
   "metadata": {},
   "outputs": [
    {
     "data": {
      "text/plain": [
       "'cba'"
      ]
     },
     "execution_count": 89,
     "metadata": {},
     "output_type": "execute_result"
    }
   ],
   "source": [
    "reverse_string(\"abc\")"
   ]
  },
  {
   "cell_type": "markdown",
   "metadata": {},
   "source": [
    "\n",
    "### Problem\n",
    "Given a list of integers, find the largest product you could make from 3 integers in the list\n",
    "\n",
    "Requirements\n",
    "You can assume that the list will always have at least 3 integers"
   ]
  },
  {
   "cell_type": "code",
   "execution_count": 94,
   "metadata": {
    "collapsed": true
   },
   "outputs": [],
   "source": [
    "def max_prod_of_3_num(arr):\n",
    "    \n",
    "    if len(arr) < 3:\n",
    "        print(\"must be 3 values\")\n",
    "        return\n",
    "    \n",
    "    if len(arr) == 3:\n",
    "        return arr[0]*arr[1]*arr[2]\n",
    "    \n",
    "    high = max(arr[0] , arr[1])\n",
    "    low = min(arr[0] , arr[1])\n",
    "    \n",
    "    high_prod = arr[0]*arr[1]\n",
    "    low_prod = arr[0]*arr[1]\n",
    "    \n",
    "    high_prod_3 = arr[0]*arr[1]*arr[2]\n",
    "    \n",
    "    for num in arr[2:]:\n",
    "        high_prod_3 = max(high_prod_3, high_prod*num, low_prod*num)\n",
    "        \n",
    "        high_prod = max(high_prod , num*high, num*low)\n",
    "        low_prod - min(low_prod , num*high , num*low)\n",
    "        \n",
    "        high = max(high, num)\n",
    "        low = min(low, num)\n",
    "    \n",
    "    print high_prod_3\n",
    "    "
   ]
  },
  {
   "cell_type": "code",
   "execution_count": 95,
   "metadata": {},
   "outputs": [
    {
     "name": "stdout",
     "output_type": "stream",
     "text": [
      "56100\n",
      "228000\n",
      "must be 3 values\n"
     ]
    }
   ],
   "source": [
    "a = [3,5,8,2,10,34,66,25,10,6]\n",
    "b = [-300,-10,-10,76,57,6,5,6,7, 1,3,2]\n",
    "c = [1,2]\n",
    "\n",
    "\n",
    "max_prod_of_3_num(a)\n",
    "max_prod_of_3_num(b)\n",
    "max_prod_of_3_num(c)"
   ]
  },
  {
   "cell_type": "markdown",
   "metadata": {},
   "source": [
    "\n",
    "### Problem\n",
    "Write a function that given a target amount of money and a list of possible coin denominations, returns the number of ways to make change for the target amount using the coin denominations"
   ]
  },
  {
   "cell_type": "code",
   "execution_count": 116,
   "metadata": {
    "collapsed": true
   },
   "outputs": [],
   "source": [
    "def solution(n, coins):\n",
    "    arr = [1] + [0]*n\n",
    "   \n",
    "    \n",
    "    for coin in coins:\n",
    "        print \"coin = \", coin\n",
    "        for i in range(coin, n+1):\n",
    "            print(\"i = {}, coin = {}, arr[i] = {}, arr[i] + arr[i-coin] ={} \".format(i,coin,arr[i], arr[i] + arr[i-coin]))\n",
    "            arr[i] = arr[i] + arr[i-coin]\n",
    "            print(\"arr is now\", arr)\n",
    "    if n == 0:\n",
    "        return 0\n",
    "    \n",
    "    else:\n",
    "        return arr[n]\n",
    "        "
   ]
  },
  {
   "cell_type": "code",
   "execution_count": 118,
   "metadata": {},
   "outputs": [
    {
     "name": "stdout",
     "output_type": "stream",
     "text": [
      "coin =  5\n",
      "i = 5, coin = 5, arr[i] = 0, arr[i] + arr[i-coin] =1 \n",
      "('arr is now', [1, 0, 0, 0, 0, 1, 0, 0, 0, 0, 0, 0, 0, 0, 0, 0])\n",
      "i = 6, coin = 5, arr[i] = 0, arr[i] + arr[i-coin] =0 \n",
      "('arr is now', [1, 0, 0, 0, 0, 1, 0, 0, 0, 0, 0, 0, 0, 0, 0, 0])\n",
      "i = 7, coin = 5, arr[i] = 0, arr[i] + arr[i-coin] =0 \n",
      "('arr is now', [1, 0, 0, 0, 0, 1, 0, 0, 0, 0, 0, 0, 0, 0, 0, 0])\n",
      "i = 8, coin = 5, arr[i] = 0, arr[i] + arr[i-coin] =0 \n",
      "('arr is now', [1, 0, 0, 0, 0, 1, 0, 0, 0, 0, 0, 0, 0, 0, 0, 0])\n",
      "i = 9, coin = 5, arr[i] = 0, arr[i] + arr[i-coin] =0 \n",
      "('arr is now', [1, 0, 0, 0, 0, 1, 0, 0, 0, 0, 0, 0, 0, 0, 0, 0])\n",
      "i = 10, coin = 5, arr[i] = 0, arr[i] + arr[i-coin] =1 \n",
      "('arr is now', [1, 0, 0, 0, 0, 1, 0, 0, 0, 0, 1, 0, 0, 0, 0, 0])\n",
      "i = 11, coin = 5, arr[i] = 0, arr[i] + arr[i-coin] =0 \n",
      "('arr is now', [1, 0, 0, 0, 0, 1, 0, 0, 0, 0, 1, 0, 0, 0, 0, 0])\n",
      "i = 12, coin = 5, arr[i] = 0, arr[i] + arr[i-coin] =0 \n",
      "('arr is now', [1, 0, 0, 0, 0, 1, 0, 0, 0, 0, 1, 0, 0, 0, 0, 0])\n",
      "i = 13, coin = 5, arr[i] = 0, arr[i] + arr[i-coin] =0 \n",
      "('arr is now', [1, 0, 0, 0, 0, 1, 0, 0, 0, 0, 1, 0, 0, 0, 0, 0])\n",
      "i = 14, coin = 5, arr[i] = 0, arr[i] + arr[i-coin] =0 \n",
      "('arr is now', [1, 0, 0, 0, 0, 1, 0, 0, 0, 0, 1, 0, 0, 0, 0, 0])\n",
      "i = 15, coin = 5, arr[i] = 0, arr[i] + arr[i-coin] =1 \n",
      "('arr is now', [1, 0, 0, 0, 0, 1, 0, 0, 0, 0, 1, 0, 0, 0, 0, 1])\n",
      "coin =  10\n",
      "i = 10, coin = 10, arr[i] = 1, arr[i] + arr[i-coin] =2 \n",
      "('arr is now', [1, 0, 0, 0, 0, 1, 0, 0, 0, 0, 2, 0, 0, 0, 0, 1])\n",
      "i = 11, coin = 10, arr[i] = 0, arr[i] + arr[i-coin] =0 \n",
      "('arr is now', [1, 0, 0, 0, 0, 1, 0, 0, 0, 0, 2, 0, 0, 0, 0, 1])\n",
      "i = 12, coin = 10, arr[i] = 0, arr[i] + arr[i-coin] =0 \n",
      "('arr is now', [1, 0, 0, 0, 0, 1, 0, 0, 0, 0, 2, 0, 0, 0, 0, 1])\n",
      "i = 13, coin = 10, arr[i] = 0, arr[i] + arr[i-coin] =0 \n",
      "('arr is now', [1, 0, 0, 0, 0, 1, 0, 0, 0, 0, 2, 0, 0, 0, 0, 1])\n",
      "i = 14, coin = 10, arr[i] = 0, arr[i] + arr[i-coin] =0 \n",
      "('arr is now', [1, 0, 0, 0, 0, 1, 0, 0, 0, 0, 2, 0, 0, 0, 0, 1])\n",
      "i = 15, coin = 10, arr[i] = 1, arr[i] + arr[i-coin] =2 \n",
      "('arr is now', [1, 0, 0, 0, 0, 1, 0, 0, 0, 0, 2, 0, 0, 0, 0, 2])\n"
     ]
    },
    {
     "data": {
      "text/plain": [
       "2"
      ]
     },
     "execution_count": 118,
     "metadata": {},
     "output_type": "execute_result"
    }
   ],
   "source": [
    "solution(15, [5,10])"
   ]
  },
  {
   "cell_type": "markdown",
   "metadata": {},
   "source": [
    "### Problem\n",
    "Given a list of integers and a target number, write a function that returns a boolean indicating if its possible to sum two integers from the list to reach the target number\n",
    "\n",
    "Requirements\n",
    "Try pen/paper before coding out your solution\n",
    "\n",
    "You can not use an integer element twice. Optimize for time over space"
   ]
  },
  {
   "cell_type": "code",
   "execution_count": 119,
   "metadata": {
    "collapsed": true
   },
   "outputs": [],
   "source": [
    "def sum_of_target_int(arr, target):\n",
    "    seen = []\n",
    "    \n",
    "    for a in arr:\n",
    "        \n",
    "        if a in seen:\n",
    "            return True\n",
    "        else:\n",
    "            c = target-a\n",
    "            if c != a:\n",
    "                seen.append(c)\n",
    "    return False\n",
    "            "
   ]
  },
  {
   "cell_type": "code",
   "execution_count": 125,
   "metadata": {},
   "outputs": [
    {
     "data": {
      "text/plain": [
       "True"
      ]
     },
     "execution_count": 125,
     "metadata": {},
     "output_type": "execute_result"
    }
   ],
   "source": [
    "arr = [1,2,3,4,5]\n",
    "target = 7\n",
    "sum_of_target_int(arr, target)"
   ]
  },
  {
   "cell_type": "markdown",
   "metadata": {},
   "source": [
    "### Problem\n",
    "Given a list of account ID numbers (integers) which contains duplicates , find the one unique integer. (the list is guaranteed to only have one unique (non-duplicated) integer\n",
    "\n",
    "exm : \n",
    "\n",
    "arr = [1,1,2,2,3,4,5,3,4,]\n",
    "\n",
    "[a for a in arr if arr.count(a) == 1]\n",
    "\n",
    "5"
   ]
  },
  {
   "cell_type": "code",
   "execution_count": 159,
   "metadata": {
    "collapsed": true
   },
   "outputs": [],
   "source": [
    "def unique_int_count(arr):\n",
    "    \n",
    "    num_count = {}\n",
    "    \n",
    "    for num in arr:\n",
    "        \n",
    "        if num not in num_count:\n",
    "            num_count[num] = 1\n",
    "        else:\n",
    "            num_count[num] += 1\n",
    "        \n",
    "    for key, value in num_count.items():\n",
    "\n",
    "        if value == 1:\n",
    "            return key\n",
    "    "
   ]
  },
  {
   "cell_type": "code",
   "execution_count": 160,
   "metadata": {},
   "outputs": [
    {
     "data": {
      "text/plain": [
       "2"
      ]
     },
     "execution_count": 160,
     "metadata": {},
     "output_type": "execute_result"
    }
   ],
   "source": [
    "arr = [1,1,2,3,4,5,5,3,4]\n",
    "unique_int_count(arr)"
   ]
  },
  {
   "cell_type": "code",
   "execution_count": null,
   "metadata": {},
   "outputs": [],
   "source": []
  },
  {
   "cell_type": "code",
   "execution_count": null,
   "metadata": {
    "collapsed": true
   },
   "outputs": [],
   "source": []
  },
  {
   "cell_type": "code",
   "execution_count": null,
   "metadata": {
    "collapsed": true
   },
   "outputs": [],
   "source": []
  },
  {
   "cell_type": "code",
   "execution_count": null,
   "metadata": {
    "collapsed": true
   },
   "outputs": [],
   "source": []
  },
  {
   "cell_type": "code",
   "execution_count": null,
   "metadata": {
    "collapsed": true
   },
   "outputs": [],
   "source": []
  },
  {
   "cell_type": "code",
   "execution_count": null,
   "metadata": {
    "collapsed": true
   },
   "outputs": [],
   "source": []
  },
  {
   "cell_type": "code",
   "execution_count": null,
   "metadata": {
    "collapsed": true
   },
   "outputs": [],
   "source": []
  },
  {
   "cell_type": "code",
   "execution_count": null,
   "metadata": {
    "collapsed": true
   },
   "outputs": [],
   "source": []
  },
  {
   "cell_type": "code",
   "execution_count": null,
   "metadata": {
    "collapsed": true
   },
   "outputs": [],
   "source": []
  },
  {
   "cell_type": "code",
   "execution_count": null,
   "metadata": {
    "collapsed": true
   },
   "outputs": [],
   "source": []
  },
  {
   "cell_type": "code",
   "execution_count": null,
   "metadata": {
    "collapsed": true
   },
   "outputs": [],
   "source": []
  },
  {
   "cell_type": "code",
   "execution_count": null,
   "metadata": {
    "collapsed": true
   },
   "outputs": [],
   "source": []
  },
  {
   "cell_type": "code",
   "execution_count": null,
   "metadata": {
    "collapsed": true
   },
   "outputs": [],
   "source": []
  },
  {
   "cell_type": "code",
   "execution_count": null,
   "metadata": {
    "collapsed": true
   },
   "outputs": [],
   "source": []
  },
  {
   "cell_type": "code",
   "execution_count": null,
   "metadata": {
    "collapsed": true
   },
   "outputs": [],
   "source": []
  },
  {
   "cell_type": "code",
   "execution_count": null,
   "metadata": {
    "collapsed": true
   },
   "outputs": [],
   "source": []
  }
 ],
 "metadata": {
  "kernelspec": {
   "display_name": "Python 2",
   "language": "python",
   "name": "python2"
  },
  "language_info": {
   "codemirror_mode": {
    "name": "ipython",
    "version": 2
   },
   "file_extension": ".py",
   "mimetype": "text/x-python",
   "name": "python",
   "nbconvert_exporter": "python",
   "pygments_lexer": "ipython2",
   "version": "2.7.13"
  }
 },
 "nbformat": 4,
 "nbformat_minor": 2
}
