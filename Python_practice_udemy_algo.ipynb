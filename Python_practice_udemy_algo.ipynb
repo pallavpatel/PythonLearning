{
 "cells": [
  {
   "cell_type": "markdown",
   "metadata": {},
   "source": [
    "## Got links for python exercise\n",
    "\n",
    "https://www.w3resource.com/python-exercises/\n",
    "\n",
    "https://wiki.python.org/moin/ProblemSets/99%20Prolog%20Problems%20Solutions#Problem_26:_Generate_the_combinations_of_K_distinct_objects_chosen_from_the_N_elements_of_a_list"
   ]
  },
  {
   "cell_type": "code",
   "execution_count": null,
   "metadata": {
    "collapsed": true
   },
   "outputs": [],
   "source": [
    "#public and private class\n",
    "\n",
    "\n",
    "class M(object):\n",
    "    \n",
    "    def public(self):\n",
    "        print \"use tab to use public class\"\n",
    "    \n",
    "    def _private(self):\n",
    "        print \"tab will not list private class since this is not useful for user sometimes\""
   ]
  },
  {
   "cell_type": "code",
   "execution_count": null,
   "metadata": {
    "collapsed": true
   },
   "outputs": [],
   "source": [
    "m = M()"
   ]
  },
  {
   "cell_type": "code",
   "execution_count": null,
   "metadata": {
    "collapsed": true
   },
   "outputs": [],
   "source": [
    "m.public # by pressing tab after m. it will print public class"
   ]
  },
  {
   "cell_type": "code",
   "execution_count": null,
   "metadata": {
    "collapsed": true
   },
   "outputs": [],
   "source": [
    "m._private  # for private class you have write m._ and then press tab to get list of private class"
   ]
  },
  {
   "cell_type": "markdown",
   "metadata": {},
   "source": [
    "## Anagram Check\n",
    "\n",
    "Given two strings, check to see if they are anagrams. An anagram is when the two strings can be written using the exact same letters (so you can just rearrange the letters to get a different phrase or word).\n",
    "\n",
    "For example:\n",
    "\n",
    "\"public relations\" is an anagram of \"crap built on lies.\"\n",
    "\n",
    "\"clint eastwood\" is an anagram of \"old west action\"\n",
    "\n",
    "Note: Ignore spaces and capitalization. So \"d go\" is an anagram of \"God\" and \"dog\" and \"o d g\".\n",
    "\n",
    "Link : http://nbviewer.jupyter.org/github/jmportilla/Python-for-Algorithms--Data-Structures--and-Interviews/blob/master/Array%20Sequences/Array%20Sequences%20Interview%20Questions/Array%20Sequence%20Interview%20Questions/Anagram%20Check%20.ipynb\n",
    "\n"
   ]
  },
  {
   "cell_type": "code",
   "execution_count": null,
   "metadata": {
    "collapsed": true
   },
   "outputs": [],
   "source": [
    "s1 = \"public relations\"\n",
    "s2 = \"crap built on lies\""
   ]
  },
  {
   "cell_type": "code",
   "execution_count": null,
   "metadata": {
    "collapsed": true
   },
   "outputs": [],
   "source": [
    "s1_list = list(s1.replace(\" \", \"\"))\n",
    "s1_list.sort()\n",
    "\n",
    "s2_list = list(s2.replace(\" \", \"\"))\n",
    "s2_list.sort()\n",
    "\n",
    "\n",
    "print s1_list\n",
    "print s2_list"
   ]
  },
  {
   "cell_type": "code",
   "execution_count": null,
   "metadata": {
    "collapsed": true
   },
   "outputs": [],
   "source": [
    "def anagram(s1,s2):\n",
    "    \n",
    "    s1_list = list(s1.replace(\" \", \"\").lower())\n",
    "    s1_list.sort()\n",
    "\n",
    "    s2_list = list(s2.replace(\" \", \"\").lower())\n",
    "    s2_list.sort()\n",
    "    \n",
    "    if s1_list == s2_list:\n",
    "        return True\n",
    "    \n",
    "    else:\n",
    "        return False"
   ]
  },
  {
   "cell_type": "code",
   "execution_count": null,
   "metadata": {
    "collapsed": true
   },
   "outputs": [],
   "source": [
    "def anagram2(s1,s2):\n",
    "    \n",
    "    s1 = s1.replace(\" \", \"\").lower()\n",
    "    \n",
    "\n",
    "    s2 = s2.replace(\" \", \"\").lower()\n",
    "    \n",
    "    \n",
    "    if sorted(s1) == sorted(s2):\n",
    "        return True\n",
    "    else:\n",
    "        return False"
   ]
  },
  {
   "cell_type": "code",
   "execution_count": null,
   "metadata": {
    "collapsed": true
   },
   "outputs": [],
   "source": [
    "def anagram3(s1,s2):\n",
    "    \n",
    "    s1 = s1.replace(\" \", \"\").lower()  \n",
    "    s2 = s2.replace(\" \", \"\").lower()\n",
    "    \n",
    "    #edge case\n",
    "    if len(s1) != len(s2):\n",
    "        return False\n",
    "    \n",
    "    count_letter = {}\n",
    "    \n",
    "    #adding count of each letter in dictionary\n",
    "    \n",
    "    for letter in s1:\n",
    "        if letter in count_letter:\n",
    "            count_letter[letter] = count_letter[letter]+1\n",
    "        else:\n",
    "            count_letter[letter] = 1\n",
    "    \n",
    "    \n",
    "    # removing count of each letter from dictionary\n",
    "    \n",
    "    for letter in s2:\n",
    "        if letter in count_letter:\n",
    "            count_letter[letter] = count_letter[letter]-1\n",
    "        else:\n",
    "            count_letter[letter] = 1\n",
    "    \n",
    "    \n",
    "    # now check for 0 count in dictionary\n",
    "    \n",
    "    for k in count_letter:\n",
    "        \n",
    "        if count_letter[k] != 0:\n",
    "            return False\n",
    "        \n",
    "    return True\n",
    "            \n",
    "    print count_letter"
   ]
  },
  {
   "cell_type": "code",
   "execution_count": null,
   "metadata": {
    "collapsed": true
   },
   "outputs": [],
   "source": [
    "anagram('dog','god')"
   ]
  },
  {
   "cell_type": "code",
   "execution_count": null,
   "metadata": {
    "collapsed": true
   },
   "outputs": [],
   "source": [
    "anagram('clint eastwood','old west action')"
   ]
  },
  {
   "cell_type": "code",
   "execution_count": null,
   "metadata": {
    "collapsed": true
   },
   "outputs": [],
   "source": [
    "anagram('aa','bb')"
   ]
  },
  {
   "cell_type": "code",
   "execution_count": null,
   "metadata": {
    "collapsed": true
   },
   "outputs": [],
   "source": [
    "\"\"\"\n",
    "RUN THIS CELL TO TEST YOUR SOLUTION\n",
    "\"\"\"\n",
    "from nose.tools import assert_equal\n",
    "\n",
    "class AnagramTest(object):\n",
    "    \n",
    "    def test(self,sol):\n",
    "        assert_equal(sol('go go go','gggooo'),True)\n",
    "        assert_equal(sol('abc','cba'),True)\n",
    "        assert_equal(sol('hi man','hi     man'),True)\n",
    "        assert_equal(sol('aabbcc','aabbc'),False)\n",
    "        assert_equal(sol('123','1 2'),False)\n",
    "        print \"ALL TEST CASES PASSED\"\n",
    "\n",
    "# Run Tests\n",
    "t = AnagramTest()\n",
    "t.test(anagram)\n",
    "t.test(anagram2)\n",
    "t.test(anagram3)"
   ]
  },
  {
   "cell_type": "code",
   "execution_count": null,
   "metadata": {
    "collapsed": true
   },
   "outputs": [],
   "source": []
  },
  {
   "cell_type": "markdown",
   "metadata": {},
   "source": [
    "## Array Pair Sum\n",
    "\n",
    "Problem\n",
    "Given an integer array, output all the unique pairs that sum up to a specific value k.\n",
    "\n",
    "So the input:\n",
    "\n",
    "pair_sum([1,3,2,2],4)\n",
    "\n",
    "would return 2 pairs:\n",
    "\n",
    " (1,3)\n",
    " (2,2)\n",
    "\n",
    "NOTE: FOR TESTING PURPOSES CHANGE YOUR FUNCTION SO IT OUTPUTS THE NUMBER OF PAIRS"
   ]
  },
  {
   "cell_type": "code",
   "execution_count": null,
   "metadata": {
    "collapsed": true
   },
   "outputs": [],
   "source": [
    "def pair_sum(arr,k):\n",
    "    \n",
    "    l=[]\n",
    "    p = []\n",
    "\n",
    "    for num in arr:\n",
    "        \n",
    "        rem = k-num\n",
    "      \n",
    "        if num in arr and rem in arr:\n",
    "            if num not in l and rem not in l:\n",
    "                l.append(num)\n",
    "                l.append(rem)\n",
    "                p.append((num, rem))\n",
    "\n",
    "    return len(p)    "
   ]
  },
  {
   "cell_type": "code",
   "execution_count": null,
   "metadata": {
    "collapsed": true
   },
   "outputs": [],
   "source": [
    "def pair_sum2(arr, k):\n",
    "    \n",
    "    seen = set()\n",
    "    output = set()\n",
    "    \n",
    "    if arr < 2:\n",
    "        return\n",
    "    \n",
    "    for num in arr:\n",
    "\n",
    "        rem = k - num\n",
    "        \n",
    "        if rem not in seen:\n",
    "            seen.add(num)\n",
    "        \n",
    "        else:\n",
    "            output.add( ( min(rem, num) , max(rem, num)     )    )\n",
    "\n",
    "    return len(output)"
   ]
  },
  {
   "cell_type": "code",
   "execution_count": null,
   "metadata": {
    "collapsed": true
   },
   "outputs": [],
   "source": [
    "\n",
    "\n",
    "\"\"\"\n",
    "RUN THIS CELL TO TEST YOUR SOLUTION\n",
    "\"\"\"\n",
    "from nose.tools import assert_equal\n",
    "\n",
    "class TestPair(object):\n",
    "    \n",
    "    def test(self,sol):\n",
    "        assert_equal(sol([1,9,2,8,3,7,4,6,5,5,13,14,11,13,-1],10),6)\n",
    "        assert_equal(sol([1,2,3,1],3),1)\n",
    "        assert_equal(sol([1,3,2,2],4),2)\n",
    "        print 'ALL TEST CASES PASSED'\n",
    "        \n",
    "#Run tests\n",
    "t = TestPair()\n",
    "t.test(pair_sum)\n",
    "t.test(pair_sum2)"
   ]
  },
  {
   "cell_type": "code",
   "execution_count": null,
   "metadata": {
    "collapsed": true
   },
   "outputs": [],
   "source": []
  },
  {
   "cell_type": "markdown",
   "metadata": {},
   "source": [
    "##  Find the Missing Element\n",
    "Problem\n",
    "Consider an array of non-negative integers. A second array is formed by shuffling the elements of the first array and deleting a random element. Given these two arrays, find which element is missing in the second array.\n",
    "\n",
    "Here is an example input, the first array is shuffled and the number 5 is removed to construct the second array.\n",
    "\n",
    "Input:\n",
    "\n",
    "finder([1,2,3,4,5,6,7],[3,7,2,1,4,6])\n",
    "\n",
    "Output:\n",
    "\n",
    "5 is the missing number\n"
   ]
  },
  {
   "cell_type": "code",
   "execution_count": null,
   "metadata": {
    "collapsed": true
   },
   "outputs": [],
   "source": [
    "def finder(arr1,arr2):\n",
    "    \n",
    "    arr1.sort()\n",
    "    arr2.sort()\n",
    "    \n",
    "    for n in range(len(arr1)):\n",
    "        if arr1[n] != arr2[n]:\n",
    "            return arr1[n]\n",
    "        \n",
    "    \n",
    "    "
   ]
  },
  {
   "cell_type": "code",
   "execution_count": null,
   "metadata": {
    "collapsed": true
   },
   "outputs": [],
   "source": [
    "#alternate of above for loop\n",
    "\n",
    "    for n1, n2 in zip(arr1,arr2):\n",
    "        if n1 != n2:\n",
    "            return n1\n"
   ]
  },
  {
   "cell_type": "code",
   "execution_count": null,
   "metadata": {
    "collapsed": true
   },
   "outputs": [],
   "source": [
    "arr1 = [1,2,3,4,5,6,7]\n",
    "arr2 = [3,7,2,1,4,6]\n",
    "finder(arr1,arr2)"
   ]
  },
  {
   "cell_type": "code",
   "execution_count": null,
   "metadata": {
    "collapsed": true
   },
   "outputs": [],
   "source": [
    "arr1 = [5,5,7,7]\n",
    "arr2 = [5,7,7]\n",
    "\n",
    "finder(arr1,arr2)"
   ]
  },
  {
   "cell_type": "markdown",
   "metadata": {},
   "source": [
    "## Alternate method for above problems\n",
    "\n",
    "1) keep adding element in dictionary and remove for 2nd array. remaining element will be missing element\n",
    "2) sum all element for both array and subtract it. subtraction result will be missing element. if numbers are too large then issue and if numbers are too too small then also issue."
   ]
  },
  {
   "cell_type": "code",
   "execution_count": null,
   "metadata": {
    "collapsed": true
   },
   "outputs": [],
   "source": [
    "\"\"\"\n",
    "RUN THIS CELL TO TEST YOUR SOLUTION\n",
    "\"\"\"\n",
    "from nose.tools import assert_equal\n",
    "\n",
    "class TestFinder(object):\n",
    "    \n",
    "    def test(self,sol):\n",
    "        assert_equal(sol([5,5,7,7],[5,7,7]),5)\n",
    "        assert_equal(sol([1,2,3,4,5,6,7],[3,7,2,1,4,6]),5)\n",
    "        assert_equal(sol([9,8,7,6,5,4,3,2,1],[9,8,7,5,4,3,2,1]),6)\n",
    "        print 'ALL TEST CASES PASSED'\n",
    "\n",
    "# Run test\n",
    "t = TestFinder()\n",
    "t.test(finder)"
   ]
  },
  {
   "cell_type": "markdown",
   "metadata": {},
   "source": [
    "## Largest Continuous Sum\n",
    "Problem\n",
    "Given an array of integers (positive and negative) find the largest continuous sum."
   ]
  },
  {
   "cell_type": "code",
   "execution_count": null,
   "metadata": {
    "collapsed": true
   },
   "outputs": [],
   "source": [
    "def large_cont_sum(arr): \n",
    "    \n",
    "    if len(arr) == 0:\n",
    "        return 0\n",
    "    \n",
    "    max_sum = current_sum = arr[0]\n",
    "    \n",
    "    for i, num in enumerate(arr[1:]):\n",
    "        \n",
    "        current_sum = max(current_sum + num , num)\n",
    "        \n",
    "        max_sum = max( current_sum , max_sum )\n",
    "        \n",
    "        \n",
    "        \n",
    "    return max_sum"
   ]
  },
  {
   "cell_type": "code",
   "execution_count": null,
   "metadata": {
    "collapsed": true
   },
   "outputs": [],
   "source": [
    "from nose.tools import assert_equal\n",
    "\n",
    "class LargeContTest(object):\n",
    "    def test(self,sol):\n",
    "        assert_equal(sol([1,2,-1,3,4,-1]),9)\n",
    "        assert_equal(sol([1,2,-1,3,4,10,10,-10,-1]),29)\n",
    "        assert_equal(sol([-1,1]),1)\n",
    "        print 'ALL TEST CASES PASSED'\n",
    "        \n",
    "#Run Test\n",
    "t = LargeContTest()\n",
    "t.test(large_cont_sum)"
   ]
  },
  {
   "cell_type": "markdown",
   "metadata": {},
   "source": [
    "## Sentence Reversal\n",
    "Problem\n",
    "Given a string of words, reverse all the words. For example:\n",
    "\n",
    "Given:\n",
    "\n",
    "'This is the best'\n",
    "\n",
    "Return:\n",
    "\n",
    "'best the is This'\n",
    "\n",
    "As part of this exercise you should remove all leading and trailing whitespace. So that inputs such as:\n",
    "\n",
    "'  space here'  and 'space here      '\n",
    "\n",
    "both become:\n",
    "\n",
    "'here space'\n",
    "\n",
    "Solution"
   ]
  },
  {
   "cell_type": "code",
   "execution_count": null,
   "metadata": {
    "collapsed": true
   },
   "outputs": [],
   "source": [
    "def rev_word(s):\n",
    "    s = s.strip()\n",
    "    s = s.split(\" \")\n",
    "    s = [x for x in s if x !='']\n",
    "    return ' '.join(s[::-1])"
   ]
  },
  {
   "cell_type": "code",
   "execution_count": null,
   "metadata": {
    "collapsed": true
   },
   "outputs": [],
   "source": [
    "#manual approach\n",
    "\n",
    "def rev_word2(s):\n",
    "    \n",
    "    words = []\n",
    "    spaces = [' ']    \n",
    "    i = 0    \n",
    "    lenght = len(s)\n",
    "    \n",
    "    # separating words in list \n",
    "    \n",
    "    while i < lenght:\n",
    "        if s[i] not in spaces:\n",
    "            word_start = i\n",
    "            while i < lenght and s[i] not in spaces:\n",
    "                i = i+1\n",
    "            words.append(s[word_start:i])\n",
    "        i = i+1\n",
    "    \n",
    "    # extracting each word from list and joing\n",
    "    \n",
    "    \n",
    "    \n",
    "    word_lenght = len(words)-1\n",
    "    \n",
    "    final_output = words[word_lenght]\n",
    "    \n",
    "    while word_lenght >= 1:\n",
    "        \n",
    "        final_output = final_output + ' ' + words[word_lenght-1]\n",
    "        word_lenght = word_lenght - 1\n",
    "        \n",
    "        \n",
    "    return final_output"
   ]
  },
  {
   "cell_type": "code",
   "execution_count": null,
   "metadata": {
    "collapsed": true
   },
   "outputs": [],
   "source": [
    "\"\"\"\n",
    "RUN THIS CELL TO TEST YOUR SOLUTION\n",
    "\"\"\"\n",
    "\n",
    "from nose.tools import assert_equal\n",
    "\n",
    "class ReversalTest(object):\n",
    "    \n",
    "    def test(self,sol):\n",
    "        assert_equal(sol('    space before'),'before space')\n",
    "        assert_equal(sol('space after     '),'after space')\n",
    "        assert_equal(sol('   Hello John    how are you   '),'you are how John Hello')\n",
    "        assert_equal(sol('1'),'1')\n",
    "        print \"ALL TEST CASES PASSED\"\n",
    "        \n",
    "# Run and test\n",
    "t = ReversalTest()\n",
    "t.test(rev_word)\n",
    "t.test(rev_word2)"
   ]
  },
  {
   "cell_type": "code",
   "execution_count": null,
   "metadata": {
    "collapsed": true
   },
   "outputs": [],
   "source": []
  },
  {
   "cell_type": "markdown",
   "metadata": {},
   "source": [
    "## String Compression\n",
    "Problem\n",
    "Given a string in the form 'AAAABBBBCCCCCDDEEEE' compress it to become 'A4B4C5D2E4'. For this problem, you can falsely \"compress\" strings of single or double letters. For instance, it is okay for 'AAB' to return 'A2B1' even though this technically takes more space.\n",
    "\n",
    "The function should also be case sensitive, so that a string 'AAAaaa' returns 'A3a3'."
   ]
  },
  {
   "cell_type": "code",
   "execution_count": null,
   "metadata": {
    "collapsed": true
   },
   "outputs": [],
   "source": [
    "def compress(s):\n",
    "    output_string = ''\n",
    "    counter = 1\n",
    "    \n",
    "    if len(s) == 1:\n",
    "        return s+'1'\n",
    "    \n",
    "    for i , letter in enumerate(s):\n",
    "        \n",
    "       \n",
    "        if i > 0: \n",
    "            if s[i] == s[i-1]:\n",
    "                counter = counter + 1\n",
    "\n",
    "            else:\n",
    "                output_string = output_string + s[i-1] + str(counter)\n",
    "                counter = 1\n",
    "\n",
    "        \n",
    "            if i == len(s)-1:\n",
    "                output_string = output_string + s[i] + str(counter)\n",
    "\n",
    "    return output_string\n",
    "    "
   ]
  },
  {
   "cell_type": "code",
   "execution_count": null,
   "metadata": {
    "collapsed": true
   },
   "outputs": [],
   "source": [
    "\"\"\"\n",
    "RUN THIS CELL TO TEST YOUR SOLUTION\n",
    "\"\"\"\n",
    "from nose.tools import assert_equal\n",
    "\n",
    "class TestCompress(object):\n",
    "\n",
    "    def test(self, sol):\n",
    "        assert_equal(sol(''), '')\n",
    "        assert_equal(sol('AABBCC'), 'A2B2C2')\n",
    "        assert_equal(sol('AAABCCDDDDD'), 'A3B1C2D5')\n",
    "        assert_equal(sol('A'), 'A1')\n",
    "        print 'ALL TEST CASES PASSED'\n",
    "\n",
    "# Run Tests\n",
    "t = TestCompress()\n",
    "t.test(compress)"
   ]
  },
  {
   "cell_type": "markdown",
   "metadata": {},
   "source": [
    "## Unique Characters in String\n",
    "Problem\n",
    "Given a string,determine if it is compreised of all unique characters. For example, the string 'abcde' has all unique characters and should return True. The string 'aabcde' contains duplicate characters and should return false."
   ]
  },
  {
   "cell_type": "code",
   "execution_count": null,
   "metadata": {
    "collapsed": true
   },
   "outputs": [],
   "source": [
    "def uni_char(s):\n",
    "    \n",
    "    if s == '':\n",
    "        return True\n",
    "    \n",
    "    if len(list(s)) == len(set(s)):\n",
    "        return True\n",
    "    else:\n",
    "        return False\n",
    "    "
   ]
  },
  {
   "cell_type": "code",
   "execution_count": null,
   "metadata": {
    "collapsed": true
   },
   "outputs": [],
   "source": [
    "def uni_char2(s):\n",
    "    seen = []\n",
    "    \n",
    "    if s == '':\n",
    "        return True\n",
    "    \n",
    "    for letter in list(s):\n",
    "        if letter in seen:\n",
    "            return False\n",
    "        else:\n",
    "            seen.append(letter)\n",
    "    return True"
   ]
  },
  {
   "cell_type": "code",
   "execution_count": null,
   "metadata": {
    "collapsed": true
   },
   "outputs": [],
   "source": [
    "\"\"\"\n",
    "RUN THIS CELL TO TEST YOUR CODE>\n",
    "\"\"\"\n",
    "from nose.tools import assert_equal\n",
    "\n",
    "\n",
    "class TestUnique(object):\n",
    "\n",
    "    def test(self, sol):\n",
    "        assert_equal(sol(''), True)\n",
    "        assert_equal(sol('goo'), False)\n",
    "        assert_equal(sol('abcdefg'), True)\n",
    "        print 'ALL TEST CASES PASSED'\n",
    "        \n",
    "# Run Tests\n",
    "t = TestUnique()\n",
    "t.test(uni_char)\n",
    "t.test(uni_char2)"
   ]
  },
  {
   "cell_type": "code",
   "execution_count": null,
   "metadata": {
    "collapsed": true
   },
   "outputs": [],
   "source": []
  },
  {
   "cell_type": "markdown",
   "metadata": {},
   "source": [
    "## Implementation of Stack\n",
    "Stack Attributes and Methods\n",
    "Before we implement our own Stack class, let's review the properties and methods of a Stack.\n",
    "\n",
    "The stack abstract data type is defined by the following structure and operations. A stack is structured, as described above, as an ordered collection of items where items are added to and removed from the end called the “top.” Stacks are ordered LIFO. The stack operations are given below.\n",
    "\n",
    "Stack() creates a new stack that is empty. It needs no parameters and returns an empty stack.\n",
    "\n",
    "push(item) adds a new item to the top of the stack. It needs the item and returns nothing.\n",
    "\n",
    "pop() removes the top item from the stack. It needs no parameters and returns the item. The stack is modified.\n",
    "\n",
    "peek() returns the top item from the stack but does not remove it. It needs no parameters. The stack is not modified.\n",
    "\n",
    "isEmpty() tests to see whether the stack is empty. It needs no parameters and returns a boolean value.\n",
    "\n",
    "size() returns the number of items on the stack. It needs no parameters and returns an integer."
   ]
  },
  {
   "cell_type": "code",
   "execution_count": null,
   "metadata": {
    "collapsed": true
   },
   "outputs": [],
   "source": [
    "class stack:\n",
    "    \n",
    "    \n",
    "    \n",
    "    def __init__(self):\n",
    "        self.item = []\n",
    "        \n",
    "    def isEmpty(self):\n",
    "        return self.item == []\n",
    "    \n",
    "    def push(self, item):\n",
    "        self.item.append(item)\n",
    "    \n",
    "    def pop(self):\n",
    "        return self.item.pop()\n",
    "    \n",
    "    def peek(self):\n",
    "        return self.item[len(self.item) - 1]\n",
    "    \n",
    "    def size(self):\n",
    "        return len(self.item)\n",
    "    \n",
    "    "
   ]
  },
  {
   "cell_type": "code",
   "execution_count": null,
   "metadata": {
    "collapsed": true
   },
   "outputs": [],
   "source": [
    "s = stack()"
   ]
  },
  {
   "cell_type": "code",
   "execution_count": null,
   "metadata": {
    "collapsed": true
   },
   "outputs": [],
   "source": [
    "print s.isEmpty()"
   ]
  },
  {
   "cell_type": "code",
   "execution_count": null,
   "metadata": {
    "collapsed": true
   },
   "outputs": [],
   "source": [
    "s.push(1)"
   ]
  },
  {
   "cell_type": "code",
   "execution_count": null,
   "metadata": {
    "collapsed": true
   },
   "outputs": [],
   "source": [
    "s.isEmpty()"
   ]
  },
  {
   "cell_type": "code",
   "execution_count": null,
   "metadata": {
    "collapsed": true
   },
   "outputs": [],
   "source": [
    "s.size()"
   ]
  },
  {
   "cell_type": "code",
   "execution_count": null,
   "metadata": {
    "collapsed": true
   },
   "outputs": [],
   "source": [
    "s.peek()"
   ]
  },
  {
   "cell_type": "code",
   "execution_count": null,
   "metadata": {
    "collapsed": true
   },
   "outputs": [],
   "source": [
    "s.push(\"pallav\")"
   ]
  },
  {
   "cell_type": "code",
   "execution_count": null,
   "metadata": {
    "collapsed": true
   },
   "outputs": [],
   "source": [
    "s.push(True)"
   ]
  },
  {
   "cell_type": "code",
   "execution_count": null,
   "metadata": {
    "collapsed": true
   },
   "outputs": [],
   "source": [
    "s.peek()"
   ]
  },
  {
   "cell_type": "code",
   "execution_count": null,
   "metadata": {
    "collapsed": true
   },
   "outputs": [],
   "source": [
    "s.size()"
   ]
  },
  {
   "cell_type": "code",
   "execution_count": null,
   "metadata": {
    "collapsed": true
   },
   "outputs": [],
   "source": []
  },
  {
   "cell_type": "markdown",
   "metadata": {},
   "source": [
    "## Implementation of Queue\n",
    "In this lecture we will build on our previous understanding of Queues by implementing our own class of Queue!\n",
    "\n",
    "Queue Methods and Attributes\n",
    "Before we begin implementing our own queue, let's review the attribute and methods it will have:\n",
    "\n",
    "Queue() creates a new queue that is empty. It needs no parameters and returns an empty queue.\n",
    "\n",
    "enqueue(item) adds a new item to the rear of the queue. It needs the item and returns nothing.\n",
    "\n",
    "dequeue() removes the front item from the queue. It needs no parameters and returns the item. The queue is modified.\n",
    "\n",
    "isEmpty() tests to see whether the queue is empty. It needs no parameters and returns a boolean value.\n",
    "\n",
    "size() returns the number of items in the queue. It needs no parameters and returns an integer."
   ]
  },
  {
   "cell_type": "code",
   "execution_count": null,
   "metadata": {
    "collapsed": true
   },
   "outputs": [],
   "source": [
    "class Queue:\n",
    "    \n",
    "    def __init__(self):\n",
    "        self.item = []\n",
    "        \n",
    "    def isEmpty(self):\n",
    "        return self.item == []\n",
    "    \n",
    "    def enqueue(self, item):\n",
    "        self.item.insert(0, item)\n",
    "    \n",
    "    def dequeue(self):\n",
    "        return self.item.pop()\n",
    "    \n",
    "    def size(self):\n",
    "        return len(self.item)"
   ]
  },
  {
   "cell_type": "code",
   "execution_count": null,
   "metadata": {
    "collapsed": true
   },
   "outputs": [],
   "source": [
    "q = Queue()"
   ]
  },
  {
   "cell_type": "code",
   "execution_count": null,
   "metadata": {
    "collapsed": true
   },
   "outputs": [],
   "source": [
    "q.size()"
   ]
  },
  {
   "cell_type": "code",
   "execution_count": null,
   "metadata": {
    "collapsed": true
   },
   "outputs": [],
   "source": [
    "q.isEmpty()"
   ]
  },
  {
   "cell_type": "code",
   "execution_count": null,
   "metadata": {
    "collapsed": true
   },
   "outputs": [],
   "source": [
    "q.enqueue(1)"
   ]
  },
  {
   "cell_type": "code",
   "execution_count": null,
   "metadata": {
    "collapsed": true
   },
   "outputs": [],
   "source": [
    "q.size()"
   ]
  },
  {
   "cell_type": "code",
   "execution_count": null,
   "metadata": {
    "collapsed": true
   },
   "outputs": [],
   "source": [
    "q.dequeue()"
   ]
  },
  {
   "cell_type": "code",
   "execution_count": null,
   "metadata": {
    "collapsed": true
   },
   "outputs": [],
   "source": [
    "q.size()"
   ]
  },
  {
   "cell_type": "code",
   "execution_count": null,
   "metadata": {
    "collapsed": true
   },
   "outputs": [],
   "source": []
  },
  {
   "cell_type": "markdown",
   "metadata": {},
   "source": [
    "## Balanced Parentheses Check\n",
    "Problem Statement\n",
    "Given a string of opening and closing parentheses, check whether it’s balanced. We have 3 types of parentheses: round brackets: (), square brackets: [], and curly brackets: {}. Assume that the string doesn’t contain any other character than these, no spaces words or numbers. As a reminder, balanced parentheses require every opening parenthesis to be closed in the reverse order opened. For example ‘([])’ is balanced but ‘([)]’ is not.\n",
    "\n",
    "You can assume the input string has no spaces."
   ]
  },
  {
   "cell_type": "code",
   "execution_count": null,
   "metadata": {
    "collapsed": true
   },
   "outputs": [],
   "source": [
    "def balance_check(s):\n",
    "    \n",
    "    if len(s) % 2 != 0:\n",
    "        return False\n",
    "    \n",
    "    open_bracket = [ '{' ,'[' , '(' ]\n",
    "    matches = [ ('{', '}') , ('[' , ']') , ('(',')') ]\n",
    "    stack = []\n",
    "\n",
    "    for paren in s:\n",
    "\n",
    "        if paren in open_bracket:\n",
    "            stack.append(paren)\n",
    "        else:\n",
    "            if len(stack) == 0:\n",
    "                return False\n",
    "        \n",
    "            if (stack.pop() , paren) not in matches:\n",
    "                return False\n",
    "        \n",
    "    if len(stack) != 0:\n",
    "        return False\n",
    "\n",
    "    return True\n",
    "    "
   ]
  },
  {
   "cell_type": "code",
   "execution_count": null,
   "metadata": {
    "collapsed": true
   },
   "outputs": [],
   "source": [
    "balance_check('[]')"
   ]
  },
  {
   "cell_type": "code",
   "execution_count": null,
   "metadata": {
    "collapsed": true
   },
   "outputs": [],
   "source": [
    "balance_check('[](){([[[]]])}')"
   ]
  },
  {
   "cell_type": "code",
   "execution_count": null,
   "metadata": {
    "collapsed": true
   },
   "outputs": [],
   "source": [
    "balance_check('()(){]}')"
   ]
  },
  {
   "cell_type": "code",
   "execution_count": null,
   "metadata": {
    "collapsed": true
   },
   "outputs": [],
   "source": [
    "\"\"\"\n",
    "RUN THIS CELL TO TEST YOUR SOLUTION\n",
    "\"\"\"\n",
    "from nose.tools import assert_equal\n",
    "\n",
    "class TestBalanceCheck(object):\n",
    "    \n",
    "    def test(self,sol):\n",
    "        assert_equal(sol('[](){([[[]]])}('),False)\n",
    "        assert_equal(sol('[{{{(())}}}]((()))'),True)\n",
    "        assert_equal(sol('[[[]])]'),False)\n",
    "        print 'ALL TEST CASES PASSED'\n",
    "        \n",
    "# Run Tests\n",
    "\n",
    "t = TestBalanceCheck()\n",
    "t.test(balance_check)"
   ]
  },
  {
   "cell_type": "code",
   "execution_count": null,
   "metadata": {
    "collapsed": true
   },
   "outputs": [],
   "source": [
    "a = [1,2,3,4,5,6]\n",
    "b = a[::-1]\n",
    "b.pop()"
   ]
  },
  {
   "cell_type": "code",
   "execution_count": null,
   "metadata": {
    "collapsed": true
   },
   "outputs": [],
   "source": []
  },
  {
   "cell_type": "markdown",
   "metadata": {},
   "source": [
    "## Introduction to Recursion\n",
    "In this lecture we will go over the basics of Recursion.\n",
    "\n",
    "What is Recursion?\n",
    "There are two main instances of recursion. The first is when recursion is used as a technique in which a function makes one or more calls to itself. The second is when a data structure uses smaller instances of the exact same type of data structure when it represents itself. Both of these instances are use cases of recursion.\n",
    "\n",
    "Recursion actually occurs in the real world, such as fractal patterns seen in plants!\n",
    "\n",
    "Why use Recursion?\n",
    "Recursion provides a powerful alternative for performing repetitions of tasks in which a loop is not ideal. Most modern programming languages support recursion and recursion serves as a great tool for building out particular data structures.\n",
    "\n",
    "We'll start this introduction with an example of recursion- a factorial function.\n",
    "\n",
    "\n",
    "http://nbviewer.jupyter.org/github/jmportilla/Python-for-Algorithms--Data-Structures--and-Interviews/blob/master/Recursion/Introduction%20to%20Recursion.ipynb"
   ]
  },
  {
   "cell_type": "code",
   "execution_count": null,
   "metadata": {
    "collapsed": true
   },
   "outputs": [],
   "source": [
    "#Factorial example:\n",
    "\n",
    "\n",
    "def fact(n):\n",
    "    \n",
    "    if n == 0:\n",
    "        return 1\n",
    "    \n",
    "    else:\n",
    "        return n*fact(n-1)"
   ]
  },
  {
   "cell_type": "code",
   "execution_count": null,
   "metadata": {
    "collapsed": true
   },
   "outputs": [],
   "source": [
    "fact(1)"
   ]
  },
  {
   "cell_type": "code",
   "execution_count": null,
   "metadata": {
    "collapsed": true
   },
   "outputs": [],
   "source": [
    "fact(5)"
   ]
  },
  {
   "cell_type": "markdown",
   "metadata": {},
   "source": [
    "\n",
    "## Problem 1\n",
    "Write a recursive function which takes an integer and computes the cumulative sum of 0 to that integer\n",
    "\n",
    "For example, if n=4 , return 4+3+2+1+0, which is 10.\n",
    "\n",
    "This problem is very similar to the factorial problem presented during the introduction to recursion. Remember, always think of what the base case will look like. In this case, we have a base case of n =0 (Note, you could have also designed the cut off to be 1).\n",
    "\n",
    "In this case, we have: n + (n-1) + (n-2) + .... + 0\n"
   ]
  },
  {
   "cell_type": "code",
   "execution_count": null,
   "metadata": {
    "collapsed": true
   },
   "outputs": [],
   "source": [
    "def rec_sum(n):\n",
    "    \n",
    "    if n == 0:\n",
    "        return 0\n",
    "    else:\n",
    "        return n + rec_sum(n-1)\n",
    "    \n",
    "    pass"
   ]
  },
  {
   "cell_type": "code",
   "execution_count": null,
   "metadata": {
    "collapsed": true
   },
   "outputs": [],
   "source": [
    "rec_sum(10)"
   ]
  },
  {
   "cell_type": "markdown",
   "metadata": {},
   "source": [
    "\n",
    "## Problem 2\n",
    "Given an integer, create a function which returns the sum of all the individual digits in that integer. For example: if n = 4321, return 4+3+2+1"
   ]
  },
  {
   "cell_type": "code",
   "execution_count": null,
   "metadata": {
    "collapsed": true
   },
   "outputs": [],
   "source": [
    "def sum_func(n):\n",
    "    \n",
    "    if n == 0:\n",
    "        return 0\n",
    "    \n",
    "    return (n % 10) + sum_func(n//10)"
   ]
  },
  {
   "cell_type": "code",
   "execution_count": null,
   "metadata": {
    "collapsed": true
   },
   "outputs": [],
   "source": [
    "sum_func(432156)"
   ]
  },
  {
   "cell_type": "markdown",
   "metadata": {},
   "source": [
    "## Problem 3\n",
    "\n",
    "Create a function called word_split() which takes in a string phrase and a set list_of_words. The function will then determine if it is possible to split the string in a way in which words can be made from the list of words. You can assume the phrase will only contain words found in the dictionary if it is completely splittable.\n",
    "\n",
    "For example:\n",
    "\n",
    "word_split('themanran',['the','ran','man'])\n",
    "\n",
    "['the', 'man', 'ran']\n",
    "\n",
    "word_split('ilovedogsJohn',['i','am','a','dogs','lover','love','John'])\n",
    "\n",
    "['i', 'love', 'dogs', 'John']\n",
    "\n",
    "word_split('themanran',['clown','ran','man'])\n",
    "\n",
    "[]"
   ]
  },
  {
   "cell_type": "code",
   "execution_count": null,
   "metadata": {
    "collapsed": true
   },
   "outputs": [],
   "source": [
    "def word_split(phrase,list_of_words, output = None):\n",
    "    \n",
    "    \n",
    "    if output is None:\n",
    "        output = []\n",
    "        \n",
    "    for word in list_of_words:\n",
    "        \n",
    "        if phrase.startswith(word):\n",
    "            \n",
    "            output.append(word)\n",
    "            \n",
    "            return word_split(phrase[len(word):] , list_of_words , output)\n",
    "    \n",
    "    print output"
   ]
  },
  {
   "cell_type": "code",
   "execution_count": null,
   "metadata": {
    "collapsed": true
   },
   "outputs": [],
   "source": [
    "word_split('themanran',['the','ran','man'])"
   ]
  },
  {
   "cell_type": "code",
   "execution_count": null,
   "metadata": {
    "collapsed": true
   },
   "outputs": [],
   "source": [
    "word_split('ilovedogsJohn',['i','am','a','dogs','lover','love','John'])"
   ]
  },
  {
   "cell_type": "code",
   "execution_count": null,
   "metadata": {
    "collapsed": true
   },
   "outputs": [],
   "source": [
    "word_split('themanran',['clown','ran','man'])"
   ]
  },
  {
   "cell_type": "code",
   "execution_count": null,
   "metadata": {
    "collapsed": true
   },
   "outputs": [],
   "source": []
  },
  {
   "cell_type": "markdown",
   "metadata": {},
   "source": [
    "## Reverse a String\n",
    "This interview question requires you to reverse a string using recursion. Make sure to think of the base case here.\n",
    "\n",
    "Again, make sure you use recursion to accomplish this. Do not slice (e.g. string[::-1]) or use iteration, there must be a recursive call for the function."
   ]
  },
  {
   "cell_type": "code",
   "execution_count": null,
   "metadata": {
    "collapsed": true
   },
   "outputs": [],
   "source": [
    "def reverse(s):\n",
    "        \n",
    "    if s == '':\n",
    "        return None\n",
    "    \n",
    "    if len(s) == 1:\n",
    "        return s\n",
    "    \n",
    "    else:\n",
    "        return s[-1]+reverse(s[:-1])\n",
    "    "
   ]
  },
  {
   "cell_type": "code",
   "execution_count": null,
   "metadata": {
    "collapsed": true
   },
   "outputs": [],
   "source": [
    "reverse('hello world')"
   ]
  },
  {
   "cell_type": "code",
   "execution_count": null,
   "metadata": {
    "collapsed": true
   },
   "outputs": [],
   "source": [
    "reverse('hello')"
   ]
  },
  {
   "cell_type": "code",
   "execution_count": null,
   "metadata": {
    "collapsed": true
   },
   "outputs": [],
   "source": [
    "reverse('123456789')"
   ]
  },
  {
   "cell_type": "code",
   "execution_count": null,
   "metadata": {
    "collapsed": true
   },
   "outputs": [],
   "source": [
    "'''\n",
    "RUN THIS CELL TO TEST YOUR FUNCTION AGAINST SOME TEST CASES\n",
    "'''\n",
    "\n",
    "from nose.tools import assert_equal\n",
    "\n",
    "class TestReverse(object):\n",
    "    \n",
    "    def test_rev(self,solution):\n",
    "        assert_equal(solution('hello'),'olleh')\n",
    "        assert_equal(solution('hello world'),'dlrow olleh')\n",
    "        assert_equal(solution('123456789'),'987654321')\n",
    "        \n",
    "        print 'PASSED ALL TEST CASES!'\n",
    "        \n",
    "# Run Tests\n",
    "test = TestReverse()\n",
    "test.test_rev(reverse)"
   ]
  },
  {
   "cell_type": "code",
   "execution_count": null,
   "metadata": {
    "collapsed": true
   },
   "outputs": [],
   "source": []
  },
  {
   "cell_type": "markdown",
   "metadata": {},
   "source": [
    "## String Permutation\n",
    "Problem Statement\n",
    "Given a string, write a function that uses recursion to output a list of all the possible permutations of that string.\n",
    "\n",
    "For example, given s='abc' the function should return ['abc', 'acb', 'bac', 'bca', 'cab', 'cba']\n",
    "\n",
    "Note: If a character is repeated, treat each occurence as distinct, for example an input of 'xxx' would return a list with 6 \"versions\" of 'xxx'"
   ]
  },
  {
   "cell_type": "code",
   "execution_count": null,
   "metadata": {
    "collapsed": true
   },
   "outputs": [],
   "source": [
    "def permute(s):\n",
    "    \n",
    "    out = []\n",
    "    \n",
    "    # Base Case\n",
    "    if len(s) == 1:\n",
    "        out = [s]\n",
    "     \n",
    "    else:\n",
    "       \n",
    "        for i, let in enumerate(s):\n",
    "            \n",
    "            #print (\"first for loop i = {}, let = {} , next string = {} \".format(i, let, s[:i] + s[i+1:]) )\n",
    "            \n",
    "            for perm  in permute(s[:i] + s[i+1:]):\n",
    "   \n",
    "                #print (\"inner for loop let = {}, perm = {} out + [let + perm] = {} \".format(let,perm, out+ [let + perm]))\n",
    "                out += [let + perm]\n",
    "\n",
    "    return out"
   ]
  },
  {
   "cell_type": "code",
   "execution_count": null,
   "metadata": {
    "collapsed": true
   },
   "outputs": [],
   "source": [
    "permute('abbc')"
   ]
  },
  {
   "cell_type": "code",
   "execution_count": null,
   "metadata": {
    "collapsed": true
   },
   "outputs": [],
   "source": [
    "permute('abc')"
   ]
  },
  {
   "cell_type": "code",
   "execution_count": 10,
   "metadata": {
    "collapsed": true
   },
   "outputs": [],
   "source": []
  },
  {
   "cell_type": "code",
   "execution_count": null,
   "metadata": {},
   "outputs": [],
   "source": []
  },
  {
   "cell_type": "markdown",
   "metadata": {},
   "source": [
    "#### use this onlnine line debugger to understand step by step\n",
    "\n",
    "#### https://www.onlinegdb.com/online_python_debugger\n",
    "\n",
    "\n",
    "Best link for all permutation program:\n",
    "\n",
    "### http://code.activestate.com/recipes/190465-generator-for-permutations-combinations-selections/"
   ]
  },
  {
   "cell_type": "code",
   "execution_count": null,
   "metadata": {
    "collapsed": true
   },
   "outputs": [],
   "source": [
    "def perm1(s):\n",
    "    if len(s) == 0:\n",
    "        return []\n",
    "    elif len(s) == 1:\n",
    "        return [s]\n",
    "    else:\n",
    "        l = []\n",
    "        for i in range(len(s)):\n",
    "            x = s[i]\n",
    "            xs = s[:i] + s[i+1:]\n",
    "            for p in perm1(xs):\n",
    "                # print (\"x = {}, p = {}\".format(x,p))\n",
    "                l.append(x + p)\n",
    "                \n",
    "        return l"
   ]
  },
  {
   "cell_type": "code",
   "execution_count": null,
   "metadata": {
    "collapsed": true
   },
   "outputs": [],
   "source": [
    "perm1(\"abc\")"
   ]
  },
  {
   "cell_type": "code",
   "execution_count": null,
   "metadata": {
    "collapsed": true
   },
   "outputs": [],
   "source": [
    "def perm_yield(s):\n",
    "\tif len(s) == 0:\n",
    "\t\tyield []\n",
    "\telif len(s) == 1:\n",
    "\t\tyield s\n",
    "\telse:\n",
    "\t\tfor i in range(len(s)):\n",
    "\t\t\tx = s[i]\n",
    "\t\t\txs = s[:i] + s[i+1:]\n",
    "\t\t\tfor p in perm_yield(xs):\n",
    "\t\t\t\tyield x + p  # it is not stroing in list. It will return as it will be called."
   ]
  },
  {
   "cell_type": "code",
   "execution_count": null,
   "metadata": {
    "collapsed": true
   },
   "outputs": [],
   "source": [
    "for p in perm_yield(\"abc\"):\n",
    "    print p"
   ]
  },
  {
   "cell_type": "code",
   "execution_count": null,
   "metadata": {
    "collapsed": true
   },
   "outputs": [],
   "source": []
  },
  {
   "cell_type": "code",
   "execution_count": null,
   "metadata": {
    "collapsed": true
   },
   "outputs": [],
   "source": []
  },
  {
   "cell_type": "code",
   "execution_count": null,
   "metadata": {
    "collapsed": true
   },
   "outputs": [],
   "source": []
  },
  {
   "cell_type": "markdown",
   "metadata": {},
   "source": [
    "## itertools functions"
   ]
  },
  {
   "cell_type": "markdown",
   "metadata": {},
   "source": [
    "### Problem 1\n",
    "\n",
    "Make an iterator that returns elements from the first iterable until it is exhausted, then proceeds to the next iterable, until all of the iterables are exhausted. Used for treating consecutive sequences as a single sequence.\n",
    "Exm : chain('ABC', 'DEF') --> A B C D E F"
   ]
  },
  {
   "cell_type": "code",
   "execution_count": null,
   "metadata": {
    "collapsed": true
   },
   "outputs": [],
   "source": [
    "def chain(*strings):\n",
    "    for str1 in strings:\n",
    "        for s in str1:\n",
    "            print s"
   ]
  },
  {
   "cell_type": "code",
   "execution_count": null,
   "metadata": {
    "collapsed": true
   },
   "outputs": [],
   "source": [
    "chain(\"abc\", \"def\")"
   ]
  },
  {
   "cell_type": "markdown",
   "metadata": {},
   "source": [
    "### Problem 2\n",
    "Return r length subsequences of elements from the input iterable.\n",
    "\n",
    "Combinations are emitted in lexicographic sort order. So, if the input iterable is sorted, the combination tuples will be produced in sorted order.\n",
    "\n",
    "Elements are treated as unique based on their position, not on their value. So if the input elements are unique, there will be no repeat values in each combination.\n",
    "\n",
    "exm: \n",
    "     combinations('ABCD', 2) --> AB AC AD BC BD CD\n",
    "     \n",
    "     combinations(range(4), 3) --> 012 013 023 123\n",
    "     \n",
    " The number of items returned is (n! / r!) / (n-r)! when 0 <= r <= n or zero when r > n."
   ]
  },
  {
   "cell_type": "code",
   "execution_count": null,
   "metadata": {
    "collapsed": true
   },
   "outputs": [],
   "source": [
    "def combinations(iterable, r):\n",
    "    pool = tuple(iterable)\n",
    "    n = len(pool)\n",
    "    for indices in permutations(range(n), r):\n",
    "        if sorted(indices) == list(indices):\n",
    "            yield tuple(pool[i] for i in indices)\n",
    "\n",
    "\n",
    "\n",
    "def permutations(iterable, r=None):\n",
    "    \"\"\"\n",
    "    Return successive r length permutations of elements in the iterable.\n",
    "\n",
    "    If r is not specified or is None, then r defaults to the length of the iterable and all possible full-length permutations are generated.\n",
    "\n",
    "    Permutations are emitted in lexicographic sort order. So, if the input iterable is sorted, the permutation tuples will be produced in sorted order.\n",
    "\n",
    "    Elements are treated as unique based on their position, not on their value. So if the input elements are unique, there will be no repeat values in each permutation.\n",
    "   \n",
    "    \"\"\"\n",
    "    pool = tuple(iterable)\n",
    "    n = len(pool)\n",
    "    r = n if r is None else r\n",
    "    for indices in product(range(n), repeat=r):\n",
    "        if len(set(indices)) == r:\n",
    "            yield tuple(pool[i] for i in indices)\n",
    "\n",
    "\n",
    "def product(*args, **kwds):\n",
    "    \n",
    "    \"\"\"\n",
    "    Roughly equivalent to nested for-loops in a generator expression. For example, product(A, B) returns the same as ((x,y) for x in A for y in B).\n",
    "\n",
    "    The nested loops cycle like an odometer with the rightmost element advancing on every iteration. This pattern creates a lexicographic ordering so that if the input’s iterables are sorted, the product tuples are emitted in sorted order.\n",
    "\n",
    "    To compute the product of an iterable with itself, specify the number of repetitions with the optional repeat keyword argument. For example, product(A, repeat=4) means the same as product(A, A, A, A).\n",
    "    \"\"\"\n",
    "    \n",
    "    # product('ABCD', 'xy') --> Ax Ay Bx By Cx Cy Dx Dy\n",
    "    # product(range(2), repeat=3) --> 000 001 010 011 100 101 110 111\n",
    "    pools = map(tuple, args) * kwds.get('repeat', 1)\n",
    "    result = [[]]\n",
    "    for pool in pools:\n",
    "        result = [x+[y] for x in result for y in pool]\n",
    "    for prod in result:\n",
    "        yield tuple(prod)\n",
    "            \n",
    "            \n",
    "for p in combinations(\"abcd\" , 2):\n",
    "    print p"
   ]
  },
  {
   "cell_type": "markdown",
   "metadata": {},
   "source": [
    "### Problem 3 \n",
    "\n",
    "Make an iterator that filters elements from data returning only those that have a corresponding element in selectors that evaluates to True. Stops when either the data or selectors iterables has been exhausted.\n",
    "\n",
    "Exm : compress('ABCDEF', [1,0,1,0,1,1]) --> A C E F"
   ]
  },
  {
   "cell_type": "code",
   "execution_count": null,
   "metadata": {
    "collapsed": true
   },
   "outputs": [],
   "source": [
    "def comparess(data, selectors):\n",
    "    "
   ]
  },
  {
   "cell_type": "code",
   "execution_count": null,
   "metadata": {
    "collapsed": true
   },
   "outputs": [],
   "source": [
    "data = 'ABCDEF'\n",
    "selector = [1,0,1,0,1,1]\n",
    "\n",
    "for d,s in zip(data, selector):\n",
    "    if s == 1:\n",
    "        print d\n"
   ]
  },
  {
   "cell_type": "markdown",
   "metadata": {},
   "source": [
    "### Slice Function\n",
    "\n",
    "slice(start, end, step)\n",
    "\n",
    "Parameter\tDescription\n",
    "\n",
    "start\tOptional. An integer number specifying at which position to start the slicing. Default is 0\n",
    "\n",
    "end\tAn integer number specifying at which position to end the slicing\n",
    "\n",
    "step\tOptional. An integer number specifying the step of the slicing. Default is 1"
   ]
  },
  {
   "cell_type": "code",
   "execution_count": null,
   "metadata": {
    "collapsed": true
   },
   "outputs": [],
   "source": [
    "def islice(iterable, *args):\n",
    "    # islice('ABCDEFG', 2) --> A B\n",
    "    # islice('ABCDEFG', 2, 4) --> C D\n",
    "    # islice('ABCDEFG', 2, None) --> C D E F G\n",
    "    # islice('ABCDEFG', 0, None, 2) --> A C E G\n",
    "    s = slice(*args)\n",
    "    \n",
    "    start , stop, step = s.start or 0 , min(s.stop, len(iterable)), s.step or 1\n",
    "    \n",
    "    if start == None:\n",
    "        start = 0\n",
    "    if stop == None:\n",
    "        stop = len(iterable)\n",
    "    if step == None:\n",
    "        step =1\n",
    "    \n",
    "    ##### Solutuion via python function\n",
    "    #print iterable[start:stop:step]  \n",
    "    \n",
    "    #### Manual solution\n",
    "    output = ''\n",
    "    next_char = start + step\n",
    "    \n",
    "    for i , s in enumerate(iterable):\n",
    "        if i == start:\n",
    "            output = output+s\n",
    "            \n",
    "        if i == next_char :\n",
    "            output = output+s\n",
    "            next_char = i + step\n",
    "            if i == stop-1:\n",
    "                print output\n",
    "                return\n",
    "                \n",
    "        \n",
    "        if i == stop-1:\n",
    "            output = output+s\n",
    "            print output\n",
    "            return\n",
    "        \n",
    "        \n",
    "    "
   ]
  },
  {
   "cell_type": "code",
   "execution_count": null,
   "metadata": {
    "collapsed": true
   },
   "outputs": [],
   "source": [
    "islice('ABCDEFG', 2) #--> A B\n",
    "islice('ABCDEFG', 2, 4)# --> C D\n",
    "islice('ABCDEFG', 2, 7)# --> C D E F G\n",
    "islice('ABCDEFG', 0, None, 2)# --> A C E G"
   ]
  },
  {
   "cell_type": "markdown",
   "metadata": {},
   "source": [
    "## More practice at https://docs.python.org/2/library/itertools.html"
   ]
  },
  {
   "cell_type": "code",
   "execution_count": null,
   "metadata": {
    "collapsed": true
   },
   "outputs": [],
   "source": [
    "def allstrings(alphabet, length):\n",
    "\t\"\"\"Find the list of all strings of 'alphabet' of length 'length'\"\"\"\n",
    "\t\n",
    "\tif length == 0: return []\n",
    "\t\n",
    "\tc = [[a] for a in alphabet[:]]\n",
    "\tif length == 1: return c\n",
    "\t\n",
    "\tc = [[x,y] for x in alphabet for y in alphabet]\n",
    "\tif length == 2: return c\n",
    "\t\n",
    "\tfor l in range(2, length):\n",
    "\t\tc = [[x]+y for x in alphabet for y in c]\n",
    "\t\t\n",
    "\treturn c\n",
    "\n",
    "if __name__ == \"__main__\":\n",
    "\tfor p in allstrings([0,1,2],2):\n",
    "\t\tprint p"
   ]
  },
  {
   "cell_type": "markdown",
   "metadata": {},
   "source": [
    "## Fibonnaci Sequence\n",
    "\n",
    "Implement a Fibonnaci Sequence in three different ways:\n",
    "\n",
    "Function Output\n",
    "Your function will accept a number n and return the nth number of the fibonacci sequence\n",
    "\n",
    "Remember that a fibonacci sequence: 0,1,1,2,3,5,8,13,21,... starts off with a base case checking to see if n = 0 or 1, then it returns 1."
   ]
  },
  {
   "cell_type": "code",
   "execution_count": null,
   "metadata": {
    "collapsed": true
   },
   "outputs": [],
   "source": [
    "def fib_rec(n):\n",
    "    \n",
    "    fibb = 0\n",
    "    fibb_list = []\n",
    "    \n",
    "    for i in range(n):\n",
    "        if i in (0,1):\n",
    "            fibb_list.append(1)\n",
    "        \n",
    "        else:\n",
    "            fibb_list.append(fibb_list[-1] + fibb_list[-2])\n",
    "    \n",
    "    return fibb_list[-1]"
   ]
  },
  {
   "cell_type": "code",
   "execution_count": null,
   "metadata": {
    "collapsed": true
   },
   "outputs": [],
   "source": [
    "fib_rec(23)"
   ]
  },
  {
   "cell_type": "code",
   "execution_count": null,
   "metadata": {
    "collapsed": true
   },
   "outputs": [],
   "source": [
    "\"\"\"\n",
    "UNCOMMENT THE CODE AT THE BOTTOM OF THIS CELL TO SELECT WHICH SOLUTIONS TO TEST.\n",
    "THEN RUN THE CELL.\n",
    "\"\"\"\n",
    "\n",
    "from nose.tools import assert_equal\n",
    "\n",
    "class TestFib(object):\n",
    "    \n",
    "    def test(self,solution):\n",
    "        assert_equal(solution(10),55)\n",
    "        assert_equal(solution(1),1)\n",
    "        assert_equal(solution(23),28657)\n",
    "        print 'Passed all tests.'\n",
    "# UNCOMMENT FOR CORRESPONDING FUNCTION\n",
    "t = TestFib()\n",
    "\n",
    "t.test(fib_rec)\n",
    "#t.test(fib_dyn) # Note, will need to reset cache size for each test!\n",
    "#t.test(fib_iter)"
   ]
  },
  {
   "cell_type": "code",
   "execution_count": null,
   "metadata": {
    "collapsed": true
   },
   "outputs": [],
   "source": [
    "def fib_rec2(n):\n",
    "\n",
    "    if n ==0 or n==1:\n",
    "        return n\n",
    "    else:\n",
    "        return fib_rec2(n-1) + fib_rec2(n-2)\n",
    "    "
   ]
  },
  {
   "cell_type": "code",
   "execution_count": null,
   "metadata": {
    "collapsed": true
   },
   "outputs": [],
   "source": [
    "t.test(fib_rec2)"
   ]
  },
  {
   "cell_type": "code",
   "execution_count": null,
   "metadata": {
    "collapsed": true
   },
   "outputs": [],
   "source": [
    "def fib_rec3(n):\n",
    "    a= 0\n",
    "    b= 1\n",
    "    \n",
    "    for i in range(n):\n",
    "        a,b = b,a+b\n",
    "    \n",
    "    return a"
   ]
  },
  {
   "cell_type": "code",
   "execution_count": null,
   "metadata": {
    "collapsed": true
   },
   "outputs": [],
   "source": [
    "fib_rec3(10)"
   ]
  },
  {
   "cell_type": "code",
   "execution_count": null,
   "metadata": {
    "collapsed": true
   },
   "outputs": [],
   "source": []
  },
  {
   "cell_type": "markdown",
   "metadata": {},
   "source": [
    "### Coin Change Problem\n",
    "Note: This problem has multiple solutions and is a classic problem in showing issues with basic recursion. If you are having trouble with this problem (or it seems to be taking a long time to run in some cases) check out the Solution Notebook and fully read the conclusion link for a detailed description of the various ways to solve this problem!\n",
    "This problem is common enough that is actually has its own Wikipedia Entry!\n",
    "\n",
    "Problem Statement\n",
    "Given a target amount n and a list (array) of distinct coin values, what's the fewest coins needed to make the change amount.\n",
    "\n",
    "For example:\n",
    "\n",
    "If n = 10 and coins = [1,5,10]. Then there are 4 possible ways to make change:\n",
    "\n",
    "1+1+1+1+1+1+1+1+1+1\n",
    "\n",
    "5 + 1+1+1+1+1\n",
    "\n",
    "5+5\n",
    "\n",
    "10\n",
    "\n",
    "With 1 coin being the minimum amount."
   ]
  },
  {
   "cell_type": "code",
   "execution_count": null,
   "metadata": {
    "collapsed": true
   },
   "outputs": [],
   "source": [
    "# This is not a recurssive method\n",
    "\n",
    "def rec_coin(target,coins):\n",
    "    \n",
    "    if target in coins:\n",
    "        return 1\n",
    "    \n",
    "    coins.sort()\n",
    "    coins.reverse()\n",
    "    cnt_coins = 0\n",
    "    temp_coins = 0\n",
    "    \n",
    "    for coin in coins:\n",
    "        \n",
    "        if target > coin:\n",
    "            \n",
    "            temp_coins = target/coin\n",
    "            target = target - (temp_coins * coin)\n",
    "            cnt_coins = cnt_coins + temp_coins\n",
    "            temp_coins = 0\n",
    "    \n",
    "    return cnt_coins\n"
   ]
  },
  {
   "cell_type": "code",
   "execution_count": null,
   "metadata": {
    "collapsed": true
   },
   "outputs": [],
   "source": [
    "\"\"\"\n",
    "RUN THIS CELL TO TEST YOUR FUNCTION.\n",
    "NOTE: NON-DYNAMIC FUNCTIONS WILL TAKE A LONG TIME TO TEST. IF YOU BELIEVE YOU HAVE A SOLUTION \n",
    "      GO CHECK THE SOLUTION NOTEBOOK INSTEAD OF RUNNING THIS!\n",
    "\"\"\"\n",
    "\n",
    "from nose.tools import assert_equal\n",
    "\n",
    "class TestCoins(object):\n",
    "    \n",
    "    def check(self,solution):\n",
    "        coins = [1,5,10,25]\n",
    "        assert_equal(solution(45,coins),3)\n",
    "        assert_equal(solution(23,coins),5)\n",
    "        assert_equal(solution(74,coins),8)\n",
    "        print 'Passed all tests.'\n",
    "# Run Test\n",
    "\n",
    "test = TestCoins()\n",
    "test.check(rec_coin)\n"
   ]
  },
  {
   "cell_type": "code",
   "execution_count": null,
   "metadata": {
    "collapsed": true
   },
   "outputs": [],
   "source": [
    "rec_coin(63,[1,5,10,15])"
   ]
  },
  {
   "cell_type": "code",
   "execution_count": null,
   "metadata": {
    "collapsed": true
   },
   "outputs": [],
   "source": [
    "def rec_coins_dynm(target, coins, known_result):\n",
    "    \n",
    "    # Default output to target\n",
    "    min_coins = target\n",
    "    \n",
    "    #Base case \n",
    "    if target in coins:\n",
    "        return 1\n",
    "    \n",
    "    # return know result if it is happen to be greater then 1.. \n",
    "    # because base case hase 1 option already and we are starting with 0\n",
    "    \n",
    "    elif known_result[target] > 0:\n",
    "        return known_result[target]\n",
    "    \n",
    "    for i in [c for c in coins if c <= target]:\n",
    "        \n",
    "        num_coins = 1 + rec_coins_dynm(target-i, coins, known_result)\n",
    "        \n",
    "        if num_coins < min_coins:\n",
    "            min_coins = num_coins\n",
    "            \n",
    "            known_result[target] = min_coins\n",
    "        \n",
    "    return min_coins"
   ]
  },
  {
   "cell_type": "code",
   "execution_count": null,
   "metadata": {
    "collapsed": true
   },
   "outputs": [],
   "source": [
    "target = 74\n",
    "coins = [1,5,10,15]\n",
    "known_result = [0]*(target+1)\n",
    "\n",
    "rec_coins_dynm(74,coins, known_result)"
   ]
  },
  {
   "cell_type": "markdown",
   "metadata": {},
   "source": [
    "## Bubble sort"
   ]
  },
  {
   "cell_type": "code",
   "execution_count": null,
   "metadata": {
    "collapsed": true
   },
   "outputs": [],
   "source": [
    "def bubble_sort(arr):\n",
    " \"\"\"\n",
    " Here, we are iterating for loop for 2*n times.\n",
    " This is not efficient solution.\n",
    " During first iteration, we will have highest element at last.\n",
    " During 2nd iteration, we will have 2nd highest element at 2nd last postion.\n",
    " \n",
    " Next function will implement the same\n",
    " \"\"\"\n",
    "    \n",
    "    for k in range(len(arr)-1):\n",
    "        for i in range(len(arr)-1):\n",
    "            \n",
    "            if arr[i] > arr[i+1]:\n",
    "                temp_value = arr[i]\n",
    "                arr[i] = arr[i+1]\n",
    "                arr[i+1] = temp_value\n",
    "        \n",
    "  \n",
    "                \n",
    "    print arr"
   ]
  },
  {
   "cell_type": "code",
   "execution_count": null,
   "metadata": {
    "collapsed": true
   },
   "outputs": [],
   "source": [
    "def bubble_sort2(arr):\n",
    " \n",
    "    \"\"\"\n",
    "     During first iteration, we will have highest element at last.\n",
    "     During 2nd iteration, we will have 2nd highest element at 2nd last postion.\n",
    "\n",
    "    \"\"\"\n",
    "    \n",
    "    for k in range(len(arr)-1,0,-1):\n",
    "        for i in range(len(arr)-1):\n",
    "            \n",
    "            if arr[i] > arr[i+1]:\n",
    "                temp_value = arr[i]\n",
    "                arr[i] = arr[i+1]\n",
    "                arr[i+1] = temp_value\n",
    "        \n",
    "  \n",
    "                \n",
    "    print arr"
   ]
  },
  {
   "cell_type": "code",
   "execution_count": null,
   "metadata": {
    "collapsed": true
   },
   "outputs": [],
   "source": [
    "arr = [5,3,7,2]\n",
    "bubble_sort(arr)\n",
    "bubble_sort2(arr)"
   ]
  },
  {
   "cell_type": "markdown",
   "metadata": {},
   "source": [
    "## Selection sort"
   ]
  },
  {
   "cell_type": "code",
   "execution_count": null,
   "metadata": {
    "collapsed": true
   },
   "outputs": [],
   "source": [
    "def selection_sort(arr):\n",
    "    \"\"\"\n",
    "    Here, we are arranging minimum at begining and starting with 0 index. and increasing inner for loop value as on we progres.\n",
    "    You can also start by maximum value at end and decrease inner for loop as on we progress.\n",
    "    \n",
    "    \"\"\"\n",
    "\n",
    "    for i in range(len(arr) -1):\n",
    "        curr_index = arr[i]\n",
    "        curr_min = arr[i]\n",
    "        curr_min_index = i\n",
    "        \n",
    "        for k in range(i, len(arr)) :\n",
    "            if arr[k] < curr_min:\n",
    "                curr_min = arr[k]\n",
    "                curr_min_index = k\n",
    "        \n",
    "        temp_value = arr[i]\n",
    "        arr[i] = arr[curr_min_index]\n",
    "        arr[curr_min_index] = temp_value\n",
    "                \n",
    "    print arr        \n",
    "            "
   ]
  },
  {
   "cell_type": "code",
   "execution_count": null,
   "metadata": {
    "collapsed": true
   },
   "outputs": [],
   "source": [
    "arr = [5,3,7,2,7,3,0,8,1,88,5,3,2,6,44,55,66,22,86]\n",
    "selection_sort(arr)\n"
   ]
  },
  {
   "cell_type": "markdown",
   "metadata": {},
   "source": [
    "## Insertion sort"
   ]
  },
  {
   "cell_type": "code",
   "execution_count": null,
   "metadata": {
    "collapsed": true
   },
   "outputs": [],
   "source": [
    "def insertion_sort(arr):\n",
    "    \n",
    "    for i in range(1, len(arr)):\n",
    "        curr_index = arr[i]\n",
    "        for k in range(i, 0, -1):\n",
    "            \n",
    "            print(\"i = {} , k = {} , a[i] = {} , a[k] = {}\".format(i,k,arr[i] ,arr[k] ))\n",
    "            \n",
    "            if curr_index < arr[k-1]:\n",
    "                \n",
    "                curr_min = arr[k]\n",
    "                arr[k] = arr[k-1]\n",
    "                arr[k-1] = curr_min\n",
    "            else:\n",
    "                \n",
    "                break\n",
    "            print arr\n",
    "  \n",
    "    \n",
    "    "
   ]
  },
  {
   "cell_type": "code",
   "execution_count": null,
   "metadata": {
    "collapsed": true
   },
   "outputs": [],
   "source": [
    "arr = [5,3,7,2,]\n",
    "insertion_sort(arr)"
   ]
  },
  {
   "cell_type": "code",
   "execution_count": null,
   "metadata": {
    "collapsed": true
   },
   "outputs": [],
   "source": [
    "# Insertion sort using while loop\n",
    "\n",
    "def insertion_sort2(arr):\n",
    "    \n",
    "    for i in range(1 , len(arr)):\n",
    "        \n",
    "        current_value = arr[i]\n",
    "        position = i\n",
    "        \n",
    "        while position > 0 and arr[position-1] > current_value:\n",
    "            arr[position] = arr[position-1]\n",
    "            position = position-1\n",
    "          \n",
    "            \n",
    "        arr[position] = current_value\n",
    "        \n",
    "    print arr"
   ]
  },
  {
   "cell_type": "code",
   "execution_count": null,
   "metadata": {
    "collapsed": true
   },
   "outputs": [],
   "source": [
    "arr = [5,3,7,2,]\n",
    "insertion_sort2(arr)"
   ]
  },
  {
   "cell_type": "markdown",
   "metadata": {},
   "source": [
    "## Merge sort\n",
    "\n",
    "Description : Basically, spilting entire array in to single single element of array and then comoparing left and right \n",
    "side. Place back to both side in to final array.\n",
    "\n",
    "This will be recurssive function. For more details, refer udemy lecture."
   ]
  },
  {
   "cell_type": "code",
   "execution_count": null,
   "metadata": {
    "collapsed": true
   },
   "outputs": [],
   "source": [
    "def merge_sort(arr):\n",
    "    \n",
    "    if len(arr) > 1:\n",
    "        mid = len(arr) / 2\n",
    "        leftarray = arr[:mid]\n",
    "        rightarray = arr[mid:]\n",
    "        \n",
    "        merge_sort(leftarray)\n",
    "        merge_sort(rightarray)\n",
    "        \n",
    "        i = 0\n",
    "        j = 0\n",
    "        k = 0\n",
    "        \n",
    "        while i < len(leftarray) and j < len(rightarray):\n",
    "            \n",
    "            if leftarray[i] < rightarray[j]:\n",
    "                arr[k] = leftarray[i]\n",
    "                i += 1\n",
    "            else:\n",
    "                arr[k] = rightarray[j]\n",
    "                j += 1\n",
    "            \n",
    "            k += 1\n",
    "        \n",
    "        while i < len(leftarray):\n",
    "            \n",
    "            arr[k] = leftarray[i]\n",
    "            i += 1\n",
    "            k += 1\n",
    "        \n",
    "        while j < len(rightarray):\n",
    "            \n",
    "            arr[k] = rightarray[j]\n",
    "            j += 1\n",
    "            k += 1\n",
    "            \n",
    "    print arr\n",
    "                "
   ]
  },
  {
   "cell_type": "code",
   "execution_count": null,
   "metadata": {
    "collapsed": true
   },
   "outputs": [],
   "source": [
    "arr = [ 5,7,3,2 , 8,3,0,1,33]\n",
    "merge_sort(arr)"
   ]
  },
  {
   "cell_type": "code",
   "execution_count": null,
   "metadata": {
    "collapsed": true
   },
   "outputs": [],
   "source": []
  },
  {
   "cell_type": "code",
   "execution_count": null,
   "metadata": {
    "collapsed": true
   },
   "outputs": [],
   "source": []
  },
  {
   "cell_type": "code",
   "execution_count": null,
   "metadata": {
    "collapsed": true
   },
   "outputs": [],
   "source": []
  },
  {
   "cell_type": "code",
   "execution_count": null,
   "metadata": {
    "collapsed": true
   },
   "outputs": [],
   "source": []
  },
  {
   "cell_type": "code",
   "execution_count": null,
   "metadata": {
    "collapsed": true
   },
   "outputs": [],
   "source": []
  },
  {
   "cell_type": "code",
   "execution_count": null,
   "metadata": {
    "collapsed": true
   },
   "outputs": [],
   "source": []
  },
  {
   "cell_type": "code",
   "execution_count": null,
   "metadata": {
    "collapsed": true
   },
   "outputs": [],
   "source": []
  }
 ],
 "metadata": {
  "kernelspec": {
   "display_name": "Python 2",
   "language": "python",
   "name": "python2"
  },
  "language_info": {
   "codemirror_mode": {
    "name": "ipython",
    "version": 2
   },
   "file_extension": ".py",
   "mimetype": "text/x-python",
   "name": "python",
   "nbconvert_exporter": "python",
   "pygments_lexer": "ipython2",
   "version": "2.7.13"
  }
 },
 "nbformat": 4,
 "nbformat_minor": 2
}
