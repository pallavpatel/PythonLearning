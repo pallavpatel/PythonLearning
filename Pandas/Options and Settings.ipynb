{
 "cells": [
  {
   "cell_type": "code",
   "execution_count": 1,
   "metadata": {
    "collapsed": true
   },
   "outputs": [],
   "source": [
    "import pandas as pd\n",
    "import numpy as np"
   ]
  },
  {
   "cell_type": "markdown",
   "metadata": {},
   "source": [
    "# Changing options with attributes and dot syntax"
   ]
  },
  {
   "cell_type": "code",
   "execution_count": 5,
   "metadata": {},
   "outputs": [
    {
     "data": {
      "text/html": [
       "<div>\n",
       "<table border=\"1\" class=\"dataframe\">\n",
       "  <thead>\n",
       "    <tr style=\"text-align: right;\">\n",
       "      <th></th>\n",
       "      <th>0</th>\n",
       "      <th>1</th>\n",
       "      <th>2</th>\n",
       "      <th>3</th>\n",
       "      <th>4</th>\n",
       "      <th>5</th>\n",
       "      <th>6</th>\n",
       "      <th>7</th>\n",
       "      <th>8</th>\n",
       "      <th>9</th>\n",
       "      <th>...</th>\n",
       "      <th>40</th>\n",
       "      <th>41</th>\n",
       "      <th>42</th>\n",
       "      <th>43</th>\n",
       "      <th>44</th>\n",
       "      <th>45</th>\n",
       "      <th>46</th>\n",
       "      <th>47</th>\n",
       "      <th>48</th>\n",
       "      <th>49</th>\n",
       "    </tr>\n",
       "  </thead>\n",
       "  <tbody>\n",
       "    <tr>\n",
       "      <th>0</th>\n",
       "      <td>81</td>\n",
       "      <td>18</td>\n",
       "      <td>68</td>\n",
       "      <td>82</td>\n",
       "      <td>12</td>\n",
       "      <td>91</td>\n",
       "      <td>8</td>\n",
       "      <td>67</td>\n",
       "      <td>2</td>\n",
       "      <td>94</td>\n",
       "      <td>...</td>\n",
       "      <td>34</td>\n",
       "      <td>62</td>\n",
       "      <td>60</td>\n",
       "      <td>36</td>\n",
       "      <td>34</td>\n",
       "      <td>32</td>\n",
       "      <td>49</td>\n",
       "      <td>59</td>\n",
       "      <td>29</td>\n",
       "      <td>85</td>\n",
       "    </tr>\n",
       "    <tr>\n",
       "      <th>1</th>\n",
       "      <td>70</td>\n",
       "      <td>98</td>\n",
       "      <td>29</td>\n",
       "      <td>87</td>\n",
       "      <td>14</td>\n",
       "      <td>73</td>\n",
       "      <td>42</td>\n",
       "      <td>96</td>\n",
       "      <td>12</td>\n",
       "      <td>24</td>\n",
       "      <td>...</td>\n",
       "      <td>25</td>\n",
       "      <td>83</td>\n",
       "      <td>49</td>\n",
       "      <td>94</td>\n",
       "      <td>22</td>\n",
       "      <td>88</td>\n",
       "      <td>53</td>\n",
       "      <td>98</td>\n",
       "      <td>78</td>\n",
       "      <td>40</td>\n",
       "    </tr>\n",
       "    <tr>\n",
       "      <th>2</th>\n",
       "      <td>27</td>\n",
       "      <td>25</td>\n",
       "      <td>51</td>\n",
       "      <td>76</td>\n",
       "      <td>48</td>\n",
       "      <td>38</td>\n",
       "      <td>59</td>\n",
       "      <td>44</td>\n",
       "      <td>94</td>\n",
       "      <td>4</td>\n",
       "      <td>...</td>\n",
       "      <td>78</td>\n",
       "      <td>99</td>\n",
       "      <td>87</td>\n",
       "      <td>2</td>\n",
       "      <td>69</td>\n",
       "      <td>57</td>\n",
       "      <td>97</td>\n",
       "      <td>4</td>\n",
       "      <td>33</td>\n",
       "      <td>8</td>\n",
       "    </tr>\n",
       "    <tr>\n",
       "      <th>3</th>\n",
       "      <td>41</td>\n",
       "      <td>54</td>\n",
       "      <td>48</td>\n",
       "      <td>87</td>\n",
       "      <td>74</td>\n",
       "      <td>18</td>\n",
       "      <td>51</td>\n",
       "      <td>7</td>\n",
       "      <td>20</td>\n",
       "      <td>11</td>\n",
       "      <td>...</td>\n",
       "      <td>18</td>\n",
       "      <td>85</td>\n",
       "      <td>45</td>\n",
       "      <td>85</td>\n",
       "      <td>5</td>\n",
       "      <td>85</td>\n",
       "      <td>84</td>\n",
       "      <td>79</td>\n",
       "      <td>35</td>\n",
       "      <td>10</td>\n",
       "    </tr>\n",
       "    <tr>\n",
       "      <th>4</th>\n",
       "      <td>40</td>\n",
       "      <td>30</td>\n",
       "      <td>53</td>\n",
       "      <td>16</td>\n",
       "      <td>24</td>\n",
       "      <td>23</td>\n",
       "      <td>70</td>\n",
       "      <td>34</td>\n",
       "      <td>83</td>\n",
       "      <td>89</td>\n",
       "      <td>...</td>\n",
       "      <td>86</td>\n",
       "      <td>50</td>\n",
       "      <td>69</td>\n",
       "      <td>59</td>\n",
       "      <td>62</td>\n",
       "      <td>49</td>\n",
       "      <td>83</td>\n",
       "      <td>94</td>\n",
       "      <td>97</td>\n",
       "      <td>58</td>\n",
       "    </tr>\n",
       "  </tbody>\n",
       "</table>\n",
       "<p>5 rows × 50 columns</p>\n",
       "</div>"
      ],
      "text/plain": [
       "   0   1   2   3   4   5   6   7   8   9  ...  40  41  42  43  44  45  46  47  \\\n",
       "0  81  18  68  82  12  91   8  67   2  94 ...  34  62  60  36  34  32  49  59   \n",
       "1  70  98  29  87  14  73  42  96  12  24 ...  25  83  49  94  22  88  53  98   \n",
       "2  27  25  51  76  48  38  59  44  94   4 ...  78  99  87   2  69  57  97   4   \n",
       "3  41  54  48  87  74  18  51   7  20  11 ...  18  85  45  85   5  85  84  79   \n",
       "4  40  30  53  16  24  23  70  34  83  89 ...  86  50  69  59  62  49  83  94   \n",
       "\n",
       "   48  49  \n",
       "0  29  85  \n",
       "1  78  40  \n",
       "2  33   8  \n",
       "3  35  10  \n",
       "4  97  58  \n",
       "\n",
       "[5 rows x 50 columns]"
      ]
     },
     "execution_count": 5,
     "metadata": {},
     "output_type": "execute_result"
    }
   ],
   "source": [
    "data = np.random.randint(0,100, [1000,50])\n",
    "\n",
    "df = pd.DataFrame(data)\n",
    "\n",
    "df.head()"
   ]
  },
  {
   "cell_type": "code",
   "execution_count": 6,
   "metadata": {
    "collapsed": true
   },
   "outputs": [],
   "source": [
    "pd.options.display.max_rows = 10"
   ]
  },
  {
   "cell_type": "code",
   "execution_count": 7,
   "metadata": {},
   "outputs": [
    {
     "data": {
      "text/html": [
       "<div>\n",
       "<table border=\"1\" class=\"dataframe\">\n",
       "  <thead>\n",
       "    <tr style=\"text-align: right;\">\n",
       "      <th></th>\n",
       "      <th>0</th>\n",
       "      <th>1</th>\n",
       "      <th>2</th>\n",
       "      <th>3</th>\n",
       "      <th>4</th>\n",
       "      <th>5</th>\n",
       "      <th>6</th>\n",
       "      <th>7</th>\n",
       "      <th>8</th>\n",
       "      <th>9</th>\n",
       "      <th>...</th>\n",
       "      <th>40</th>\n",
       "      <th>41</th>\n",
       "      <th>42</th>\n",
       "      <th>43</th>\n",
       "      <th>44</th>\n",
       "      <th>45</th>\n",
       "      <th>46</th>\n",
       "      <th>47</th>\n",
       "      <th>48</th>\n",
       "      <th>49</th>\n",
       "    </tr>\n",
       "  </thead>\n",
       "  <tbody>\n",
       "    <tr>\n",
       "      <th>0</th>\n",
       "      <td>81</td>\n",
       "      <td>18</td>\n",
       "      <td>68</td>\n",
       "      <td>82</td>\n",
       "      <td>12</td>\n",
       "      <td>91</td>\n",
       "      <td>8</td>\n",
       "      <td>67</td>\n",
       "      <td>2</td>\n",
       "      <td>94</td>\n",
       "      <td>...</td>\n",
       "      <td>34</td>\n",
       "      <td>62</td>\n",
       "      <td>60</td>\n",
       "      <td>36</td>\n",
       "      <td>34</td>\n",
       "      <td>32</td>\n",
       "      <td>49</td>\n",
       "      <td>59</td>\n",
       "      <td>29</td>\n",
       "      <td>85</td>\n",
       "    </tr>\n",
       "    <tr>\n",
       "      <th>1</th>\n",
       "      <td>70</td>\n",
       "      <td>98</td>\n",
       "      <td>29</td>\n",
       "      <td>87</td>\n",
       "      <td>14</td>\n",
       "      <td>73</td>\n",
       "      <td>42</td>\n",
       "      <td>96</td>\n",
       "      <td>12</td>\n",
       "      <td>24</td>\n",
       "      <td>...</td>\n",
       "      <td>25</td>\n",
       "      <td>83</td>\n",
       "      <td>49</td>\n",
       "      <td>94</td>\n",
       "      <td>22</td>\n",
       "      <td>88</td>\n",
       "      <td>53</td>\n",
       "      <td>98</td>\n",
       "      <td>78</td>\n",
       "      <td>40</td>\n",
       "    </tr>\n",
       "    <tr>\n",
       "      <th>2</th>\n",
       "      <td>27</td>\n",
       "      <td>25</td>\n",
       "      <td>51</td>\n",
       "      <td>76</td>\n",
       "      <td>48</td>\n",
       "      <td>38</td>\n",
       "      <td>59</td>\n",
       "      <td>44</td>\n",
       "      <td>94</td>\n",
       "      <td>4</td>\n",
       "      <td>...</td>\n",
       "      <td>78</td>\n",
       "      <td>99</td>\n",
       "      <td>87</td>\n",
       "      <td>2</td>\n",
       "      <td>69</td>\n",
       "      <td>57</td>\n",
       "      <td>97</td>\n",
       "      <td>4</td>\n",
       "      <td>33</td>\n",
       "      <td>8</td>\n",
       "    </tr>\n",
       "    <tr>\n",
       "      <th>3</th>\n",
       "      <td>41</td>\n",
       "      <td>54</td>\n",
       "      <td>48</td>\n",
       "      <td>87</td>\n",
       "      <td>74</td>\n",
       "      <td>18</td>\n",
       "      <td>51</td>\n",
       "      <td>7</td>\n",
       "      <td>20</td>\n",
       "      <td>11</td>\n",
       "      <td>...</td>\n",
       "      <td>18</td>\n",
       "      <td>85</td>\n",
       "      <td>45</td>\n",
       "      <td>85</td>\n",
       "      <td>5</td>\n",
       "      <td>85</td>\n",
       "      <td>84</td>\n",
       "      <td>79</td>\n",
       "      <td>35</td>\n",
       "      <td>10</td>\n",
       "    </tr>\n",
       "    <tr>\n",
       "      <th>4</th>\n",
       "      <td>40</td>\n",
       "      <td>30</td>\n",
       "      <td>53</td>\n",
       "      <td>16</td>\n",
       "      <td>24</td>\n",
       "      <td>23</td>\n",
       "      <td>70</td>\n",
       "      <td>34</td>\n",
       "      <td>83</td>\n",
       "      <td>89</td>\n",
       "      <td>...</td>\n",
       "      <td>86</td>\n",
       "      <td>50</td>\n",
       "      <td>69</td>\n",
       "      <td>59</td>\n",
       "      <td>62</td>\n",
       "      <td>49</td>\n",
       "      <td>83</td>\n",
       "      <td>94</td>\n",
       "      <td>97</td>\n",
       "      <td>58</td>\n",
       "    </tr>\n",
       "    <tr>\n",
       "      <th>...</th>\n",
       "      <td>...</td>\n",
       "      <td>...</td>\n",
       "      <td>...</td>\n",
       "      <td>...</td>\n",
       "      <td>...</td>\n",
       "      <td>...</td>\n",
       "      <td>...</td>\n",
       "      <td>...</td>\n",
       "      <td>...</td>\n",
       "      <td>...</td>\n",
       "      <td>...</td>\n",
       "      <td>...</td>\n",
       "      <td>...</td>\n",
       "      <td>...</td>\n",
       "      <td>...</td>\n",
       "      <td>...</td>\n",
       "      <td>...</td>\n",
       "      <td>...</td>\n",
       "      <td>...</td>\n",
       "      <td>...</td>\n",
       "      <td>...</td>\n",
       "    </tr>\n",
       "    <tr>\n",
       "      <th>995</th>\n",
       "      <td>37</td>\n",
       "      <td>18</td>\n",
       "      <td>79</td>\n",
       "      <td>12</td>\n",
       "      <td>89</td>\n",
       "      <td>18</td>\n",
       "      <td>17</td>\n",
       "      <td>42</td>\n",
       "      <td>92</td>\n",
       "      <td>69</td>\n",
       "      <td>...</td>\n",
       "      <td>93</td>\n",
       "      <td>48</td>\n",
       "      <td>60</td>\n",
       "      <td>20</td>\n",
       "      <td>84</td>\n",
       "      <td>19</td>\n",
       "      <td>98</td>\n",
       "      <td>85</td>\n",
       "      <td>43</td>\n",
       "      <td>31</td>\n",
       "    </tr>\n",
       "    <tr>\n",
       "      <th>996</th>\n",
       "      <td>80</td>\n",
       "      <td>96</td>\n",
       "      <td>42</td>\n",
       "      <td>52</td>\n",
       "      <td>65</td>\n",
       "      <td>76</td>\n",
       "      <td>72</td>\n",
       "      <td>83</td>\n",
       "      <td>25</td>\n",
       "      <td>53</td>\n",
       "      <td>...</td>\n",
       "      <td>55</td>\n",
       "      <td>38</td>\n",
       "      <td>20</td>\n",
       "      <td>78</td>\n",
       "      <td>30</td>\n",
       "      <td>4</td>\n",
       "      <td>95</td>\n",
       "      <td>42</td>\n",
       "      <td>3</td>\n",
       "      <td>47</td>\n",
       "    </tr>\n",
       "    <tr>\n",
       "      <th>997</th>\n",
       "      <td>67</td>\n",
       "      <td>79</td>\n",
       "      <td>1</td>\n",
       "      <td>15</td>\n",
       "      <td>37</td>\n",
       "      <td>0</td>\n",
       "      <td>46</td>\n",
       "      <td>96</td>\n",
       "      <td>94</td>\n",
       "      <td>82</td>\n",
       "      <td>...</td>\n",
       "      <td>62</td>\n",
       "      <td>6</td>\n",
       "      <td>23</td>\n",
       "      <td>40</td>\n",
       "      <td>85</td>\n",
       "      <td>28</td>\n",
       "      <td>59</td>\n",
       "      <td>68</td>\n",
       "      <td>52</td>\n",
       "      <td>39</td>\n",
       "    </tr>\n",
       "    <tr>\n",
       "      <th>998</th>\n",
       "      <td>43</td>\n",
       "      <td>25</td>\n",
       "      <td>18</td>\n",
       "      <td>60</td>\n",
       "      <td>94</td>\n",
       "      <td>80</td>\n",
       "      <td>53</td>\n",
       "      <td>76</td>\n",
       "      <td>64</td>\n",
       "      <td>95</td>\n",
       "      <td>...</td>\n",
       "      <td>98</td>\n",
       "      <td>26</td>\n",
       "      <td>61</td>\n",
       "      <td>31</td>\n",
       "      <td>58</td>\n",
       "      <td>70</td>\n",
       "      <td>21</td>\n",
       "      <td>68</td>\n",
       "      <td>28</td>\n",
       "      <td>73</td>\n",
       "    </tr>\n",
       "    <tr>\n",
       "      <th>999</th>\n",
       "      <td>15</td>\n",
       "      <td>14</td>\n",
       "      <td>28</td>\n",
       "      <td>72</td>\n",
       "      <td>22</td>\n",
       "      <td>13</td>\n",
       "      <td>86</td>\n",
       "      <td>19</td>\n",
       "      <td>54</td>\n",
       "      <td>2</td>\n",
       "      <td>...</td>\n",
       "      <td>97</td>\n",
       "      <td>4</td>\n",
       "      <td>63</td>\n",
       "      <td>1</td>\n",
       "      <td>88</td>\n",
       "      <td>87</td>\n",
       "      <td>92</td>\n",
       "      <td>83</td>\n",
       "      <td>73</td>\n",
       "      <td>1</td>\n",
       "    </tr>\n",
       "  </tbody>\n",
       "</table>\n",
       "<p>1000 rows × 50 columns</p>\n",
       "</div>"
      ],
      "text/plain": [
       "     0   1   2   3   4   5   6   7   8   9  ...  40  41  42  43  44  45  46  \\\n",
       "0    81  18  68  82  12  91   8  67   2  94 ...  34  62  60  36  34  32  49   \n",
       "1    70  98  29  87  14  73  42  96  12  24 ...  25  83  49  94  22  88  53   \n",
       "2    27  25  51  76  48  38  59  44  94   4 ...  78  99  87   2  69  57  97   \n",
       "3    41  54  48  87  74  18  51   7  20  11 ...  18  85  45  85   5  85  84   \n",
       "4    40  30  53  16  24  23  70  34  83  89 ...  86  50  69  59  62  49  83   \n",
       "..   ..  ..  ..  ..  ..  ..  ..  ..  ..  .. ...  ..  ..  ..  ..  ..  ..  ..   \n",
       "995  37  18  79  12  89  18  17  42  92  69 ...  93  48  60  20  84  19  98   \n",
       "996  80  96  42  52  65  76  72  83  25  53 ...  55  38  20  78  30   4  95   \n",
       "997  67  79   1  15  37   0  46  96  94  82 ...  62   6  23  40  85  28  59   \n",
       "998  43  25  18  60  94  80  53  76  64  95 ...  98  26  61  31  58  70  21   \n",
       "999  15  14  28  72  22  13  86  19  54   2 ...  97   4  63   1  88  87  92   \n",
       "\n",
       "     47  48  49  \n",
       "0    59  29  85  \n",
       "1    98  78  40  \n",
       "2     4  33   8  \n",
       "3    79  35  10  \n",
       "4    94  97  58  \n",
       "..   ..  ..  ..  \n",
       "995  85  43  31  \n",
       "996  42   3  47  \n",
       "997  68  52  39  \n",
       "998  68  28  73  \n",
       "999  83  73   1  \n",
       "\n",
       "[1000 rows x 50 columns]"
      ]
     },
     "execution_count": 7,
     "metadata": {},
     "output_type": "execute_result"
    }
   ],
   "source": [
    "df"
   ]
  },
  {
   "cell_type": "code",
   "execution_count": 8,
   "metadata": {
    "collapsed": true
   },
   "outputs": [],
   "source": [
    "pd.options.display.max_columns = 4"
   ]
  },
  {
   "cell_type": "code",
   "execution_count": 9,
   "metadata": {},
   "outputs": [
    {
     "data": {
      "text/html": [
       "<div>\n",
       "<table border=\"1\" class=\"dataframe\">\n",
       "  <thead>\n",
       "    <tr style=\"text-align: right;\">\n",
       "      <th></th>\n",
       "      <th>0</th>\n",
       "      <th>1</th>\n",
       "      <th>...</th>\n",
       "      <th>48</th>\n",
       "      <th>49</th>\n",
       "    </tr>\n",
       "  </thead>\n",
       "  <tbody>\n",
       "    <tr>\n",
       "      <th>0</th>\n",
       "      <td>81</td>\n",
       "      <td>18</td>\n",
       "      <td>...</td>\n",
       "      <td>29</td>\n",
       "      <td>85</td>\n",
       "    </tr>\n",
       "    <tr>\n",
       "      <th>1</th>\n",
       "      <td>70</td>\n",
       "      <td>98</td>\n",
       "      <td>...</td>\n",
       "      <td>78</td>\n",
       "      <td>40</td>\n",
       "    </tr>\n",
       "    <tr>\n",
       "      <th>2</th>\n",
       "      <td>27</td>\n",
       "      <td>25</td>\n",
       "      <td>...</td>\n",
       "      <td>33</td>\n",
       "      <td>8</td>\n",
       "    </tr>\n",
       "    <tr>\n",
       "      <th>3</th>\n",
       "      <td>41</td>\n",
       "      <td>54</td>\n",
       "      <td>...</td>\n",
       "      <td>35</td>\n",
       "      <td>10</td>\n",
       "    </tr>\n",
       "    <tr>\n",
       "      <th>4</th>\n",
       "      <td>40</td>\n",
       "      <td>30</td>\n",
       "      <td>...</td>\n",
       "      <td>97</td>\n",
       "      <td>58</td>\n",
       "    </tr>\n",
       "    <tr>\n",
       "      <th>...</th>\n",
       "      <td>...</td>\n",
       "      <td>...</td>\n",
       "      <td>...</td>\n",
       "      <td>...</td>\n",
       "      <td>...</td>\n",
       "    </tr>\n",
       "    <tr>\n",
       "      <th>995</th>\n",
       "      <td>37</td>\n",
       "      <td>18</td>\n",
       "      <td>...</td>\n",
       "      <td>43</td>\n",
       "      <td>31</td>\n",
       "    </tr>\n",
       "    <tr>\n",
       "      <th>996</th>\n",
       "      <td>80</td>\n",
       "      <td>96</td>\n",
       "      <td>...</td>\n",
       "      <td>3</td>\n",
       "      <td>47</td>\n",
       "    </tr>\n",
       "    <tr>\n",
       "      <th>997</th>\n",
       "      <td>67</td>\n",
       "      <td>79</td>\n",
       "      <td>...</td>\n",
       "      <td>52</td>\n",
       "      <td>39</td>\n",
       "    </tr>\n",
       "    <tr>\n",
       "      <th>998</th>\n",
       "      <td>43</td>\n",
       "      <td>25</td>\n",
       "      <td>...</td>\n",
       "      <td>28</td>\n",
       "      <td>73</td>\n",
       "    </tr>\n",
       "    <tr>\n",
       "      <th>999</th>\n",
       "      <td>15</td>\n",
       "      <td>14</td>\n",
       "      <td>...</td>\n",
       "      <td>73</td>\n",
       "      <td>1</td>\n",
       "    </tr>\n",
       "  </tbody>\n",
       "</table>\n",
       "<p>1000 rows × 50 columns</p>\n",
       "</div>"
      ],
      "text/plain": [
       "     0   1  ...  48  49\n",
       "0    81  18 ...  29  85\n",
       "1    70  98 ...  78  40\n",
       "2    27  25 ...  33   8\n",
       "3    41  54 ...  35  10\n",
       "4    40  30 ...  97  58\n",
       "..   ..  .. ...  ..  ..\n",
       "995  37  18 ...  43  31\n",
       "996  80  96 ...   3  47\n",
       "997  67  79 ...  52  39\n",
       "998  43  25 ...  28  73\n",
       "999  15  14 ...  73   1\n",
       "\n",
       "[1000 rows x 50 columns]"
      ]
     },
     "execution_count": 9,
     "metadata": {},
     "output_type": "execute_result"
    }
   ],
   "source": [
    "df"
   ]
  },
  {
   "cell_type": "code",
   "execution_count": 10,
   "metadata": {},
   "outputs": [
    {
     "data": {
      "text/html": [
       "<div>\n",
       "<table border=\"1\" class=\"dataframe\">\n",
       "  <thead>\n",
       "    <tr style=\"text-align: right;\">\n",
       "      <th></th>\n",
       "      <th>0</th>\n",
       "      <th>1</th>\n",
       "      <th>...</th>\n",
       "      <th>48</th>\n",
       "      <th>49</th>\n",
       "    </tr>\n",
       "  </thead>\n",
       "  <tbody>\n",
       "    <tr>\n",
       "      <th>0</th>\n",
       "      <td>18</td>\n",
       "      <td>56</td>\n",
       "      <td>...</td>\n",
       "      <td>66</td>\n",
       "      <td>2</td>\n",
       "    </tr>\n",
       "    <tr>\n",
       "      <th>1</th>\n",
       "      <td>85</td>\n",
       "      <td>26</td>\n",
       "      <td>...</td>\n",
       "      <td>62</td>\n",
       "      <td>52</td>\n",
       "    </tr>\n",
       "    <tr>\n",
       "      <th>2</th>\n",
       "      <td>83</td>\n",
       "      <td>45</td>\n",
       "      <td>...</td>\n",
       "      <td>1</td>\n",
       "      <td>59</td>\n",
       "    </tr>\n",
       "    <tr>\n",
       "      <th>3</th>\n",
       "      <td>58</td>\n",
       "      <td>87</td>\n",
       "      <td>...</td>\n",
       "      <td>79</td>\n",
       "      <td>55</td>\n",
       "    </tr>\n",
       "    <tr>\n",
       "      <th>4</th>\n",
       "      <td>70</td>\n",
       "      <td>61</td>\n",
       "      <td>...</td>\n",
       "      <td>32</td>\n",
       "      <td>79</td>\n",
       "    </tr>\n",
       "  </tbody>\n",
       "</table>\n",
       "<p>5 rows × 50 columns</p>\n",
       "</div>"
      ],
      "text/plain": [
       "   0   1  ...  48  49\n",
       "0  18  56 ...  66   2\n",
       "1  85  26 ...  62  52\n",
       "2  83  45 ...   1  59\n",
       "3  58  87 ...  79  55\n",
       "4  70  61 ...  32  79\n",
       "\n",
       "[5 rows x 50 columns]"
      ]
     },
     "execution_count": 10,
     "metadata": {},
     "output_type": "execute_result"
    }
   ],
   "source": [
    "data = np.random.randint(0,100, [1000,50])\n",
    "\n",
    "df = pd.DataFrame(data)\n",
    "\n",
    "df.head()"
   ]
  },
  {
   "cell_type": "code",
   "execution_count": 11,
   "metadata": {},
   "outputs": [
    {
     "data": {
      "text/plain": [
       "10"
      ]
     },
     "execution_count": 11,
     "metadata": {},
     "output_type": "execute_result"
    }
   ],
   "source": [
    "pd.get_option(\"max_rows\")"
   ]
  },
  {
   "cell_type": "code",
   "execution_count": 12,
   "metadata": {},
   "outputs": [
    {
     "data": {
      "text/plain": [
       "4"
      ]
     },
     "execution_count": 12,
     "metadata": {},
     "output_type": "execute_result"
    }
   ],
   "source": [
    "pd.get_option(\"max_columns\")"
   ]
  },
  {
   "cell_type": "code",
   "execution_count": 13,
   "metadata": {
    "collapsed": true
   },
   "outputs": [],
   "source": [
    "pd.set_option(\"max_row\" , 8)"
   ]
  },
  {
   "cell_type": "code",
   "execution_count": 14,
   "metadata": {},
   "outputs": [
    {
     "data": {
      "text/plain": [
       "8"
      ]
     },
     "execution_count": 14,
     "metadata": {},
     "output_type": "execute_result"
    }
   ],
   "source": [
    "pd.get_option(\"max_rows\")"
   ]
  },
  {
   "cell_type": "code",
   "execution_count": 15,
   "metadata": {
    "collapsed": true
   },
   "outputs": [],
   "source": [
    "pd.reset_option(\"max_rows\")"
   ]
  },
  {
   "cell_type": "code",
   "execution_count": 16,
   "metadata": {},
   "outputs": [
    {
     "data": {
      "text/plain": [
       "60"
      ]
     },
     "execution_count": 16,
     "metadata": {},
     "output_type": "execute_result"
    }
   ],
   "source": [
    "pd.get_option(\"max_rows\")"
   ]
  },
  {
   "cell_type": "code",
   "execution_count": null,
   "metadata": {
    "collapsed": true
   },
   "outputs": [],
   "source": []
  },
  {
   "cell_type": "code",
   "execution_count": null,
   "metadata": {
    "collapsed": true
   },
   "outputs": [],
   "source": []
  },
  {
   "cell_type": "code",
   "execution_count": null,
   "metadata": {
    "collapsed": true
   },
   "outputs": [],
   "source": []
  },
  {
   "cell_type": "code",
   "execution_count": null,
   "metadata": {
    "collapsed": true
   },
   "outputs": [],
   "source": []
  },
  {
   "cell_type": "code",
   "execution_count": null,
   "metadata": {
    "collapsed": true
   },
   "outputs": [],
   "source": []
  },
  {
   "cell_type": "code",
   "execution_count": null,
   "metadata": {
    "collapsed": true
   },
   "outputs": [],
   "source": []
  },
  {
   "cell_type": "code",
   "execution_count": null,
   "metadata": {
    "collapsed": true
   },
   "outputs": [],
   "source": []
  },
  {
   "cell_type": "code",
   "execution_count": null,
   "metadata": {
    "collapsed": true
   },
   "outputs": [],
   "source": []
  },
  {
   "cell_type": "code",
   "execution_count": null,
   "metadata": {
    "collapsed": true
   },
   "outputs": [],
   "source": []
  },
  {
   "cell_type": "code",
   "execution_count": null,
   "metadata": {
    "collapsed": true
   },
   "outputs": [],
   "source": []
  },
  {
   "cell_type": "code",
   "execution_count": null,
   "metadata": {
    "collapsed": true
   },
   "outputs": [],
   "source": []
  },
  {
   "cell_type": "code",
   "execution_count": null,
   "metadata": {
    "collapsed": true
   },
   "outputs": [],
   "source": []
  },
  {
   "cell_type": "code",
   "execution_count": null,
   "metadata": {
    "collapsed": true
   },
   "outputs": [],
   "source": []
  },
  {
   "cell_type": "code",
   "execution_count": null,
   "metadata": {
    "collapsed": true
   },
   "outputs": [],
   "source": []
  },
  {
   "cell_type": "code",
   "execution_count": null,
   "metadata": {
    "collapsed": true
   },
   "outputs": [],
   "source": []
  },
  {
   "cell_type": "code",
   "execution_count": null,
   "metadata": {
    "collapsed": true
   },
   "outputs": [],
   "source": []
  },
  {
   "cell_type": "code",
   "execution_count": null,
   "metadata": {
    "collapsed": true
   },
   "outputs": [],
   "source": []
  },
  {
   "cell_type": "code",
   "execution_count": null,
   "metadata": {
    "collapsed": true
   },
   "outputs": [],
   "source": []
  },
  {
   "cell_type": "code",
   "execution_count": null,
   "metadata": {
    "collapsed": true
   },
   "outputs": [],
   "source": []
  },
  {
   "cell_type": "code",
   "execution_count": null,
   "metadata": {
    "collapsed": true
   },
   "outputs": [],
   "source": []
  },
  {
   "cell_type": "code",
   "execution_count": null,
   "metadata": {
    "collapsed": true
   },
   "outputs": [],
   "source": []
  }
 ],
 "metadata": {
  "kernelspec": {
   "display_name": "Python 3",
   "language": "python",
   "name": "python3"
  },
  "language_info": {
   "codemirror_mode": {
    "name": "ipython",
    "version": 3
   },
   "file_extension": ".py",
   "mimetype": "text/x-python",
   "name": "python",
   "nbconvert_exporter": "python",
   "pygments_lexer": "ipython3",
   "version": "3.6.0"
  }
 },
 "nbformat": 4,
 "nbformat_minor": 2
}
