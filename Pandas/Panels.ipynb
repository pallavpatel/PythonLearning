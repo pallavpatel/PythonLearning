{
 "cells": [
  {
   "cell_type": "code",
   "execution_count": 2,
   "metadata": {
    "collapsed": true
   },
   "outputs": [],
   "source": [
    "import pandas as pd\n",
    "from pandas_datareader import data"
   ]
  },
  {
   "cell_type": "code",
   "execution_count": 4,
   "metadata": {},
   "outputs": [
    {
     "data": {
      "text/plain": [
       "<class 'pandas.core.panel.Panel'>\n",
       "Dimensions: 5 (items) x 1761 (major_axis) x 5 (minor_axis)\n",
       "Items axis: Open to Volume\n",
       "Major_axis axis: 2010-01-04 00:00:00 to 2016-12-30 00:00:00\n",
       "Minor_axis axis: AAPL to YHOO"
      ]
     },
     "execution_count": 4,
     "metadata": {},
     "output_type": "execute_result"
    }
   ],
   "source": [
    "companies = [\"MSFT\" , \"GOOG\", \"AAPL\", \"YHOO\" , \"AMZN\"]\n",
    "\n",
    "p = data.DataReader(name = companies , data_source = \"google\" ,\n",
    "                start = \"2010-01-01\",\n",
    "                 end = \"2016-12-31\")\n"
   ]
  },
  {
   "cell_type": "markdown",
   "metadata": {},
   "source": [
    "# Axes of Panel"
   ]
  },
  {
   "cell_type": "code",
   "execution_count": 5,
   "metadata": {},
   "outputs": [
    {
     "data": {
      "text/plain": [
       "<class 'pandas.core.panel.Panel'>\n",
       "Dimensions: 5 (items) x 1761 (major_axis) x 5 (minor_axis)\n",
       "Items axis: Open to Volume\n",
       "Major_axis axis: 2010-01-04 00:00:00 to 2016-12-30 00:00:00\n",
       "Minor_axis axis: AAPL to YHOO"
      ]
     },
     "execution_count": 5,
     "metadata": {},
     "output_type": "execute_result"
    }
   ],
   "source": [
    "companies = [\"MSFT\" , \"GOOG\", \"AAPL\", \"YHOO\" , \"AMZN\"]\n",
    "\n",
    "p = data.DataReader(name = companies , data_source = \"google\" ,\n",
    "                start = \"2010-01-01\",\n",
    "                 end = \"2016-12-31\")\n",
    "\n",
    "p"
   ]
  },
  {
   "cell_type": "code",
   "execution_count": 6,
   "metadata": {},
   "outputs": [
    {
     "data": {
      "text/plain": [
       "Index(['Open', 'High', 'Low', 'Close', 'Volume'], dtype='object')"
      ]
     },
     "execution_count": 6,
     "metadata": {},
     "output_type": "execute_result"
    }
   ],
   "source": [
    "p.items"
   ]
  },
  {
   "cell_type": "code",
   "execution_count": 7,
   "metadata": {},
   "outputs": [
    {
     "data": {
      "text/plain": [
       "DatetimeIndex(['2010-01-04', '2010-01-05', '2010-01-06', '2010-01-07',\n",
       "               '2010-01-08', '2010-01-11', '2010-01-12', '2010-01-13',\n",
       "               '2010-01-14', '2010-01-15',\n",
       "               ...\n",
       "               '2016-12-16', '2016-12-19', '2016-12-20', '2016-12-21',\n",
       "               '2016-12-22', '2016-12-23', '2016-12-27', '2016-12-28',\n",
       "               '2016-12-29', '2016-12-30'],\n",
       "              dtype='datetime64[ns]', name='Date', length=1761, freq=None)"
      ]
     },
     "execution_count": 7,
     "metadata": {},
     "output_type": "execute_result"
    }
   ],
   "source": [
    "p.major_axis"
   ]
  },
  {
   "cell_type": "code",
   "execution_count": 9,
   "metadata": {},
   "outputs": [
    {
     "data": {
      "text/plain": [
       "Index(['AAPL', 'AMZN', 'GOOG', 'MSFT', 'YHOO'], dtype='object')"
      ]
     },
     "execution_count": 9,
     "metadata": {},
     "output_type": "execute_result"
    }
   ],
   "source": [
    "p.minor_axis"
   ]
  },
  {
   "cell_type": "code",
   "execution_count": 10,
   "metadata": {},
   "outputs": [
    {
     "data": {
      "text/plain": [
       "[Index(['Open', 'High', 'Low', 'Close', 'Volume'], dtype='object'),\n",
       " DatetimeIndex(['2010-01-04', '2010-01-05', '2010-01-06', '2010-01-07',\n",
       "                '2010-01-08', '2010-01-11', '2010-01-12', '2010-01-13',\n",
       "                '2010-01-14', '2010-01-15',\n",
       "                ...\n",
       "                '2016-12-16', '2016-12-19', '2016-12-20', '2016-12-21',\n",
       "                '2016-12-22', '2016-12-23', '2016-12-27', '2016-12-28',\n",
       "                '2016-12-29', '2016-12-30'],\n",
       "               dtype='datetime64[ns]', name='Date', length=1761, freq=None),\n",
       " Index(['AAPL', 'AMZN', 'GOOG', 'MSFT', 'YHOO'], dtype='object')]"
      ]
     },
     "execution_count": 10,
     "metadata": {},
     "output_type": "execute_result"
    }
   ],
   "source": [
    "p.axes  # 3 dimensions"
   ]
  },
  {
   "cell_type": "markdown",
   "metadata": {},
   "source": [
    "# Panel Attributes"
   ]
  },
  {
   "cell_type": "code",
   "execution_count": 12,
   "metadata": {},
   "outputs": [
    {
     "data": {
      "text/plain": [
       "3"
      ]
     },
     "execution_count": 12,
     "metadata": {},
     "output_type": "execute_result"
    }
   ],
   "source": [
    "p.ndim"
   ]
  },
  {
   "cell_type": "code",
   "execution_count": 13,
   "metadata": {},
   "outputs": [
    {
     "data": {
      "text/plain": [
       "Open      float64\n",
       "High      float64\n",
       "Low       float64\n",
       "Close     float64\n",
       "Volume    float64\n",
       "dtype: object"
      ]
     },
     "execution_count": 13,
     "metadata": {},
     "output_type": "execute_result"
    }
   ],
   "source": [
    "p.dtypes"
   ]
  },
  {
   "cell_type": "code",
   "execution_count": 14,
   "metadata": {},
   "outputs": [
    {
     "data": {
      "text/plain": [
       "(5, 1761, 5)"
      ]
     },
     "execution_count": 14,
     "metadata": {},
     "output_type": "execute_result"
    }
   ],
   "source": [
    "p.shape"
   ]
  },
  {
   "cell_type": "code",
   "execution_count": 15,
   "metadata": {},
   "outputs": [
    {
     "data": {
      "text/plain": [
       "44025"
      ]
     },
     "execution_count": 15,
     "metadata": {},
     "output_type": "execute_result"
    }
   ],
   "source": [
    "p.size"
   ]
  },
  {
   "cell_type": "code",
   "execution_count": 16,
   "metadata": {},
   "outputs": [
    {
     "data": {
      "text/plain": [
       "44025"
      ]
     },
     "execution_count": 16,
     "metadata": {},
     "output_type": "execute_result"
    }
   ],
   "source": [
    "5*1761*5"
   ]
  },
  {
   "cell_type": "code",
   "execution_count": 19,
   "metadata": {},
   "outputs": [
    {
     "data": {
      "text/plain": [
       "array([[[  3.04900000e+01,   1.36250000e+02,   3.13160000e+02,\n",
       "           3.06200000e+01,   1.69400000e+01],\n",
       "        [  3.06600000e+01,   1.33430000e+02,   3.13280000e+02,\n",
       "           3.08500000e+01,   1.72200000e+01],\n",
       "        [  3.06300000e+01,   1.34600000e+02,   3.12620000e+02,\n",
       "           3.08800000e+01,   1.71700000e+01],\n",
       "        ..., \n",
       "        [  1.17520000e+02,   7.76250000e+02,   7.93700000e+02,\n",
       "           6.34000000e+01,   3.91200000e+01],\n",
       "        [  1.16450000e+02,   7.72400000e+02,   7.83330000e+02,\n",
       "           6.28600000e+01,   3.87600000e+01],\n",
       "        [  1.16650000e+02,   7.66470000e+02,   7.82750000e+02,\n",
       "           6.29600000e+01,   3.87200000e+01]],\n",
       "\n",
       "       [[  3.06400000e+01,   1.36610000e+02,   3.14440000e+02,\n",
       "           3.11000000e+01,   1.72000000e+01],\n",
       "        [  3.08000000e+01,   1.35480000e+02,   3.13610000e+02,\n",
       "           3.11000000e+01,   1.72300000e+01],\n",
       "        [  3.07500000e+01,   1.34730000e+02,   3.12620000e+02,\n",
       "           3.10800000e+01,   1.73000000e+01],\n",
       "        ..., \n",
       "        [  1.18020000e+02,   7.80000000e+02,   7.94230000e+02,\n",
       "           6.34000000e+01,   3.92200000e+01],\n",
       "        [  1.17110000e+02,   7.73400000e+02,   7.85930000e+02,\n",
       "           6.32000000e+01,   3.89300000e+01],\n",
       "        [  1.17200000e+02,   7.67400000e+02,   7.82780000e+02,\n",
       "           6.29900000e+01,   3.90000000e+01]],\n",
       "\n",
       "       [[  3.03400000e+01,   1.33140000e+02,   3.11810000e+02,\n",
       "           3.05900000e+01,   1.68800000e+01],\n",
       "        [  3.04600000e+01,   1.31810000e+02,   3.10460000e+02,\n",
       "           3.06400000e+01,   1.70000000e+01],\n",
       "        [  3.01100000e+01,   1.31650000e+02,   3.02880000e+02,\n",
       "           3.05200000e+01,   1.70700000e+01],\n",
       "        ..., \n",
       "        [  1.16200000e+02,   7.70500000e+02,   7.83200000e+02,\n",
       "           6.28300000e+01,   3.87100000e+01],\n",
       "        [  1.16400000e+02,   7.60850000e+02,   7.78920000e+02,\n",
       "           6.27300000e+01,   3.84800000e+01],\n",
       "        [  1.15430000e+02,   7.48280000e+02,   7.70410000e+02,\n",
       "           6.20300000e+01,   3.84300000e+01]],\n",
       "\n",
       "       [[  3.05700000e+01,   1.33900000e+02,   3.13060000e+02,\n",
       "           3.09500000e+01,   1.71000000e+01],\n",
       "        [  3.06300000e+01,   1.34690000e+02,   3.11680000e+02,\n",
       "           3.09600000e+01,   1.72300000e+01],\n",
       "        [  3.01400000e+01,   1.32250000e+02,   3.03830000e+02,\n",
       "           3.07700000e+01,   1.71700000e+01],\n",
       "        ..., \n",
       "        [  1.16760000e+02,   7.72130000e+02,   7.85050000e+02,\n",
       "           6.29900000e+01,   3.87300000e+01],\n",
       "        [  1.16730000e+02,   7.65150000e+02,   7.82790000e+02,\n",
       "           6.29000000e+01,   3.86400000e+01],\n",
       "        [  1.15820000e+02,   7.49870000e+02,   7.71820000e+02,\n",
       "           6.21400000e+01,   3.86700000e+01]],\n",
       "\n",
       "       [[  1.23432050e+08,   7.60054300e+06,              nan,\n",
       "           3.84141850e+07,   1.65889570e+07],\n",
       "        [  1.50476004e+08,   8.85645600e+06,              nan,\n",
       "           4.97588620e+07,   1.17181260e+07],\n",
       "        [  1.38039594e+08,   7.18097700e+06,              nan,\n",
       "           5.81823320e+07,   1.64219600e+07],\n",
       "        ..., \n",
       "        [  2.09058920e+07,   3.30102500e+06,   1.15382400e+06,\n",
       "           1.46533480e+07,   4.42836800e+06],\n",
       "        [  1.50395190e+07,   3.15829900e+06,   7.44272000e+05,\n",
       "           1.02505820e+07,   4.17049700e+06],\n",
       "        [  3.05862650e+07,   4.13944900e+06,   1.76995000e+06,\n",
       "           2.55799080e+07,   6.43279200e+06]]])"
      ]
     },
     "execution_count": 19,
     "metadata": {},
     "output_type": "execute_result"
    }
   ],
   "source": [
    "p.values"
   ]
  },
  {
   "cell_type": "markdown",
   "metadata": {},
   "source": [
    "# Use Bracket notation to Extract a DataFrame"
   ]
  },
  {
   "cell_type": "code",
   "execution_count": 20,
   "metadata": {},
   "outputs": [
    {
     "data": {
      "text/plain": [
       "Index(['Open', 'High', 'Low', 'Close', 'Volume'], dtype='object')"
      ]
     },
     "execution_count": 20,
     "metadata": {},
     "output_type": "execute_result"
    }
   ],
   "source": [
    "p.items"
   ]
  },
  {
   "cell_type": "code",
   "execution_count": 22,
   "metadata": {},
   "outputs": [
    {
     "data": {
      "text/html": [
       "<div>\n",
       "<table border=\"1\" class=\"dataframe\">\n",
       "  <thead>\n",
       "    <tr style=\"text-align: right;\">\n",
       "      <th></th>\n",
       "      <th>AAPL</th>\n",
       "      <th>AMZN</th>\n",
       "      <th>GOOG</th>\n",
       "      <th>MSFT</th>\n",
       "      <th>YHOO</th>\n",
       "    </tr>\n",
       "    <tr>\n",
       "      <th>Date</th>\n",
       "      <th></th>\n",
       "      <th></th>\n",
       "      <th></th>\n",
       "      <th></th>\n",
       "      <th></th>\n",
       "    </tr>\n",
       "  </thead>\n",
       "  <tbody>\n",
       "    <tr>\n",
       "      <th>2010-01-04</th>\n",
       "      <td>30.49</td>\n",
       "      <td>136.25</td>\n",
       "      <td>313.16</td>\n",
       "      <td>30.62</td>\n",
       "      <td>16.94</td>\n",
       "    </tr>\n",
       "    <tr>\n",
       "      <th>2010-01-05</th>\n",
       "      <td>30.66</td>\n",
       "      <td>133.43</td>\n",
       "      <td>313.28</td>\n",
       "      <td>30.85</td>\n",
       "      <td>17.22</td>\n",
       "    </tr>\n",
       "    <tr>\n",
       "      <th>2010-01-06</th>\n",
       "      <td>30.63</td>\n",
       "      <td>134.60</td>\n",
       "      <td>312.62</td>\n",
       "      <td>30.88</td>\n",
       "      <td>17.17</td>\n",
       "    </tr>\n",
       "    <tr>\n",
       "      <th>2010-01-07</th>\n",
       "      <td>30.25</td>\n",
       "      <td>132.01</td>\n",
       "      <td>304.40</td>\n",
       "      <td>30.63</td>\n",
       "      <td>16.81</td>\n",
       "    </tr>\n",
       "    <tr>\n",
       "      <th>2010-01-08</th>\n",
       "      <td>30.04</td>\n",
       "      <td>130.56</td>\n",
       "      <td>295.70</td>\n",
       "      <td>30.28</td>\n",
       "      <td>16.68</td>\n",
       "    </tr>\n",
       "  </tbody>\n",
       "</table>\n",
       "</div>"
      ],
      "text/plain": [
       "             AAPL    AMZN    GOOG   MSFT   YHOO\n",
       "Date                                           \n",
       "2010-01-04  30.49  136.25  313.16  30.62  16.94\n",
       "2010-01-05  30.66  133.43  313.28  30.85  17.22\n",
       "2010-01-06  30.63  134.60  312.62  30.88  17.17\n",
       "2010-01-07  30.25  132.01  304.40  30.63  16.81\n",
       "2010-01-08  30.04  130.56  295.70  30.28  16.68"
      ]
     },
     "execution_count": 22,
     "metadata": {},
     "output_type": "execute_result"
    }
   ],
   "source": [
    "p[\"Open\"].head()"
   ]
  },
  {
   "cell_type": "code",
   "execution_count": 23,
   "metadata": {},
   "outputs": [
    {
     "data": {
      "text/html": [
       "<div>\n",
       "<table border=\"1\" class=\"dataframe\">\n",
       "  <thead>\n",
       "    <tr style=\"text-align: right;\">\n",
       "      <th></th>\n",
       "      <th>AAPL</th>\n",
       "      <th>AMZN</th>\n",
       "      <th>GOOG</th>\n",
       "      <th>MSFT</th>\n",
       "      <th>YHOO</th>\n",
       "    </tr>\n",
       "    <tr>\n",
       "      <th>Date</th>\n",
       "      <th></th>\n",
       "      <th></th>\n",
       "      <th></th>\n",
       "      <th></th>\n",
       "      <th></th>\n",
       "    </tr>\n",
       "  </thead>\n",
       "  <tbody>\n",
       "    <tr>\n",
       "      <th>2010-01-04</th>\n",
       "      <td>30.64</td>\n",
       "      <td>136.61</td>\n",
       "      <td>314.44</td>\n",
       "      <td>31.10</td>\n",
       "      <td>17.20</td>\n",
       "    </tr>\n",
       "    <tr>\n",
       "      <th>2010-01-05</th>\n",
       "      <td>30.80</td>\n",
       "      <td>135.48</td>\n",
       "      <td>313.61</td>\n",
       "      <td>31.10</td>\n",
       "      <td>17.23</td>\n",
       "    </tr>\n",
       "    <tr>\n",
       "      <th>2010-01-06</th>\n",
       "      <td>30.75</td>\n",
       "      <td>134.73</td>\n",
       "      <td>312.62</td>\n",
       "      <td>31.08</td>\n",
       "      <td>17.30</td>\n",
       "    </tr>\n",
       "    <tr>\n",
       "      <th>2010-01-07</th>\n",
       "      <td>30.29</td>\n",
       "      <td>132.32</td>\n",
       "      <td>304.70</td>\n",
       "      <td>30.70</td>\n",
       "      <td>16.90</td>\n",
       "    </tr>\n",
       "    <tr>\n",
       "      <th>2010-01-08</th>\n",
       "      <td>30.29</td>\n",
       "      <td>133.68</td>\n",
       "      <td>301.32</td>\n",
       "      <td>30.88</td>\n",
       "      <td>16.76</td>\n",
       "    </tr>\n",
       "  </tbody>\n",
       "</table>\n",
       "</div>"
      ],
      "text/plain": [
       "             AAPL    AMZN    GOOG   MSFT   YHOO\n",
       "Date                                           \n",
       "2010-01-04  30.64  136.61  314.44  31.10  17.20\n",
       "2010-01-05  30.80  135.48  313.61  31.10  17.23\n",
       "2010-01-06  30.75  134.73  312.62  31.08  17.30\n",
       "2010-01-07  30.29  132.32  304.70  30.70  16.90\n",
       "2010-01-08  30.29  133.68  301.32  30.88  16.76"
      ]
     },
     "execution_count": 23,
     "metadata": {},
     "output_type": "execute_result"
    }
   ],
   "source": [
    "p[\"High\"].head()"
   ]
  },
  {
   "cell_type": "code",
   "execution_count": 24,
   "metadata": {},
   "outputs": [
    {
     "data": {
      "text/html": [
       "<div>\n",
       "<table border=\"1\" class=\"dataframe\">\n",
       "  <thead>\n",
       "    <tr style=\"text-align: right;\">\n",
       "      <th></th>\n",
       "      <th>AAPL</th>\n",
       "      <th>AMZN</th>\n",
       "      <th>GOOG</th>\n",
       "      <th>MSFT</th>\n",
       "      <th>YHOO</th>\n",
       "    </tr>\n",
       "    <tr>\n",
       "      <th>Date</th>\n",
       "      <th></th>\n",
       "      <th></th>\n",
       "      <th></th>\n",
       "      <th></th>\n",
       "      <th></th>\n",
       "    </tr>\n",
       "  </thead>\n",
       "  <tbody>\n",
       "    <tr>\n",
       "      <th>2010-01-04</th>\n",
       "      <td>123432050.0</td>\n",
       "      <td>7600543.0</td>\n",
       "      <td>NaN</td>\n",
       "      <td>38414185.0</td>\n",
       "      <td>16588957.0</td>\n",
       "    </tr>\n",
       "    <tr>\n",
       "      <th>2010-01-05</th>\n",
       "      <td>150476004.0</td>\n",
       "      <td>8856456.0</td>\n",
       "      <td>NaN</td>\n",
       "      <td>49758862.0</td>\n",
       "      <td>11718126.0</td>\n",
       "    </tr>\n",
       "    <tr>\n",
       "      <th>2010-01-06</th>\n",
       "      <td>138039594.0</td>\n",
       "      <td>7180977.0</td>\n",
       "      <td>NaN</td>\n",
       "      <td>58182332.0</td>\n",
       "      <td>16421960.0</td>\n",
       "    </tr>\n",
       "    <tr>\n",
       "      <th>2010-01-07</th>\n",
       "      <td>119282324.0</td>\n",
       "      <td>11030124.0</td>\n",
       "      <td>NaN</td>\n",
       "      <td>50564285.0</td>\n",
       "      <td>31816301.0</td>\n",
       "    </tr>\n",
       "    <tr>\n",
       "      <th>2010-01-08</th>\n",
       "      <td>111969081.0</td>\n",
       "      <td>9833829.0</td>\n",
       "      <td>NaN</td>\n",
       "      <td>51201289.0</td>\n",
       "      <td>15471074.0</td>\n",
       "    </tr>\n",
       "  </tbody>\n",
       "</table>\n",
       "</div>"
      ],
      "text/plain": [
       "                   AAPL        AMZN  GOOG        MSFT        YHOO\n",
       "Date                                                             \n",
       "2010-01-04  123432050.0   7600543.0   NaN  38414185.0  16588957.0\n",
       "2010-01-05  150476004.0   8856456.0   NaN  49758862.0  11718126.0\n",
       "2010-01-06  138039594.0   7180977.0   NaN  58182332.0  16421960.0\n",
       "2010-01-07  119282324.0  11030124.0   NaN  50564285.0  31816301.0\n",
       "2010-01-08  111969081.0   9833829.0   NaN  51201289.0  15471074.0"
      ]
     },
     "execution_count": 24,
     "metadata": {},
     "output_type": "execute_result"
    }
   ],
   "source": [
    "p[\"Volume\"].head()"
   ]
  },
  {
   "cell_type": "code",
   "execution_count": 25,
   "metadata": {},
   "outputs": [
    {
     "data": {
      "text/plain": [
       "pandas.core.frame.DataFrame"
      ]
     },
     "execution_count": 25,
     "metadata": {},
     "output_type": "execute_result"
    }
   ],
   "source": [
    "type(p[\"Volume\"])"
   ]
  },
  {
   "cell_type": "code",
   "execution_count": 27,
   "metadata": {},
   "outputs": [
    {
     "data": {
      "text/html": [
       "<div>\n",
       "<table border=\"1\" class=\"dataframe\">\n",
       "  <thead>\n",
       "    <tr style=\"text-align: right;\">\n",
       "      <th></th>\n",
       "      <th>AAPL</th>\n",
       "      <th>AMZN</th>\n",
       "      <th>GOOG</th>\n",
       "      <th>MSFT</th>\n",
       "      <th>YHOO</th>\n",
       "    </tr>\n",
       "    <tr>\n",
       "      <th>Date</th>\n",
       "      <th></th>\n",
       "      <th></th>\n",
       "      <th></th>\n",
       "      <th></th>\n",
       "      <th></th>\n",
       "    </tr>\n",
       "  </thead>\n",
       "  <tbody>\n",
       "    <tr>\n",
       "      <th>2010-01-04</th>\n",
       "      <td>123432050.0</td>\n",
       "      <td>7600543.0</td>\n",
       "      <td>NaN</td>\n",
       "      <td>38414185.0</td>\n",
       "      <td>16588957.0</td>\n",
       "    </tr>\n",
       "    <tr>\n",
       "      <th>2010-01-05</th>\n",
       "      <td>150476004.0</td>\n",
       "      <td>8856456.0</td>\n",
       "      <td>NaN</td>\n",
       "      <td>49758862.0</td>\n",
       "      <td>11718126.0</td>\n",
       "    </tr>\n",
       "    <tr>\n",
       "      <th>2010-01-06</th>\n",
       "      <td>138039594.0</td>\n",
       "      <td>7180977.0</td>\n",
       "      <td>NaN</td>\n",
       "      <td>58182332.0</td>\n",
       "      <td>16421960.0</td>\n",
       "    </tr>\n",
       "    <tr>\n",
       "      <th>2010-01-07</th>\n",
       "      <td>119282324.0</td>\n",
       "      <td>11030124.0</td>\n",
       "      <td>NaN</td>\n",
       "      <td>50564285.0</td>\n",
       "      <td>31816301.0</td>\n",
       "    </tr>\n",
       "    <tr>\n",
       "      <th>2010-01-08</th>\n",
       "      <td>111969081.0</td>\n",
       "      <td>9833829.0</td>\n",
       "      <td>NaN</td>\n",
       "      <td>51201289.0</td>\n",
       "      <td>15471074.0</td>\n",
       "    </tr>\n",
       "  </tbody>\n",
       "</table>\n",
       "</div>"
      ],
      "text/plain": [
       "                   AAPL        AMZN  GOOG        MSFT        YHOO\n",
       "Date                                                             \n",
       "2010-01-04  123432050.0   7600543.0   NaN  38414185.0  16588957.0\n",
       "2010-01-05  150476004.0   8856456.0   NaN  49758862.0  11718126.0\n",
       "2010-01-06  138039594.0   7180977.0   NaN  58182332.0  16421960.0\n",
       "2010-01-07  119282324.0  11030124.0   NaN  50564285.0  31816301.0\n",
       "2010-01-08  111969081.0   9833829.0   NaN  51201289.0  15471074.0"
      ]
     },
     "execution_count": 27,
     "metadata": {},
     "output_type": "execute_result"
    }
   ],
   "source": [
    "p.Volume.head()"
   ]
  },
  {
   "cell_type": "markdown",
   "metadata": {},
   "source": [
    "# .loc[], .iloc[], .ix[] Methods"
   ]
  },
  {
   "cell_type": "code",
   "execution_count": 30,
   "metadata": {},
   "outputs": [
    {
     "data": {
      "text/plain": [
       "Index(['Open', 'High', 'Low', 'Close', 'Volume'], dtype='object')"
      ]
     },
     "execution_count": 30,
     "metadata": {},
     "output_type": "execute_result"
    }
   ],
   "source": [
    "p.items"
   ]
  },
  {
   "cell_type": "code",
   "execution_count": 32,
   "metadata": {},
   "outputs": [
    {
     "data": {
      "text/html": [
       "<div>\n",
       "<table border=\"1\" class=\"dataframe\">\n",
       "  <thead>\n",
       "    <tr style=\"text-align: right;\">\n",
       "      <th></th>\n",
       "      <th>AAPL</th>\n",
       "      <th>AMZN</th>\n",
       "      <th>GOOG</th>\n",
       "      <th>MSFT</th>\n",
       "      <th>YHOO</th>\n",
       "    </tr>\n",
       "    <tr>\n",
       "      <th>Date</th>\n",
       "      <th></th>\n",
       "      <th></th>\n",
       "      <th></th>\n",
       "      <th></th>\n",
       "      <th></th>\n",
       "    </tr>\n",
       "  </thead>\n",
       "  <tbody>\n",
       "    <tr>\n",
       "      <th>2010-01-04</th>\n",
       "      <td>30.57</td>\n",
       "      <td>133.90</td>\n",
       "      <td>313.06</td>\n",
       "      <td>30.95</td>\n",
       "      <td>17.10</td>\n",
       "    </tr>\n",
       "    <tr>\n",
       "      <th>2010-01-05</th>\n",
       "      <td>30.63</td>\n",
       "      <td>134.69</td>\n",
       "      <td>311.68</td>\n",
       "      <td>30.96</td>\n",
       "      <td>17.23</td>\n",
       "    </tr>\n",
       "    <tr>\n",
       "      <th>2010-01-06</th>\n",
       "      <td>30.14</td>\n",
       "      <td>132.25</td>\n",
       "      <td>303.83</td>\n",
       "      <td>30.77</td>\n",
       "      <td>17.17</td>\n",
       "    </tr>\n",
       "    <tr>\n",
       "      <th>2010-01-07</th>\n",
       "      <td>30.08</td>\n",
       "      <td>130.00</td>\n",
       "      <td>296.75</td>\n",
       "      <td>30.45</td>\n",
       "      <td>16.70</td>\n",
       "    </tr>\n",
       "    <tr>\n",
       "      <th>2010-01-08</th>\n",
       "      <td>30.28</td>\n",
       "      <td>133.52</td>\n",
       "      <td>300.71</td>\n",
       "      <td>30.66</td>\n",
       "      <td>16.70</td>\n",
       "    </tr>\n",
       "  </tbody>\n",
       "</table>\n",
       "</div>"
      ],
      "text/plain": [
       "             AAPL    AMZN    GOOG   MSFT   YHOO\n",
       "Date                                           \n",
       "2010-01-04  30.57  133.90  313.06  30.95  17.10\n",
       "2010-01-05  30.63  134.69  311.68  30.96  17.23\n",
       "2010-01-06  30.14  132.25  303.83  30.77  17.17\n",
       "2010-01-07  30.08  130.00  296.75  30.45  16.70\n",
       "2010-01-08  30.28  133.52  300.71  30.66  16.70"
      ]
     },
     "execution_count": 32,
     "metadata": {},
     "output_type": "execute_result"
    }
   ],
   "source": [
    "p.loc[\"Close\"].head()"
   ]
  },
  {
   "cell_type": "code",
   "execution_count": 36,
   "metadata": {},
   "outputs": [
    {
     "data": {
      "text/plain": [
       "AAPL     30.28\n",
       "AMZN    133.52\n",
       "GOOG    300.71\n",
       "MSFT     30.66\n",
       "YHOO     16.70\n",
       "Name: 2010-01-08 00:00:00, dtype: float64"
      ]
     },
     "execution_count": 36,
     "metadata": {},
     "output_type": "execute_result"
    }
   ],
   "source": [
    "p.loc[\"Close\" , \"2010-01-08\"]"
   ]
  },
  {
   "cell_type": "code",
   "execution_count": 37,
   "metadata": {},
   "outputs": [
    {
     "data": {
      "text/plain": [
       "30.280000000000001"
      ]
     },
     "execution_count": 37,
     "metadata": {},
     "output_type": "execute_result"
    }
   ],
   "source": [
    "p.loc[\"Close\" , \"2010-01-08\", \"AAPL\"]"
   ]
  },
  {
   "cell_type": "code",
   "execution_count": 38,
   "metadata": {},
   "outputs": [
    {
     "data": {
      "text/plain": [
       "29.870000000000001"
      ]
     },
     "execution_count": 38,
     "metadata": {},
     "output_type": "execute_result"
    }
   ],
   "source": [
    "p.loc[\"Low\" , \"2010-01-08\", \"AAPL\"]"
   ]
  },
  {
   "cell_type": "code",
   "execution_count": 39,
   "metadata": {},
   "outputs": [
    {
     "data": {
      "text/plain": [
       "30.289999999999999"
      ]
     },
     "execution_count": 39,
     "metadata": {},
     "output_type": "execute_result"
    }
   ],
   "source": [
    "p.loc[\"High\" , \"2010-01-08\", \"AAPL\"]"
   ]
  },
  {
   "cell_type": "code",
   "execution_count": 41,
   "metadata": {},
   "outputs": [
    {
     "data": {
      "text/html": [
       "<div>\n",
       "<table border=\"1\" class=\"dataframe\">\n",
       "  <thead>\n",
       "    <tr style=\"text-align: right;\">\n",
       "      <th></th>\n",
       "      <th>AAPL</th>\n",
       "      <th>AMZN</th>\n",
       "      <th>GOOG</th>\n",
       "      <th>MSFT</th>\n",
       "      <th>YHOO</th>\n",
       "    </tr>\n",
       "    <tr>\n",
       "      <th>Date</th>\n",
       "      <th></th>\n",
       "      <th></th>\n",
       "      <th></th>\n",
       "      <th></th>\n",
       "      <th></th>\n",
       "    </tr>\n",
       "  </thead>\n",
       "  <tbody>\n",
       "    <tr>\n",
       "      <th>2010-01-04</th>\n",
       "      <td>30.49</td>\n",
       "      <td>136.25</td>\n",
       "      <td>313.16</td>\n",
       "      <td>30.62</td>\n",
       "      <td>16.94</td>\n",
       "    </tr>\n",
       "    <tr>\n",
       "      <th>2010-01-05</th>\n",
       "      <td>30.66</td>\n",
       "      <td>133.43</td>\n",
       "      <td>313.28</td>\n",
       "      <td>30.85</td>\n",
       "      <td>17.22</td>\n",
       "    </tr>\n",
       "    <tr>\n",
       "      <th>2010-01-06</th>\n",
       "      <td>30.63</td>\n",
       "      <td>134.60</td>\n",
       "      <td>312.62</td>\n",
       "      <td>30.88</td>\n",
       "      <td>17.17</td>\n",
       "    </tr>\n",
       "    <tr>\n",
       "      <th>2010-01-07</th>\n",
       "      <td>30.25</td>\n",
       "      <td>132.01</td>\n",
       "      <td>304.40</td>\n",
       "      <td>30.63</td>\n",
       "      <td>16.81</td>\n",
       "    </tr>\n",
       "    <tr>\n",
       "      <th>2010-01-08</th>\n",
       "      <td>30.04</td>\n",
       "      <td>130.56</td>\n",
       "      <td>295.70</td>\n",
       "      <td>30.28</td>\n",
       "      <td>16.68</td>\n",
       "    </tr>\n",
       "  </tbody>\n",
       "</table>\n",
       "</div>"
      ],
      "text/plain": [
       "             AAPL    AMZN    GOOG   MSFT   YHOO\n",
       "Date                                           \n",
       "2010-01-04  30.49  136.25  313.16  30.62  16.94\n",
       "2010-01-05  30.66  133.43  313.28  30.85  17.22\n",
       "2010-01-06  30.63  134.60  312.62  30.88  17.17\n",
       "2010-01-07  30.25  132.01  304.40  30.63  16.81\n",
       "2010-01-08  30.04  130.56  295.70  30.28  16.68"
      ]
     },
     "execution_count": 41,
     "metadata": {},
     "output_type": "execute_result"
    }
   ],
   "source": [
    "p.iloc[0].head()  # 0 for Open Data frame means 1st DataFrame"
   ]
  },
  {
   "cell_type": "code",
   "execution_count": 45,
   "metadata": {},
   "outputs": [
    {
     "data": {
      "text/plain": [
       "Index(['Open', 'High', 'Low', 'Close', 'Volume'], dtype='object')"
      ]
     },
     "execution_count": 45,
     "metadata": {},
     "output_type": "execute_result"
    }
   ],
   "source": [
    "p.items"
   ]
  },
  {
   "cell_type": "code",
   "execution_count": 42,
   "metadata": {},
   "outputs": [
    {
     "data": {
      "text/plain": [
       "AAPL     44.14\n",
       "AMZN    158.78\n",
       "GOOG    303.77\n",
       "MSFT     25.26\n",
       "YHOO     15.79\n",
       "Name: 2010-10-20 00:00:00, dtype: float64"
      ]
     },
     "execution_count": 42,
     "metadata": {},
     "output_type": "execute_result"
    }
   ],
   "source": [
    "p.iloc[0,200]"
   ]
  },
  {
   "cell_type": "code",
   "execution_count": 43,
   "metadata": {},
   "outputs": [
    {
     "data": {
      "text/plain": [
       "25.260000000000002"
      ]
     },
     "execution_count": 43,
     "metadata": {},
     "output_type": "execute_result"
    }
   ],
   "source": [
    "p.iloc[0,200,3]"
   ]
  },
  {
   "cell_type": "code",
   "execution_count": 44,
   "metadata": {},
   "outputs": [
    {
     "data": {
      "text/plain": [
       "25.309999999999999"
      ]
     },
     "execution_count": 44,
     "metadata": {},
     "output_type": "execute_result"
    }
   ],
   "source": [
    "p.iloc[3,200,3]"
   ]
  },
  {
   "cell_type": "code",
   "execution_count": 46,
   "metadata": {},
   "outputs": [
    {
     "data": {
      "text/plain": [
       "AAPL     58.32\n",
       "AMZN    176.65\n",
       "GOOG    322.18\n",
       "MSFT     26.15\n",
       "YHOO     16.05\n",
       "Name: 2011-12-28 00:00:00, dtype: float64"
      ]
     },
     "execution_count": 46,
     "metadata": {},
     "output_type": "execute_result"
    }
   ],
   "source": [
    "p.ix[\"High\" , 500]"
   ]
  },
  {
   "cell_type": "code",
   "execution_count": 47,
   "metadata": {},
   "outputs": [
    {
     "data": {
      "text/plain": [
       "16.050000000000001"
      ]
     },
     "execution_count": 47,
     "metadata": {},
     "output_type": "execute_result"
    }
   ],
   "source": [
    "p.ix[\"High\" , 500, \"YHOO\"]"
   ]
  },
  {
   "cell_type": "markdown",
   "metadata": {},
   "source": [
    "# Converting Panel to MultiIndex DataFrame"
   ]
  },
  {
   "cell_type": "code",
   "execution_count": 51,
   "metadata": {},
   "outputs": [
    {
     "data": {
      "text/html": [
       "<div>\n",
       "<table border=\"1\" class=\"dataframe\">\n",
       "  <thead>\n",
       "    <tr style=\"text-align: right;\">\n",
       "      <th></th>\n",
       "      <th></th>\n",
       "      <th>Open</th>\n",
       "      <th>High</th>\n",
       "      <th>Low</th>\n",
       "      <th>Close</th>\n",
       "      <th>Volume</th>\n",
       "    </tr>\n",
       "    <tr>\n",
       "      <th>Date</th>\n",
       "      <th>minor</th>\n",
       "      <th></th>\n",
       "      <th></th>\n",
       "      <th></th>\n",
       "      <th></th>\n",
       "      <th></th>\n",
       "    </tr>\n",
       "  </thead>\n",
       "  <tbody>\n",
       "    <tr>\n",
       "      <th rowspan=\"4\" valign=\"top\">2010-01-04</th>\n",
       "      <th>AAPL</th>\n",
       "      <td>30.49</td>\n",
       "      <td>30.64</td>\n",
       "      <td>30.34</td>\n",
       "      <td>30.57</td>\n",
       "      <td>123432050.0</td>\n",
       "    </tr>\n",
       "    <tr>\n",
       "      <th>AMZN</th>\n",
       "      <td>136.25</td>\n",
       "      <td>136.61</td>\n",
       "      <td>133.14</td>\n",
       "      <td>133.90</td>\n",
       "      <td>7600543.0</td>\n",
       "    </tr>\n",
       "    <tr>\n",
       "      <th>MSFT</th>\n",
       "      <td>30.62</td>\n",
       "      <td>31.10</td>\n",
       "      <td>30.59</td>\n",
       "      <td>30.95</td>\n",
       "      <td>38414185.0</td>\n",
       "    </tr>\n",
       "    <tr>\n",
       "      <th>YHOO</th>\n",
       "      <td>16.94</td>\n",
       "      <td>17.20</td>\n",
       "      <td>16.88</td>\n",
       "      <td>17.10</td>\n",
       "      <td>16588957.0</td>\n",
       "    </tr>\n",
       "    <tr>\n",
       "      <th rowspan=\"4\" valign=\"top\">2010-01-05</th>\n",
       "      <th>AAPL</th>\n",
       "      <td>30.66</td>\n",
       "      <td>30.80</td>\n",
       "      <td>30.46</td>\n",
       "      <td>30.63</td>\n",
       "      <td>150476004.0</td>\n",
       "    </tr>\n",
       "    <tr>\n",
       "      <th>AMZN</th>\n",
       "      <td>133.43</td>\n",
       "      <td>135.48</td>\n",
       "      <td>131.81</td>\n",
       "      <td>134.69</td>\n",
       "      <td>8856456.0</td>\n",
       "    </tr>\n",
       "    <tr>\n",
       "      <th>MSFT</th>\n",
       "      <td>30.85</td>\n",
       "      <td>31.10</td>\n",
       "      <td>30.64</td>\n",
       "      <td>30.96</td>\n",
       "      <td>49758862.0</td>\n",
       "    </tr>\n",
       "    <tr>\n",
       "      <th>YHOO</th>\n",
       "      <td>17.22</td>\n",
       "      <td>17.23</td>\n",
       "      <td>17.00</td>\n",
       "      <td>17.23</td>\n",
       "      <td>11718126.0</td>\n",
       "    </tr>\n",
       "    <tr>\n",
       "      <th rowspan=\"2\" valign=\"top\">2010-01-06</th>\n",
       "      <th>AAPL</th>\n",
       "      <td>30.63</td>\n",
       "      <td>30.75</td>\n",
       "      <td>30.11</td>\n",
       "      <td>30.14</td>\n",
       "      <td>138039594.0</td>\n",
       "    </tr>\n",
       "    <tr>\n",
       "      <th>AMZN</th>\n",
       "      <td>134.60</td>\n",
       "      <td>134.73</td>\n",
       "      <td>131.65</td>\n",
       "      <td>132.25</td>\n",
       "      <td>7180977.0</td>\n",
       "    </tr>\n",
       "  </tbody>\n",
       "</table>\n",
       "</div>"
      ],
      "text/plain": [
       "                    Open    High     Low   Close       Volume\n",
       "Date       minor                                             \n",
       "2010-01-04 AAPL    30.49   30.64   30.34   30.57  123432050.0\n",
       "           AMZN   136.25  136.61  133.14  133.90    7600543.0\n",
       "           MSFT    30.62   31.10   30.59   30.95   38414185.0\n",
       "           YHOO    16.94   17.20   16.88   17.10   16588957.0\n",
       "2010-01-05 AAPL    30.66   30.80   30.46   30.63  150476004.0\n",
       "           AMZN   133.43  135.48  131.81  134.69    8856456.0\n",
       "           MSFT    30.85   31.10   30.64   30.96   49758862.0\n",
       "           YHOO    17.22   17.23   17.00   17.23   11718126.0\n",
       "2010-01-06 AAPL    30.63   30.75   30.11   30.14  138039594.0\n",
       "           AMZN   134.60  134.73  131.65  132.25    7180977.0"
      ]
     },
     "execution_count": 51,
     "metadata": {},
     "output_type": "execute_result"
    }
   ],
   "source": [
    "p.to_frame().head(10)"
   ]
  },
  {
   "cell_type": "code",
   "execution_count": 52,
   "metadata": {
    "collapsed": true
   },
   "outputs": [],
   "source": [
    "df = p.to_frame()"
   ]
  },
  {
   "cell_type": "code",
   "execution_count": 55,
   "metadata": {},
   "outputs": [
    {
     "data": {
      "text/plain": [
       "<class 'pandas.core.panel.Panel'>\n",
       "Dimensions: 5 (items) x 1761 (major_axis) x 5 (minor_axis)\n",
       "Items axis: Open to Volume\n",
       "Major_axis axis: 2010-01-04 00:00:00 to 2016-12-30 00:00:00\n",
       "Minor_axis axis: AAPL to YHOO"
      ]
     },
     "execution_count": 55,
     "metadata": {},
     "output_type": "execute_result"
    }
   ],
   "source": [
    "p2 = df.to_panel()\n",
    "\n",
    "p2"
   ]
  },
  {
   "cell_type": "markdown",
   "metadata": {},
   "source": [
    "# The .major_xs() Method"
   ]
  },
  {
   "cell_type": "code",
   "execution_count": 56,
   "metadata": {},
   "outputs": [
    {
     "data": {
      "text/plain": [
       "DatetimeIndex(['2010-01-04', '2010-01-05', '2010-01-06', '2010-01-07',\n",
       "               '2010-01-08', '2010-01-11', '2010-01-12', '2010-01-13',\n",
       "               '2010-01-14', '2010-01-15',\n",
       "               ...\n",
       "               '2016-12-16', '2016-12-19', '2016-12-20', '2016-12-21',\n",
       "               '2016-12-22', '2016-12-23', '2016-12-27', '2016-12-28',\n",
       "               '2016-12-29', '2016-12-30'],\n",
       "              dtype='datetime64[ns]', name='Date', length=1761, freq=None)"
      ]
     },
     "execution_count": 56,
     "metadata": {},
     "output_type": "execute_result"
    }
   ],
   "source": [
    "p.major_axis"
   ]
  },
  {
   "cell_type": "code",
   "execution_count": 57,
   "metadata": {},
   "outputs": [
    {
     "data": {
      "text/html": [
       "<div>\n",
       "<table border=\"1\" class=\"dataframe\">\n",
       "  <thead>\n",
       "    <tr style=\"text-align: right;\">\n",
       "      <th></th>\n",
       "      <th>Open</th>\n",
       "      <th>High</th>\n",
       "      <th>Low</th>\n",
       "      <th>Close</th>\n",
       "      <th>Volume</th>\n",
       "    </tr>\n",
       "  </thead>\n",
       "  <tbody>\n",
       "    <tr>\n",
       "      <th>AAPL</th>\n",
       "      <td>79.07</td>\n",
       "      <td>80.03</td>\n",
       "      <td>78.81</td>\n",
       "      <td>79.62</td>\n",
       "      <td>98472619.0</td>\n",
       "    </tr>\n",
       "    <tr>\n",
       "      <th>AMZN</th>\n",
       "      <td>398.94</td>\n",
       "      <td>399.31</td>\n",
       "      <td>392.53</td>\n",
       "      <td>395.87</td>\n",
       "      <td>2678794.0</td>\n",
       "    </tr>\n",
       "    <tr>\n",
       "      <th>GOOG</th>\n",
       "      <td>575.92</td>\n",
       "      <td>576.92</td>\n",
       "      <td>571.32</td>\n",
       "      <td>573.74</td>\n",
       "      <td>NaN</td>\n",
       "    </tr>\n",
       "    <tr>\n",
       "      <th>MSFT</th>\n",
       "      <td>35.90</td>\n",
       "      <td>36.79</td>\n",
       "      <td>35.85</td>\n",
       "      <td>36.76</td>\n",
       "      <td>44909545.0</td>\n",
       "    </tr>\n",
       "    <tr>\n",
       "      <th>YHOO</th>\n",
       "      <td>41.06</td>\n",
       "      <td>41.30</td>\n",
       "      <td>40.76</td>\n",
       "      <td>41.07</td>\n",
       "      <td>9496963.0</td>\n",
       "    </tr>\n",
       "  </tbody>\n",
       "</table>\n",
       "</div>"
      ],
      "text/plain": [
       "        Open    High     Low   Close      Volume\n",
       "AAPL   79.07   80.03   78.81   79.62  98472619.0\n",
       "AMZN  398.94  399.31  392.53  395.87   2678794.0\n",
       "GOOG  575.92  576.92  571.32  573.74         NaN\n",
       "MSFT   35.90   36.79   35.85   36.76  44909545.0\n",
       "YHOO   41.06   41.30   40.76   41.07   9496963.0"
      ]
     },
     "execution_count": 57,
     "metadata": {},
     "output_type": "execute_result"
    }
   ],
   "source": [
    "p.major_xs(\"2014-01-15\")"
   ]
  },
  {
   "cell_type": "markdown",
   "metadata": {},
   "source": [
    "# The .minor_xs() Method"
   ]
  },
  {
   "cell_type": "code",
   "execution_count": 61,
   "metadata": {},
   "outputs": [
    {
     "data": {
      "text/html": [
       "<div>\n",
       "<table border=\"1\" class=\"dataframe\">\n",
       "  <thead>\n",
       "    <tr style=\"text-align: right;\">\n",
       "      <th></th>\n",
       "      <th>Open</th>\n",
       "      <th>High</th>\n",
       "      <th>Low</th>\n",
       "      <th>Close</th>\n",
       "      <th>Volume</th>\n",
       "    </tr>\n",
       "    <tr>\n",
       "      <th>Date</th>\n",
       "      <th></th>\n",
       "      <th></th>\n",
       "      <th></th>\n",
       "      <th></th>\n",
       "      <th></th>\n",
       "    </tr>\n",
       "  </thead>\n",
       "  <tbody>\n",
       "    <tr>\n",
       "      <th>2010-01-04</th>\n",
       "      <td>30.49</td>\n",
       "      <td>30.64</td>\n",
       "      <td>30.34</td>\n",
       "      <td>30.57</td>\n",
       "      <td>123432050.0</td>\n",
       "    </tr>\n",
       "    <tr>\n",
       "      <th>2010-01-05</th>\n",
       "      <td>30.66</td>\n",
       "      <td>30.80</td>\n",
       "      <td>30.46</td>\n",
       "      <td>30.63</td>\n",
       "      <td>150476004.0</td>\n",
       "    </tr>\n",
       "    <tr>\n",
       "      <th>2010-01-06</th>\n",
       "      <td>30.63</td>\n",
       "      <td>30.75</td>\n",
       "      <td>30.11</td>\n",
       "      <td>30.14</td>\n",
       "      <td>138039594.0</td>\n",
       "    </tr>\n",
       "    <tr>\n",
       "      <th>2010-01-07</th>\n",
       "      <td>30.25</td>\n",
       "      <td>30.29</td>\n",
       "      <td>29.86</td>\n",
       "      <td>30.08</td>\n",
       "      <td>119282324.0</td>\n",
       "    </tr>\n",
       "    <tr>\n",
       "      <th>2010-01-08</th>\n",
       "      <td>30.04</td>\n",
       "      <td>30.29</td>\n",
       "      <td>29.87</td>\n",
       "      <td>30.28</td>\n",
       "      <td>111969081.0</td>\n",
       "    </tr>\n",
       "  </tbody>\n",
       "</table>\n",
       "</div>"
      ],
      "text/plain": [
       "             Open   High    Low  Close       Volume\n",
       "Date                                               \n",
       "2010-01-04  30.49  30.64  30.34  30.57  123432050.0\n",
       "2010-01-05  30.66  30.80  30.46  30.63  150476004.0\n",
       "2010-01-06  30.63  30.75  30.11  30.14  138039594.0\n",
       "2010-01-07  30.25  30.29  29.86  30.08  119282324.0\n",
       "2010-01-08  30.04  30.29  29.87  30.28  111969081.0"
      ]
     },
     "execution_count": 61,
     "metadata": {},
     "output_type": "execute_result"
    }
   ],
   "source": [
    "p.minor_xs('AAPL').head()"
   ]
  },
  {
   "cell_type": "code",
   "execution_count": 62,
   "metadata": {},
   "outputs": [
    {
     "data": {
      "text/html": [
       "<div>\n",
       "<table border=\"1\" class=\"dataframe\">\n",
       "  <thead>\n",
       "    <tr style=\"text-align: right;\">\n",
       "      <th></th>\n",
       "      <th>Open</th>\n",
       "      <th>High</th>\n",
       "      <th>Low</th>\n",
       "      <th>Close</th>\n",
       "      <th>Volume</th>\n",
       "    </tr>\n",
       "    <tr>\n",
       "      <th>Date</th>\n",
       "      <th></th>\n",
       "      <th></th>\n",
       "      <th></th>\n",
       "      <th></th>\n",
       "      <th></th>\n",
       "    </tr>\n",
       "  </thead>\n",
       "  <tbody>\n",
       "    <tr>\n",
       "      <th>2010-01-04</th>\n",
       "      <td>313.16</td>\n",
       "      <td>314.44</td>\n",
       "      <td>311.81</td>\n",
       "      <td>313.06</td>\n",
       "      <td>NaN</td>\n",
       "    </tr>\n",
       "    <tr>\n",
       "      <th>2010-01-05</th>\n",
       "      <td>313.28</td>\n",
       "      <td>313.61</td>\n",
       "      <td>310.46</td>\n",
       "      <td>311.68</td>\n",
       "      <td>NaN</td>\n",
       "    </tr>\n",
       "    <tr>\n",
       "      <th>2010-01-06</th>\n",
       "      <td>312.62</td>\n",
       "      <td>312.62</td>\n",
       "      <td>302.88</td>\n",
       "      <td>303.83</td>\n",
       "      <td>NaN</td>\n",
       "    </tr>\n",
       "    <tr>\n",
       "      <th>2010-01-07</th>\n",
       "      <td>304.40</td>\n",
       "      <td>304.70</td>\n",
       "      <td>296.03</td>\n",
       "      <td>296.75</td>\n",
       "      <td>NaN</td>\n",
       "    </tr>\n",
       "    <tr>\n",
       "      <th>2010-01-08</th>\n",
       "      <td>295.70</td>\n",
       "      <td>301.32</td>\n",
       "      <td>294.26</td>\n",
       "      <td>300.71</td>\n",
       "      <td>NaN</td>\n",
       "    </tr>\n",
       "  </tbody>\n",
       "</table>\n",
       "</div>"
      ],
      "text/plain": [
       "              Open    High     Low   Close  Volume\n",
       "Date                                              \n",
       "2010-01-04  313.16  314.44  311.81  313.06     NaN\n",
       "2010-01-05  313.28  313.61  310.46  311.68     NaN\n",
       "2010-01-06  312.62  312.62  302.88  303.83     NaN\n",
       "2010-01-07  304.40  304.70  296.03  296.75     NaN\n",
       "2010-01-08  295.70  301.32  294.26  300.71     NaN"
      ]
     },
     "execution_count": 62,
     "metadata": {},
     "output_type": "execute_result"
    }
   ],
   "source": [
    "p.minor_xs('GOOG').head()"
   ]
  },
  {
   "cell_type": "markdown",
   "metadata": {},
   "source": [
    "# .transpose() Method"
   ]
  },
  {
   "cell_type": "code",
   "execution_count": 67,
   "metadata": {},
   "outputs": [],
   "source": [
    "p2 = p.transpose(2 , 1, 0)  # 2 for company name, 1 is for date and 0 is for column name(dataframe)"
   ]
  },
  {
   "cell_type": "code",
   "execution_count": 66,
   "metadata": {},
   "outputs": [
    {
     "data": {
      "text/plain": [
       "<class 'pandas.core.panel.Panel'>\n",
       "Dimensions: 5 (items) x 1761 (major_axis) x 5 (minor_axis)\n",
       "Items axis: Open to Volume\n",
       "Major_axis axis: 2010-01-04 00:00:00 to 2016-12-30 00:00:00\n",
       "Minor_axis axis: AAPL to YHOO"
      ]
     },
     "execution_count": 66,
     "metadata": {},
     "output_type": "execute_result"
    }
   ],
   "source": [
    "p"
   ]
  },
  {
   "cell_type": "code",
   "execution_count": 68,
   "metadata": {},
   "outputs": [
    {
     "data": {
      "text/plain": [
       "<class 'pandas.core.panel.Panel'>\n",
       "Dimensions: 5 (items) x 1761 (major_axis) x 5 (minor_axis)\n",
       "Items axis: AAPL to YHOO\n",
       "Major_axis axis: 2010-01-04 00:00:00 to 2016-12-30 00:00:00\n",
       "Minor_axis axis: Open to Volume"
      ]
     },
     "execution_count": 68,
     "metadata": {},
     "output_type": "execute_result"
    }
   ],
   "source": [
    "p2"
   ]
  },
  {
   "cell_type": "code",
   "execution_count": 69,
   "metadata": {
    "collapsed": true
   },
   "outputs": [],
   "source": [
    "# Above looks at difference of Item_axis, Major_axis and Minor_axis values"
   ]
  },
  {
   "cell_type": "code",
   "execution_count": 71,
   "metadata": {},
   "outputs": [
    {
     "data": {
      "text/html": [
       "<div>\n",
       "<table border=\"1\" class=\"dataframe\">\n",
       "  <thead>\n",
       "    <tr style=\"text-align: right;\">\n",
       "      <th></th>\n",
       "      <th>Open</th>\n",
       "      <th>High</th>\n",
       "      <th>Low</th>\n",
       "      <th>Close</th>\n",
       "      <th>Volume</th>\n",
       "    </tr>\n",
       "    <tr>\n",
       "      <th>Date</th>\n",
       "      <th></th>\n",
       "      <th></th>\n",
       "      <th></th>\n",
       "      <th></th>\n",
       "      <th></th>\n",
       "    </tr>\n",
       "  </thead>\n",
       "  <tbody>\n",
       "    <tr>\n",
       "      <th>2010-01-04</th>\n",
       "      <td>30.49</td>\n",
       "      <td>30.64</td>\n",
       "      <td>30.34</td>\n",
       "      <td>30.57</td>\n",
       "      <td>123432050.0</td>\n",
       "    </tr>\n",
       "    <tr>\n",
       "      <th>2010-01-05</th>\n",
       "      <td>30.66</td>\n",
       "      <td>30.80</td>\n",
       "      <td>30.46</td>\n",
       "      <td>30.63</td>\n",
       "      <td>150476004.0</td>\n",
       "    </tr>\n",
       "    <tr>\n",
       "      <th>2010-01-06</th>\n",
       "      <td>30.63</td>\n",
       "      <td>30.75</td>\n",
       "      <td>30.11</td>\n",
       "      <td>30.14</td>\n",
       "      <td>138039594.0</td>\n",
       "    </tr>\n",
       "    <tr>\n",
       "      <th>2010-01-07</th>\n",
       "      <td>30.25</td>\n",
       "      <td>30.29</td>\n",
       "      <td>29.86</td>\n",
       "      <td>30.08</td>\n",
       "      <td>119282324.0</td>\n",
       "    </tr>\n",
       "    <tr>\n",
       "      <th>2010-01-08</th>\n",
       "      <td>30.04</td>\n",
       "      <td>30.29</td>\n",
       "      <td>29.87</td>\n",
       "      <td>30.28</td>\n",
       "      <td>111969081.0</td>\n",
       "    </tr>\n",
       "  </tbody>\n",
       "</table>\n",
       "</div>"
      ],
      "text/plain": [
       "             Open   High    Low  Close       Volume\n",
       "Date                                               \n",
       "2010-01-04  30.49  30.64  30.34  30.57  123432050.0\n",
       "2010-01-05  30.66  30.80  30.46  30.63  150476004.0\n",
       "2010-01-06  30.63  30.75  30.11  30.14  138039594.0\n",
       "2010-01-07  30.25  30.29  29.86  30.08  119282324.0\n",
       "2010-01-08  30.04  30.29  29.87  30.28  111969081.0"
      ]
     },
     "execution_count": 71,
     "metadata": {},
     "output_type": "execute_result"
    }
   ],
   "source": [
    "p2[\"AAPL\"].head()"
   ]
  },
  {
   "cell_type": "code",
   "execution_count": 73,
   "metadata": {},
   "outputs": [
    {
     "data": {
      "text/html": [
       "<div>\n",
       "<table border=\"1\" class=\"dataframe\">\n",
       "  <thead>\n",
       "    <tr style=\"text-align: right;\">\n",
       "      <th></th>\n",
       "      <th>Open</th>\n",
       "      <th>High</th>\n",
       "      <th>Low</th>\n",
       "      <th>Close</th>\n",
       "      <th>Volume</th>\n",
       "    </tr>\n",
       "    <tr>\n",
       "      <th>Date</th>\n",
       "      <th></th>\n",
       "      <th></th>\n",
       "      <th></th>\n",
       "      <th></th>\n",
       "      <th></th>\n",
       "    </tr>\n",
       "  </thead>\n",
       "  <tbody>\n",
       "    <tr>\n",
       "      <th>2010-01-04</th>\n",
       "      <td>313.16</td>\n",
       "      <td>314.44</td>\n",
       "      <td>311.81</td>\n",
       "      <td>313.06</td>\n",
       "      <td>NaN</td>\n",
       "    </tr>\n",
       "    <tr>\n",
       "      <th>2010-01-05</th>\n",
       "      <td>313.28</td>\n",
       "      <td>313.61</td>\n",
       "      <td>310.46</td>\n",
       "      <td>311.68</td>\n",
       "      <td>NaN</td>\n",
       "    </tr>\n",
       "    <tr>\n",
       "      <th>2010-01-06</th>\n",
       "      <td>312.62</td>\n",
       "      <td>312.62</td>\n",
       "      <td>302.88</td>\n",
       "      <td>303.83</td>\n",
       "      <td>NaN</td>\n",
       "    </tr>\n",
       "    <tr>\n",
       "      <th>2010-01-07</th>\n",
       "      <td>304.40</td>\n",
       "      <td>304.70</td>\n",
       "      <td>296.03</td>\n",
       "      <td>296.75</td>\n",
       "      <td>NaN</td>\n",
       "    </tr>\n",
       "    <tr>\n",
       "      <th>2010-01-08</th>\n",
       "      <td>295.70</td>\n",
       "      <td>301.32</td>\n",
       "      <td>294.26</td>\n",
       "      <td>300.71</td>\n",
       "      <td>NaN</td>\n",
       "    </tr>\n",
       "  </tbody>\n",
       "</table>\n",
       "</div>"
      ],
      "text/plain": [
       "              Open    High     Low   Close  Volume\n",
       "Date                                              \n",
       "2010-01-04  313.16  314.44  311.81  313.06     NaN\n",
       "2010-01-05  313.28  313.61  310.46  311.68     NaN\n",
       "2010-01-06  312.62  312.62  302.88  303.83     NaN\n",
       "2010-01-07  304.40  304.70  296.03  296.75     NaN\n",
       "2010-01-08  295.70  301.32  294.26  300.71     NaN"
      ]
     },
     "execution_count": 73,
     "metadata": {},
     "output_type": "execute_result"
    }
   ],
   "source": [
    "p2[\"GOOG\"].head()"
   ]
  },
  {
   "cell_type": "code",
   "execution_count": 75,
   "metadata": {},
   "outputs": [
    {
     "data": {
      "text/html": [
       "<div>\n",
       "<table border=\"1\" class=\"dataframe\">\n",
       "  <thead>\n",
       "    <tr style=\"text-align: right;\">\n",
       "      <th></th>\n",
       "      <th>AAPL</th>\n",
       "      <th>AMZN</th>\n",
       "      <th>GOOG</th>\n",
       "      <th>MSFT</th>\n",
       "      <th>YHOO</th>\n",
       "    </tr>\n",
       "  </thead>\n",
       "  <tbody>\n",
       "    <tr>\n",
       "      <th>Open</th>\n",
       "      <td>46.14</td>\n",
       "      <td>181.96</td>\n",
       "      <td>298.07</td>\n",
       "      <td>27.80</td>\n",
       "      <td>16.74</td>\n",
       "    </tr>\n",
       "    <tr>\n",
       "      <th>High</th>\n",
       "      <td>46.21</td>\n",
       "      <td>182.30</td>\n",
       "      <td>298.91</td>\n",
       "      <td>27.92</td>\n",
       "      <td>16.76</td>\n",
       "    </tr>\n",
       "    <tr>\n",
       "      <th>Low</th>\n",
       "      <td>45.90</td>\n",
       "      <td>179.51</td>\n",
       "      <td>295.72</td>\n",
       "      <td>27.63</td>\n",
       "      <td>16.47</td>\n",
       "    </tr>\n",
       "    <tr>\n",
       "      <th>Close</th>\n",
       "      <td>46.08</td>\n",
       "      <td>180.00</td>\n",
       "      <td>296.69</td>\n",
       "      <td>27.91</td>\n",
       "      <td>16.63</td>\n",
       "    </tr>\n",
       "    <tr>\n",
       "      <th>Volume</th>\n",
       "      <td>48413827.00</td>\n",
       "      <td>3453895.00</td>\n",
       "      <td>NaN</td>\n",
       "      <td>24791329.00</td>\n",
       "      <td>7760301.00</td>\n",
       "    </tr>\n",
       "  </tbody>\n",
       "</table>\n",
       "</div>"
      ],
      "text/plain": [
       "               AAPL        AMZN    GOOG         MSFT        YHOO\n",
       "Open          46.14      181.96  298.07        27.80       16.74\n",
       "High          46.21      182.30  298.91        27.92       16.76\n",
       "Low           45.90      179.51  295.72        27.63       16.47\n",
       "Close         46.08      180.00  296.69        27.91       16.63\n",
       "Volume  48413827.00  3453895.00     NaN  24791329.00  7760301.00"
      ]
     },
     "execution_count": 75,
     "metadata": {},
     "output_type": "execute_result"
    }
   ],
   "source": [
    "p2.major_xs(\"2010-12-31\")"
   ]
  },
  {
   "cell_type": "code",
   "execution_count": 77,
   "metadata": {},
   "outputs": [
    {
     "data": {
      "text/html": [
       "<div>\n",
       "<table border=\"1\" class=\"dataframe\">\n",
       "  <thead>\n",
       "    <tr style=\"text-align: right;\">\n",
       "      <th></th>\n",
       "      <th>AAPL</th>\n",
       "      <th>AMZN</th>\n",
       "      <th>GOOG</th>\n",
       "      <th>MSFT</th>\n",
       "      <th>YHOO</th>\n",
       "    </tr>\n",
       "    <tr>\n",
       "      <th>Date</th>\n",
       "      <th></th>\n",
       "      <th></th>\n",
       "      <th></th>\n",
       "      <th></th>\n",
       "      <th></th>\n",
       "    </tr>\n",
       "  </thead>\n",
       "  <tbody>\n",
       "    <tr>\n",
       "      <th>2010-01-04</th>\n",
       "      <td>123432050.0</td>\n",
       "      <td>7600543.0</td>\n",
       "      <td>NaN</td>\n",
       "      <td>38414185.0</td>\n",
       "      <td>16588957.0</td>\n",
       "    </tr>\n",
       "    <tr>\n",
       "      <th>2010-01-05</th>\n",
       "      <td>150476004.0</td>\n",
       "      <td>8856456.0</td>\n",
       "      <td>NaN</td>\n",
       "      <td>49758862.0</td>\n",
       "      <td>11718126.0</td>\n",
       "    </tr>\n",
       "    <tr>\n",
       "      <th>2010-01-06</th>\n",
       "      <td>138039594.0</td>\n",
       "      <td>7180977.0</td>\n",
       "      <td>NaN</td>\n",
       "      <td>58182332.0</td>\n",
       "      <td>16421960.0</td>\n",
       "    </tr>\n",
       "    <tr>\n",
       "      <th>2010-01-07</th>\n",
       "      <td>119282324.0</td>\n",
       "      <td>11030124.0</td>\n",
       "      <td>NaN</td>\n",
       "      <td>50564285.0</td>\n",
       "      <td>31816301.0</td>\n",
       "    </tr>\n",
       "    <tr>\n",
       "      <th>2010-01-08</th>\n",
       "      <td>111969081.0</td>\n",
       "      <td>9833829.0</td>\n",
       "      <td>NaN</td>\n",
       "      <td>51201289.0</td>\n",
       "      <td>15471074.0</td>\n",
       "    </tr>\n",
       "  </tbody>\n",
       "</table>\n",
       "</div>"
      ],
      "text/plain": [
       "                   AAPL        AMZN  GOOG        MSFT        YHOO\n",
       "Date                                                             \n",
       "2010-01-04  123432050.0   7600543.0   NaN  38414185.0  16588957.0\n",
       "2010-01-05  150476004.0   8856456.0   NaN  49758862.0  11718126.0\n",
       "2010-01-06  138039594.0   7180977.0   NaN  58182332.0  16421960.0\n",
       "2010-01-07  119282324.0  11030124.0   NaN  50564285.0  31816301.0\n",
       "2010-01-08  111969081.0   9833829.0   NaN  51201289.0  15471074.0"
      ]
     },
     "execution_count": 77,
     "metadata": {},
     "output_type": "execute_result"
    }
   ],
   "source": [
    "p2.minor_xs(\"Volume\").head()"
   ]
  },
  {
   "cell_type": "markdown",
   "metadata": {},
   "source": [
    "# .swapaxes() Method()"
   ]
  },
  {
   "cell_type": "code",
   "execution_count": 78,
   "metadata": {},
   "outputs": [
    {
     "data": {
      "text/plain": [
       "<class 'pandas.core.panel.Panel'>\n",
       "Dimensions: 5 (items) x 1761 (major_axis) x 5 (minor_axis)\n",
       "Items axis: Open to Volume\n",
       "Major_axis axis: 2010-01-04 00:00:00 to 2016-12-30 00:00:00\n",
       "Minor_axis axis: AAPL to YHOO"
      ]
     },
     "execution_count": 78,
     "metadata": {},
     "output_type": "execute_result"
    }
   ],
   "source": [
    "p"
   ]
  },
  {
   "cell_type": "code",
   "execution_count": 81,
   "metadata": {},
   "outputs": [
    {
     "data": {
      "text/plain": [
       "<class 'pandas.core.panel.Panel'>\n",
       "Dimensions: 5 (items) x 1761 (major_axis) x 5 (minor_axis)\n",
       "Items axis: AAPL to YHOO\n",
       "Major_axis axis: 2010-01-04 00:00:00 to 2016-12-30 00:00:00\n",
       "Minor_axis axis: Open to Volume"
      ]
     },
     "execution_count": 81,
     "metadata": {},
     "output_type": "execute_result"
    }
   ],
   "source": [
    "p.swapaxes(\"items\" , \"minor\")  # notice difference in Item_axis and Minor_axis values"
   ]
  },
  {
   "cell_type": "code",
   "execution_count": 82,
   "metadata": {
    "collapsed": true
   },
   "outputs": [],
   "source": [
    "p2 =p.swapaxes(\"items\" , \"minor\")"
   ]
  },
  {
   "cell_type": "code",
   "execution_count": 85,
   "metadata": {},
   "outputs": [
    {
     "data": {
      "text/plain": [
       "[Index(['Open', 'High', 'Low', 'Close', 'Volume'], dtype='object'),\n",
       " DatetimeIndex(['2010-01-04', '2010-01-05', '2010-01-06', '2010-01-07',\n",
       "                '2010-01-08', '2010-01-11', '2010-01-12', '2010-01-13',\n",
       "                '2010-01-14', '2010-01-15',\n",
       "                ...\n",
       "                '2016-12-16', '2016-12-19', '2016-12-20', '2016-12-21',\n",
       "                '2016-12-22', '2016-12-23', '2016-12-27', '2016-12-28',\n",
       "                '2016-12-29', '2016-12-30'],\n",
       "               dtype='datetime64[ns]', name='Date', length=1761, freq=None),\n",
       " Index(['AAPL', 'AMZN', 'GOOG', 'MSFT', 'YHOO'], dtype='object')]"
      ]
     },
     "execution_count": 85,
     "metadata": {},
     "output_type": "execute_result"
    }
   ],
   "source": [
    "p.axes"
   ]
  },
  {
   "cell_type": "code",
   "execution_count": 86,
   "metadata": {},
   "outputs": [
    {
     "data": {
      "text/plain": [
       "[Index(['AAPL', 'AMZN', 'GOOG', 'MSFT', 'YHOO'], dtype='object'),\n",
       " DatetimeIndex(['2010-01-04', '2010-01-05', '2010-01-06', '2010-01-07',\n",
       "                '2010-01-08', '2010-01-11', '2010-01-12', '2010-01-13',\n",
       "                '2010-01-14', '2010-01-15',\n",
       "                ...\n",
       "                '2016-12-16', '2016-12-19', '2016-12-20', '2016-12-21',\n",
       "                '2016-12-22', '2016-12-23', '2016-12-27', '2016-12-28',\n",
       "                '2016-12-29', '2016-12-30'],\n",
       "               dtype='datetime64[ns]', name='Date', length=1761, freq=None),\n",
       " Index(['Open', 'High', 'Low', 'Close', 'Volume'], dtype='object')]"
      ]
     },
     "execution_count": 86,
     "metadata": {},
     "output_type": "execute_result"
    }
   ],
   "source": [
    "p2.axes"
   ]
  },
  {
   "cell_type": "code",
   "execution_count": 87,
   "metadata": {},
   "outputs": [
    {
     "data": {
      "text/html": [
       "<div>\n",
       "<table border=\"1\" class=\"dataframe\">\n",
       "  <thead>\n",
       "    <tr style=\"text-align: right;\">\n",
       "      <th></th>\n",
       "      <th>Open</th>\n",
       "      <th>High</th>\n",
       "      <th>Low</th>\n",
       "      <th>Close</th>\n",
       "      <th>Volume</th>\n",
       "    </tr>\n",
       "    <tr>\n",
       "      <th>Date</th>\n",
       "      <th></th>\n",
       "      <th></th>\n",
       "      <th></th>\n",
       "      <th></th>\n",
       "      <th></th>\n",
       "    </tr>\n",
       "  </thead>\n",
       "  <tbody>\n",
       "    <tr>\n",
       "      <th>2010-01-04</th>\n",
       "      <td>30.62</td>\n",
       "      <td>31.10</td>\n",
       "      <td>30.59</td>\n",
       "      <td>30.95</td>\n",
       "      <td>38414185.0</td>\n",
       "    </tr>\n",
       "    <tr>\n",
       "      <th>2010-01-05</th>\n",
       "      <td>30.85</td>\n",
       "      <td>31.10</td>\n",
       "      <td>30.64</td>\n",
       "      <td>30.96</td>\n",
       "      <td>49758862.0</td>\n",
       "    </tr>\n",
       "    <tr>\n",
       "      <th>2010-01-06</th>\n",
       "      <td>30.88</td>\n",
       "      <td>31.08</td>\n",
       "      <td>30.52</td>\n",
       "      <td>30.77</td>\n",
       "      <td>58182332.0</td>\n",
       "    </tr>\n",
       "    <tr>\n",
       "      <th>2010-01-07</th>\n",
       "      <td>30.63</td>\n",
       "      <td>30.70</td>\n",
       "      <td>30.19</td>\n",
       "      <td>30.45</td>\n",
       "      <td>50564285.0</td>\n",
       "    </tr>\n",
       "    <tr>\n",
       "      <th>2010-01-08</th>\n",
       "      <td>30.28</td>\n",
       "      <td>30.88</td>\n",
       "      <td>30.24</td>\n",
       "      <td>30.66</td>\n",
       "      <td>51201289.0</td>\n",
       "    </tr>\n",
       "  </tbody>\n",
       "</table>\n",
       "</div>"
      ],
      "text/plain": [
       "             Open   High    Low  Close      Volume\n",
       "Date                                              \n",
       "2010-01-04  30.62  31.10  30.59  30.95  38414185.0\n",
       "2010-01-05  30.85  31.10  30.64  30.96  49758862.0\n",
       "2010-01-06  30.88  31.08  30.52  30.77  58182332.0\n",
       "2010-01-07  30.63  30.70  30.19  30.45  50564285.0\n",
       "2010-01-08  30.28  30.88  30.24  30.66  51201289.0"
      ]
     },
     "execution_count": 87,
     "metadata": {},
     "output_type": "execute_result"
    }
   ],
   "source": [
    "p2[\"MSFT\"].head()"
   ]
  },
  {
   "cell_type": "code",
   "execution_count": 91,
   "metadata": {},
   "outputs": [
    {
     "data": {
      "text/html": [
       "<div>\n",
       "<table border=\"1\" class=\"dataframe\">\n",
       "  <thead>\n",
       "    <tr style=\"text-align: right;\">\n",
       "      <th></th>\n",
       "      <th>AAPL</th>\n",
       "      <th>AMZN</th>\n",
       "      <th>GOOG</th>\n",
       "      <th>MSFT</th>\n",
       "      <th>YHOO</th>\n",
       "    </tr>\n",
       "  </thead>\n",
       "  <tbody>\n",
       "    <tr>\n",
       "      <th>Open</th>\n",
       "      <td>74.77</td>\n",
       "      <td>358.74</td>\n",
       "      <td>602.77</td>\n",
       "      <td>37.92</td>\n",
       "      <td>37.65</td>\n",
       "    </tr>\n",
       "    <tr>\n",
       "      <th>High</th>\n",
       "      <td>75.81</td>\n",
       "      <td>360.96</td>\n",
       "      <td>603.32</td>\n",
       "      <td>38.13</td>\n",
       "      <td>38.66</td>\n",
       "    </tr>\n",
       "    <tr>\n",
       "      <th>Low</th>\n",
       "      <td>74.69</td>\n",
       "      <td>354.48</td>\n",
       "      <td>595.47</td>\n",
       "      <td>37.50</td>\n",
       "      <td>37.43</td>\n",
       "    </tr>\n",
       "    <tr>\n",
       "      <th>Close</th>\n",
       "      <td>75.39</td>\n",
       "      <td>359.78</td>\n",
       "      <td>600.74</td>\n",
       "      <td>37.78</td>\n",
       "      <td>38.25</td>\n",
       "    </tr>\n",
       "    <tr>\n",
       "      <th>Volume</th>\n",
       "      <td>59784494.00</td>\n",
       "      <td>2804261.00</td>\n",
       "      <td>NaN</td>\n",
       "      <td>29726792.00</td>\n",
       "      <td>14716892.00</td>\n",
       "    </tr>\n",
       "  </tbody>\n",
       "</table>\n",
       "</div>"
      ],
      "text/plain": [
       "               AAPL        AMZN    GOOG         MSFT         YHOO\n",
       "Open          74.77      358.74  602.77        37.92        37.65\n",
       "High          75.81      360.96  603.32        38.13        38.66\n",
       "Low           74.69      354.48  595.47        37.50        37.43\n",
       "Close         75.39      359.78  600.74        37.78        38.25\n",
       "Volume  59784494.00  2804261.00     NaN  29726792.00  14716892.00"
      ]
     },
     "execution_count": 91,
     "metadata": {},
     "output_type": "execute_result"
    }
   ],
   "source": [
    "p2.major_xs(\"2014-03-03\")"
   ]
  },
  {
   "cell_type": "code",
   "execution_count": 93,
   "metadata": {},
   "outputs": [
    {
     "data": {
      "text/html": [
       "<div>\n",
       "<table border=\"1\" class=\"dataframe\">\n",
       "  <thead>\n",
       "    <tr style=\"text-align: right;\">\n",
       "      <th></th>\n",
       "      <th>AAPL</th>\n",
       "      <th>AMZN</th>\n",
       "      <th>GOOG</th>\n",
       "      <th>MSFT</th>\n",
       "      <th>YHOO</th>\n",
       "    </tr>\n",
       "    <tr>\n",
       "      <th>Date</th>\n",
       "      <th></th>\n",
       "      <th></th>\n",
       "      <th></th>\n",
       "      <th></th>\n",
       "      <th></th>\n",
       "    </tr>\n",
       "  </thead>\n",
       "  <tbody>\n",
       "    <tr>\n",
       "      <th>2010-01-04</th>\n",
       "      <td>30.57</td>\n",
       "      <td>133.90</td>\n",
       "      <td>313.06</td>\n",
       "      <td>30.95</td>\n",
       "      <td>17.10</td>\n",
       "    </tr>\n",
       "    <tr>\n",
       "      <th>2010-01-05</th>\n",
       "      <td>30.63</td>\n",
       "      <td>134.69</td>\n",
       "      <td>311.68</td>\n",
       "      <td>30.96</td>\n",
       "      <td>17.23</td>\n",
       "    </tr>\n",
       "    <tr>\n",
       "      <th>2010-01-06</th>\n",
       "      <td>30.14</td>\n",
       "      <td>132.25</td>\n",
       "      <td>303.83</td>\n",
       "      <td>30.77</td>\n",
       "      <td>17.17</td>\n",
       "    </tr>\n",
       "    <tr>\n",
       "      <th>2010-01-07</th>\n",
       "      <td>30.08</td>\n",
       "      <td>130.00</td>\n",
       "      <td>296.75</td>\n",
       "      <td>30.45</td>\n",
       "      <td>16.70</td>\n",
       "    </tr>\n",
       "    <tr>\n",
       "      <th>2010-01-08</th>\n",
       "      <td>30.28</td>\n",
       "      <td>133.52</td>\n",
       "      <td>300.71</td>\n",
       "      <td>30.66</td>\n",
       "      <td>16.70</td>\n",
       "    </tr>\n",
       "  </tbody>\n",
       "</table>\n",
       "</div>"
      ],
      "text/plain": [
       "             AAPL    AMZN    GOOG   MSFT   YHOO\n",
       "Date                                           \n",
       "2010-01-04  30.57  133.90  313.06  30.95  17.10\n",
       "2010-01-05  30.63  134.69  311.68  30.96  17.23\n",
       "2010-01-06  30.14  132.25  303.83  30.77  17.17\n",
       "2010-01-07  30.08  130.00  296.75  30.45  16.70\n",
       "2010-01-08  30.28  133.52  300.71  30.66  16.70"
      ]
     },
     "execution_count": 93,
     "metadata": {},
     "output_type": "execute_result"
    }
   ],
   "source": [
    "p2.minor_xs(\"Close\").head()"
   ]
  },
  {
   "cell_type": "code",
   "execution_count": null,
   "metadata": {
    "collapsed": true
   },
   "outputs": [],
   "source": []
  },
  {
   "cell_type": "code",
   "execution_count": null,
   "metadata": {
    "collapsed": true
   },
   "outputs": [],
   "source": []
  },
  {
   "cell_type": "code",
   "execution_count": null,
   "metadata": {
    "collapsed": true
   },
   "outputs": [],
   "source": []
  },
  {
   "cell_type": "code",
   "execution_count": null,
   "metadata": {
    "collapsed": true
   },
   "outputs": [],
   "source": []
  },
  {
   "cell_type": "code",
   "execution_count": null,
   "metadata": {
    "collapsed": true
   },
   "outputs": [],
   "source": []
  },
  {
   "cell_type": "code",
   "execution_count": null,
   "metadata": {
    "collapsed": true
   },
   "outputs": [],
   "source": []
  },
  {
   "cell_type": "code",
   "execution_count": null,
   "metadata": {
    "collapsed": true
   },
   "outputs": [],
   "source": []
  },
  {
   "cell_type": "code",
   "execution_count": null,
   "metadata": {
    "collapsed": true
   },
   "outputs": [],
   "source": []
  },
  {
   "cell_type": "code",
   "execution_count": null,
   "metadata": {
    "collapsed": true
   },
   "outputs": [],
   "source": []
  },
  {
   "cell_type": "code",
   "execution_count": null,
   "metadata": {
    "collapsed": true
   },
   "outputs": [],
   "source": []
  },
  {
   "cell_type": "code",
   "execution_count": null,
   "metadata": {
    "collapsed": true
   },
   "outputs": [],
   "source": []
  },
  {
   "cell_type": "code",
   "execution_count": null,
   "metadata": {
    "collapsed": true
   },
   "outputs": [],
   "source": []
  },
  {
   "cell_type": "code",
   "execution_count": null,
   "metadata": {
    "collapsed": true
   },
   "outputs": [],
   "source": []
  },
  {
   "cell_type": "code",
   "execution_count": null,
   "metadata": {
    "collapsed": true
   },
   "outputs": [],
   "source": []
  },
  {
   "cell_type": "code",
   "execution_count": null,
   "metadata": {
    "collapsed": true
   },
   "outputs": [],
   "source": []
  },
  {
   "cell_type": "code",
   "execution_count": null,
   "metadata": {
    "collapsed": true
   },
   "outputs": [],
   "source": []
  },
  {
   "cell_type": "code",
   "execution_count": null,
   "metadata": {
    "collapsed": true
   },
   "outputs": [],
   "source": []
  },
  {
   "cell_type": "code",
   "execution_count": null,
   "metadata": {
    "collapsed": true
   },
   "outputs": [],
   "source": []
  },
  {
   "cell_type": "code",
   "execution_count": null,
   "metadata": {
    "collapsed": true
   },
   "outputs": [],
   "source": []
  },
  {
   "cell_type": "code",
   "execution_count": null,
   "metadata": {
    "collapsed": true
   },
   "outputs": [],
   "source": []
  },
  {
   "cell_type": "code",
   "execution_count": null,
   "metadata": {
    "collapsed": true
   },
   "outputs": [],
   "source": []
  },
  {
   "cell_type": "code",
   "execution_count": null,
   "metadata": {
    "collapsed": true
   },
   "outputs": [],
   "source": []
  },
  {
   "cell_type": "code",
   "execution_count": null,
   "metadata": {
    "collapsed": true
   },
   "outputs": [],
   "source": []
  },
  {
   "cell_type": "code",
   "execution_count": null,
   "metadata": {
    "collapsed": true
   },
   "outputs": [],
   "source": []
  },
  {
   "cell_type": "code",
   "execution_count": null,
   "metadata": {
    "collapsed": true
   },
   "outputs": [],
   "source": []
  },
  {
   "cell_type": "code",
   "execution_count": null,
   "metadata": {
    "collapsed": true
   },
   "outputs": [],
   "source": []
  },
  {
   "cell_type": "code",
   "execution_count": null,
   "metadata": {
    "collapsed": true
   },
   "outputs": [],
   "source": []
  }
 ],
 "metadata": {
  "kernelspec": {
   "display_name": "Python 3",
   "language": "python",
   "name": "python3"
  },
  "language_info": {
   "codemirror_mode": {
    "name": "ipython",
    "version": 3
   },
   "file_extension": ".py",
   "mimetype": "text/x-python",
   "name": "python",
   "nbconvert_exporter": "python",
   "pygments_lexer": "ipython3",
   "version": "3.6.0"
  }
 },
 "nbformat": 4,
 "nbformat_minor": 2
}
