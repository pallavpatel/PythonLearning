{
 "cells": [
  {
   "cell_type": "code",
   "execution_count": 34,
   "metadata": {
    "collapsed": true
   },
   "outputs": [],
   "source": [
    "# Apple stock question\n",
    "a = [25,21,20,17,15,13,12,10,9,5,2,1]"
   ]
  },
  {
   "cell_type": "code",
   "execution_count": 36,
   "metadata": {
    "collapsed": true
   },
   "outputs": [],
   "source": [
    "def apple_stock_profit(stock_price):\n",
    "    max_profit = -99999\n",
    "    for i in range(len(a)-1):\n",
    "        j = i+1\n",
    "        for j in range(i+1,len(a)):\n",
    "            profit = a[j]-a[i]\n",
    "#            print(\"a[{}]={} and a[{}] = {} and profit ={}\".format(i,a[i],j,a[j],profit))\n",
    "            if profit > max_profit:\n",
    "                max_profit = profit\n",
    "    print(\"max profit it {}\".format(max_profit))"
   ]
  },
  {
   "cell_type": "code",
   "execution_count": 37,
   "metadata": {},
   "outputs": [
    {
     "name": "stdout",
     "output_type": "stream",
     "text": [
      "max profit it -1\n"
     ]
    }
   ],
   "source": [
    "apple_stock_profit(a)"
   ]
  },
  {
   "cell_type": "code",
   "execution_count": 58,
   "metadata": {
    "collapsed": true
   },
   "outputs": [],
   "source": [
    "b = [5,7,8,4,0]"
   ]
  },
  {
   "cell_type": "code",
   "execution_count": 59,
   "metadata": {
    "collapsed": true
   },
   "outputs": [],
   "source": [
    "def prod_of_element(b):\n",
    "    new_list = []\n",
    "    for i in range(len(b)):\n",
    "        prod = 1\n",
    "        for j in range(len(b)):\n",
    "            if i != j:\n",
    "                prod = prod*b[j]\n",
    "                print(\"a[{}] = {} , a[{}] = {} , prod = {}\".format(i,b[i], j ,b[j], prod))\n",
    "        new_list.append(prod)\n",
    "    print(new_list)"
   ]
  },
  {
   "cell_type": "code",
   "execution_count": 60,
   "metadata": {},
   "outputs": [
    {
     "name": "stdout",
     "output_type": "stream",
     "text": [
      "a[0] = 5 , a[1] = 7 , prod = 7\n",
      "a[0] = 5 , a[2] = 8 , prod = 56\n",
      "a[0] = 5 , a[3] = 4 , prod = 224\n",
      "a[0] = 5 , a[4] = 0 , prod = 0\n",
      "a[1] = 7 , a[0] = 5 , prod = 5\n",
      "a[1] = 7 , a[2] = 8 , prod = 40\n",
      "a[1] = 7 , a[3] = 4 , prod = 160\n",
      "a[1] = 7 , a[4] = 0 , prod = 0\n",
      "a[2] = 8 , a[0] = 5 , prod = 5\n",
      "a[2] = 8 , a[1] = 7 , prod = 35\n",
      "a[2] = 8 , a[3] = 4 , prod = 140\n",
      "a[2] = 8 , a[4] = 0 , prod = 0\n",
      "a[3] = 4 , a[0] = 5 , prod = 5\n",
      "a[3] = 4 , a[1] = 7 , prod = 35\n",
      "a[3] = 4 , a[2] = 8 , prod = 280\n",
      "a[3] = 4 , a[4] = 0 , prod = 0\n",
      "a[4] = 0 , a[0] = 5 , prod = 5\n",
      "a[4] = 0 , a[1] = 7 , prod = 35\n",
      "a[4] = 0 , a[2] = 8 , prod = 280\n",
      "a[4] = 0 , a[3] = 4 , prod = 1120\n",
      "[0, 0, 0, 0, 1120]\n"
     ]
    }
   ],
   "source": [
    "prod_of_element(b)"
   ]
  },
  {
   "cell_type": "code",
   "execution_count": 12,
   "metadata": {
    "collapsed": true
   },
   "outputs": [],
   "source": [
    "#Given a list of integers, find the highest product you can get from three of the integers.\n",
    "\n",
    "a = [3,5,8,2,10,34,66,25,10,6]\n",
    "b = [-300,-10,-10,76,57,6,5,6,7, 1,3,2]\n",
    "c = [1,2]"
   ]
  },
  {
   "cell_type": "code",
   "execution_count": 13,
   "metadata": {
    "collapsed": true
   },
   "outputs": [],
   "source": [
    "def highest_prod_of_int(a):\n",
    "    if len(a) < 3:\n",
    "        print(\"atleast 3 int needed\")\n",
    "    if len(a) == 3:\n",
    "        return a[0]*a[1]*a[2]\n",
    "    else:\n",
    "        a.sort()\n",
    "        if a[len(a)-1] == 0 and len(a) > 3:\n",
    "            return a[len(a)-2]*a[len(a)-3]*a[len(a)-4]\n",
    "        if a[len(a)-1] < 0 or a[0] > 0:\n",
    "            return a[len(a)-1]*a[len(a)-2]*a[len(a)-3]\n",
    "        else:\n",
    "            for i in range(len(a)-1):\n",
    "                if a[i] >=0:\n",
    "                    if i >= 2:\n",
    "                        prod1 = a[0]*a[1]*a[len(a)-1]\n",
    "                        prod2 = a[len(a)-1]*a[len(a)-2]*a[len(a)-3]\n",
    "                        if prod1 > prod2:\n",
    "                            return prod1\n",
    "                        else:\n",
    "                            return prod2\n",
    "                    else:\n",
    "                        return a[len(a)-1]*a[len(a)-2]*a[len(a)-3]\n",
    "    \n",
    "                            \n",
    "        \n",
    "                "
   ]
  },
  {
   "cell_type": "code",
   "execution_count": 14,
   "metadata": {},
   "outputs": [
    {
     "data": {
      "text/plain": [
       "56100"
      ]
     },
     "execution_count": 14,
     "metadata": {},
     "output_type": "execute_result"
    }
   ],
   "source": [
    "highest_prod_of_int(a)"
   ]
  },
  {
   "cell_type": "code",
   "execution_count": 15,
   "metadata": {},
   "outputs": [
    {
     "data": {
      "text/plain": [
       "228000"
      ]
     },
     "execution_count": 15,
     "metadata": {},
     "output_type": "execute_result"
    }
   ],
   "source": [
    "highest_prod_of_int(b)"
   ]
  },
  {
   "cell_type": "code",
   "execution_count": 84,
   "metadata": {},
   "outputs": [
    {
     "name": "stdout",
     "output_type": "stream",
     "text": [
      "atleast 3 int needed\n"
     ]
    },
    {
     "data": {
      "text/plain": [
       "4"
      ]
     },
     "execution_count": 84,
     "metadata": {},
     "output_type": "execute_result"
    }
   ],
   "source": [
    "highest_prod_of_int(c)"
   ]
  },
  {
   "cell_type": "code",
   "execution_count": 106,
   "metadata": {
    "collapsed": true
   },
   "outputs": [],
   "source": [
    "#HiCal\n",
    "\n",
    "#(2, 3) # meeting from 10:00 – 10:30 am\n",
    "#(6, 9) # meeting from 12:00 – 1:30 pm\n",
    "\n",
    "#For example, given:\n",
    "#  [(0, 1), (3, 5), (4, 8), (10, 12), (9, 10)]\n",
    "# your function would return:\n",
    "# [(0, 1), (3, 8), (9, 12)]\n",
    "\n",
    "d = [(0,1) , (3,5), (4,8), (10,12), (9,10)]\n",
    "e = [(0,1) , (3,5), (4,8), (10,12), (9,10) , (4,12)]"
   ]
  },
  {
   "cell_type": "code",
   "execution_count": 125,
   "metadata": {
    "collapsed": true
   },
   "outputs": [],
   "source": [
    "def merge_ranges(z):\n",
    "    z.sort()\n",
    "    start_pos = z[0][0]\n",
    "    end_pos = z[0][1]\n",
    "    new_list_z = []\n",
    "    for i in range(1,len(z)):\n",
    "        if z[i][0] > end_pos:\n",
    "            new_list_z.append((start_pos,end_pos ))\n",
    "            start_pos = z[i][0]\n",
    "            end_pos = z[i][1]\n",
    "        if z[i][1] < end_pos:\n",
    "            if i == (len(z)-1):\n",
    "                new_list_z.append((start_pos,end_pos ))\n",
    "        else:\n",
    "            end_pos = z[i][1]\n",
    "            if i == (len(z)-1):\n",
    "                new_list_z.append((start_pos,end_pos ))\n",
    "    print(new_list_z) "
   ]
  },
  {
   "cell_type": "code",
   "execution_count": 127,
   "metadata": {},
   "outputs": [
    {
     "name": "stdout",
     "output_type": "stream",
     "text": [
      "[(0, 1), (3, 8), (9, 12)]\n",
      "[(0, 1), (3, 12)]\n",
      "[(1, 3)]\n",
      "[(1, 5)]\n",
      "[(1, 10)]\n"
     ]
    }
   ],
   "source": [
    "d = [(0,1) , (3,5), (4,8), (10,12), (9,10)]\n",
    "e = [(0,1) , (3,5), (4,8), (10,12), (9,10) , (4,12)]\n",
    "f =   [(1, 2), (2, 3)]\n",
    "g =  [(1, 5), (2, 3)]\n",
    "h=  [(1, 10), (2, 6), (3, 5), (7, 9)]\n",
    "merge_ranges(d)\n",
    "merge_ranges(e)\n",
    "merge_ranges(f)\n",
    "merge_ranges(g)\n",
    "merge_ranges(h)"
   ]
  },
  {
   "cell_type": "code",
   "execution_count": null,
   "metadata": {
    "collapsed": true
   },
   "outputs": [],
   "source": []
  },
  {
   "cell_type": "code",
   "execution_count": 169,
   "metadata": {
    "collapsed": true
   },
   "outputs": [],
   "source": [
    "# permutation of string\n",
    "\n",
    "def permute(s):\n",
    "    out = []\n",
    "    print(\"here is function coming again.....\")\n",
    "    if len(s) == 1:\n",
    "        out = [s]\n",
    "        print(\"here if is coming .... out is {}\".format(out))\n",
    "    else:\n",
    "        #for every letter in string\n",
    "        for i,let in enumerate(s):\n",
    "            print(\"i = {}, letter is {} and passing string is {}\".format(i , let, s[:i] + s[i+1:]))\n",
    "            \n",
    "            # For every permutation \n",
    "            for perm in permute(s[:i] + s[i+1:]):\n",
    "                print(\"perm is {} and let is {}\".format(perm,let))\n",
    "                out = out+[let+perm]\n",
    "                print(\"out is {}\".format(out))\n",
    "    return out"
   ]
  },
  {
   "cell_type": "code",
   "execution_count": 172,
   "metadata": {},
   "outputs": [
    {
     "name": "stdout",
     "output_type": "stream",
     "text": [
      "here is function coming again.....\n",
      "i = 0, letter is a and passing string is bc\n",
      "here is function coming again.....\n",
      "i = 0, letter is b and passing string is c\n",
      "here is function coming again.....\n",
      "here if is coming .... out is ['c']\n",
      "perm is c and let is b\n",
      "out is ['bc']\n",
      "i = 1, letter is c and passing string is b\n",
      "here is function coming again.....\n",
      "here if is coming .... out is ['b']\n",
      "perm is b and let is c\n",
      "out is ['bc', 'cb']\n",
      "perm is bc and let is a\n",
      "out is ['abc']\n",
      "perm is cb and let is a\n",
      "out is ['abc', 'acb']\n",
      "i = 1, letter is b and passing string is ac\n",
      "here is function coming again.....\n",
      "i = 0, letter is a and passing string is c\n",
      "here is function coming again.....\n",
      "here if is coming .... out is ['c']\n",
      "perm is c and let is a\n",
      "out is ['ac']\n",
      "i = 1, letter is c and passing string is a\n",
      "here is function coming again.....\n",
      "here if is coming .... out is ['a']\n",
      "perm is a and let is c\n",
      "out is ['ac', 'ca']\n",
      "perm is ac and let is b\n",
      "out is ['abc', 'acb', 'bac']\n",
      "perm is ca and let is b\n",
      "out is ['abc', 'acb', 'bac', 'bca']\n",
      "i = 2, letter is c and passing string is ab\n",
      "here is function coming again.....\n",
      "i = 0, letter is a and passing string is b\n",
      "here is function coming again.....\n",
      "here if is coming .... out is ['b']\n",
      "perm is b and let is a\n",
      "out is ['ab']\n",
      "i = 1, letter is b and passing string is a\n",
      "here is function coming again.....\n",
      "here if is coming .... out is ['a']\n",
      "perm is a and let is b\n",
      "out is ['ab', 'ba']\n",
      "perm is ab and let is c\n",
      "out is ['abc', 'acb', 'bac', 'bca', 'cab']\n",
      "perm is ba and let is c\n",
      "out is ['abc', 'acb', 'bac', 'bca', 'cab', 'cba']\n"
     ]
    },
    {
     "data": {
      "text/plain": [
       "['abc', 'acb', 'bac', 'bca', 'cab', 'cba']"
      ]
     },
     "execution_count": 172,
     "metadata": {},
     "output_type": "execute_result"
    }
   ],
   "source": [
    "permute('abc')"
   ]
  },
  {
   "cell_type": "code",
   "execution_count": 153,
   "metadata": {
    "collapsed": true
   },
   "outputs": [],
   "source": [
    "q = 'abcd'"
   ]
  },
  {
   "cell_type": "code",
   "execution_count": 155,
   "metadata": {},
   "outputs": [
    {
     "data": {
      "text/plain": [
       "'bcd'"
      ]
     },
     "execution_count": 155,
     "metadata": {},
     "output_type": "execute_result"
    }
   ],
   "source": [
    "q[1:]"
   ]
  },
  {
   "cell_type": "code",
   "execution_count": 16,
   "metadata": {
    "collapsed": true
   },
   "outputs": [],
   "source": [
    "# Factorial \n",
    "\n",
    "def fact(n):\n",
    "    if n == 0:\n",
    "        return 1\n",
    "    else:\n",
    "        return n*fact(n-1)"
   ]
  },
  {
   "cell_type": "code",
   "execution_count": 18,
   "metadata": {},
   "outputs": [
    {
     "data": {
      "text/plain": [
       "720"
      ]
     },
     "execution_count": 18,
     "metadata": {},
     "output_type": "execute_result"
    }
   ],
   "source": [
    "fact(6)"
   ]
  },
  {
   "cell_type": "code",
   "execution_count": 19,
   "metadata": {
    "collapsed": true
   },
   "outputs": [],
   "source": [
    "def cum_sum(n):\n",
    "    if n == 0:\n",
    "        return 1\n",
    "    else:\n",
    "        return n+fact(n-1)"
   ]
  },
  {
   "cell_type": "code",
   "execution_count": 21,
   "metadata": {},
   "outputs": [
    {
     "data": {
      "text/plain": [
       "10"
      ]
     },
     "execution_count": 21,
     "metadata": {},
     "output_type": "execute_result"
    }
   ],
   "source": [
    "cum_sum(4)"
   ]
  },
  {
   "cell_type": "code",
   "execution_count": 31,
   "metadata": {
    "collapsed": true
   },
   "outputs": [],
   "source": [
    "# sum of integer digit\n",
    "\n",
    "def int_sum(n):\n",
    "    if len(str(n)) == 1:\n",
    "        return n\n",
    "    else:\n",
    "        mod = n % 10\n",
    "        div = n // 10\n",
    "        return mod + int_sum(div)\n"
   ]
  },
  {
   "cell_type": "code",
   "execution_count": 34,
   "metadata": {},
   "outputs": [
    {
     "data": {
      "text/plain": [
       "15"
      ]
     },
     "execution_count": 34,
     "metadata": {},
     "output_type": "execute_result"
    }
   ],
   "source": [
    "int_sum(43215)"
   ]
  },
  {
   "cell_type": "code",
   "execution_count": 37,
   "metadata": {
    "collapsed": true
   },
   "outputs": [],
   "source": [
    "# reversing string using recurssion\n",
    "\n",
    "def reverse(s):\n",
    "    if len(s) == 1:\n",
    "        return s\n",
    "    else:\n",
    "        return s[-1]+reverse(s[:-1])"
   ]
  },
  {
   "cell_type": "code",
   "execution_count": 40,
   "metadata": {},
   "outputs": [
    {
     "data": {
      "text/plain": [
       "'dlrow olleh'"
      ]
     },
     "execution_count": 40,
     "metadata": {},
     "output_type": "execute_result"
    }
   ],
   "source": [
    "reverse('hello world')"
   ]
  },
  {
   "cell_type": "code",
   "execution_count": 46,
   "metadata": {
    "collapsed": true
   },
   "outputs": [],
   "source": [
    "\n",
    "def reverse2(s):\n",
    "    if len(s) == 1:\n",
    "        return s\n",
    "    else:\n",
    "        return reverse(s[1:]) + s[0]"
   ]
  },
  {
   "cell_type": "code",
   "execution_count": 47,
   "metadata": {},
   "outputs": [
    {
     "data": {
      "text/plain": [
       "'dlrow olleh'"
      ]
     },
     "execution_count": 47,
     "metadata": {},
     "output_type": "execute_result"
    }
   ],
   "source": [
    "reverse2('hello world')"
   ]
  },
  {
   "cell_type": "code",
   "execution_count": null,
   "metadata": {
    "collapsed": true
   },
   "outputs": [],
   "source": []
  },
  {
   "cell_type": "code",
   "execution_count": 69,
   "metadata": {
    "collapsed": true
   },
   "outputs": [],
   "source": [
    "# Permutation \n",
    "\n",
    "def permute(s):\n",
    "    out = []\n",
    "    \n",
    "    # Base case\n",
    "   \n",
    "    if len(s) == 1:\n",
    "        out = [s]\n",
    "\n",
    "    else:\n",
    "        # for every letter in string\n",
    "        for i, let in enumerate(s):\n",
    "             # for every permutation resulting from \n",
    "            print(\"i = {} , let = {} , string is={} \".format(i,let,(s[:i] + s[i+1:])))\n",
    "            for perm in permute(s[:i] + s[i+1:]):\n",
    "                print(\"i = {} , let = {} ,perm is : {}, out is ={}, [let+perm] = {} \".format(i,let,perm,out, ([let+perm])))\n",
    "                out = out + [let+perm]\n",
    "                print(\"out is = {}\".format(out))\n",
    "\n",
    "    return out\n",
    "\n",
    "                  "
   ]
  },
  {
   "cell_type": "code",
   "execution_count": 70,
   "metadata": {},
   "outputs": [
    {
     "name": "stdout",
     "output_type": "stream",
     "text": [
      "i = 0 , let = a , string is=bc \n",
      "i = 0 , let = b , string is=c \n",
      "i = 0 , let = b ,perm is : c, out is =[], [let+perm] = ['bc'] \n",
      "out is = ['bc']\n",
      "i = 1 , let = c , string is=b \n",
      "i = 1 , let = c ,perm is : b, out is =['bc'], [let+perm] = ['cb'] \n",
      "out is = ['bc', 'cb']\n",
      "i = 0 , let = a ,perm is : bc, out is =[], [let+perm] = ['abc'] \n",
      "out is = ['abc']\n",
      "i = 0 , let = a ,perm is : cb, out is =['abc'], [let+perm] = ['acb'] \n",
      "out is = ['abc', 'acb']\n",
      "i = 1 , let = b , string is=ac \n",
      "i = 0 , let = a , string is=c \n",
      "i = 0 , let = a ,perm is : c, out is =[], [let+perm] = ['ac'] \n",
      "out is = ['ac']\n",
      "i = 1 , let = c , string is=a \n",
      "i = 1 , let = c ,perm is : a, out is =['ac'], [let+perm] = ['ca'] \n",
      "out is = ['ac', 'ca']\n",
      "i = 1 , let = b ,perm is : ac, out is =['abc', 'acb'], [let+perm] = ['bac'] \n",
      "out is = ['abc', 'acb', 'bac']\n",
      "i = 1 , let = b ,perm is : ca, out is =['abc', 'acb', 'bac'], [let+perm] = ['bca'] \n",
      "out is = ['abc', 'acb', 'bac', 'bca']\n",
      "i = 2 , let = c , string is=ab \n",
      "i = 0 , let = a , string is=b \n",
      "i = 0 , let = a ,perm is : b, out is =[], [let+perm] = ['ab'] \n",
      "out is = ['ab']\n",
      "i = 1 , let = b , string is=a \n",
      "i = 1 , let = b ,perm is : a, out is =['ab'], [let+perm] = ['ba'] \n",
      "out is = ['ab', 'ba']\n",
      "i = 2 , let = c ,perm is : ab, out is =['abc', 'acb', 'bac', 'bca'], [let+perm] = ['cab'] \n",
      "out is = ['abc', 'acb', 'bac', 'bca', 'cab']\n",
      "i = 2 , let = c ,perm is : ba, out is =['abc', 'acb', 'bac', 'bca', 'cab'], [let+perm] = ['cba'] \n",
      "out is = ['abc', 'acb', 'bac', 'bca', 'cab', 'cba']\n"
     ]
    },
    {
     "data": {
      "text/plain": [
       "['abc', 'acb', 'bac', 'bca', 'cab', 'cba']"
      ]
     },
     "execution_count": 70,
     "metadata": {},
     "output_type": "execute_result"
    }
   ],
   "source": [
    "permute('abc')"
   ]
  },
  {
   "cell_type": "code",
   "execution_count": 65,
   "metadata": {
    "collapsed": true
   },
   "outputs": [],
   "source": []
  },
  {
   "cell_type": "code",
   "execution_count": 66,
   "metadata": {},
   "outputs": [
    {
     "ename": "NameError",
     "evalue": "name 'xrange' is not defined",
     "output_type": "error",
     "traceback": [
      "\u001b[1;31m---------------------------------------------------------------------------\u001b[0m",
      "\u001b[1;31mNameError\u001b[0m                                 Traceback (most recent call last)",
      "\u001b[1;32m<ipython-input-66-ede3bc9182e7>\u001b[0m in \u001b[0;36m<module>\u001b[1;34m()\u001b[0m\n\u001b[1;32m----> 1\u001b[1;33m \u001b[0mcombinations\u001b[0m\u001b[1;33m(\u001b[0m\u001b[1;34m'ABCD'\u001b[0m\u001b[1;33m,\u001b[0m \u001b[1;36m2\u001b[0m\u001b[1;33m)\u001b[0m\u001b[1;33m\u001b[0m\u001b[0m\n\u001b[0m",
      "\u001b[1;32m<ipython-input-65-7f988909e620>\u001b[0m in \u001b[0;36mcombinations\u001b[1;34m(iterable, r)\u001b[0m\n\u001b[0;32m      6\u001b[0m     \u001b[1;32mif\u001b[0m \u001b[0mr\u001b[0m \u001b[1;33m>\u001b[0m \u001b[0mn\u001b[0m\u001b[1;33m:\u001b[0m\u001b[1;33m\u001b[0m\u001b[0m\n\u001b[0;32m      7\u001b[0m         \u001b[1;32mreturn\u001b[0m\u001b[1;33m\u001b[0m\u001b[0m\n\u001b[1;32m----> 8\u001b[1;33m     \u001b[0mindices\u001b[0m \u001b[1;33m=\u001b[0m \u001b[0mxrange\u001b[0m\u001b[1;33m(\u001b[0m\u001b[0mr\u001b[0m\u001b[1;33m)\u001b[0m\u001b[1;33m\u001b[0m\u001b[0m\n\u001b[0m\u001b[0;32m      9\u001b[0m     \u001b[0mtuple\u001b[0m\u001b[1;33m(\u001b[0m\u001b[0mpool\u001b[0m\u001b[1;33m[\u001b[0m\u001b[0mi\u001b[0m\u001b[1;33m]\u001b[0m \u001b[1;32mfor\u001b[0m \u001b[0mi\u001b[0m \u001b[1;32min\u001b[0m \u001b[0mindices\u001b[0m\u001b[1;33m)\u001b[0m\u001b[1;33m\u001b[0m\u001b[0m\n\u001b[0;32m     10\u001b[0m     \u001b[1;32mwhile\u001b[0m \u001b[1;32mTrue\u001b[0m\u001b[1;33m:\u001b[0m\u001b[1;33m\u001b[0m\u001b[0m\n",
      "\u001b[1;31mNameError\u001b[0m: name 'xrange' is not defined"
     ]
    }
   ],
   "source": [
    "combinations('ABCD', 2)\n"
   ]
  },
  {
   "cell_type": "code",
   "execution_count": 91,
   "metadata": {
    "collapsed": true
   },
   "outputs": [],
   "source": [
    "def chain(*iterables):\n",
    "    # chain('ABC', 'DEF') --> A B C D E F\n",
    "    for it in iterables:\n",
    "        print(it)\n",
    "        for element in it:\n",
    "            print(\"element is ...{}\".format(element))"
   ]
  },
  {
   "cell_type": "code",
   "execution_count": 92,
   "metadata": {},
   "outputs": [
    {
     "name": "stdout",
     "output_type": "stream",
     "text": [
      "ABC\n",
      "element is ...A\n",
      "element is ...B\n",
      "element is ...C\n",
      "DEF\n",
      "element is ...D\n",
      "element is ...E\n",
      "element is ...F\n"
     ]
    }
   ],
   "source": [
    "chain('ABC', 'DEF')"
   ]
  },
  {
   "cell_type": "code",
   "execution_count": 98,
   "metadata": {},
   "outputs": [
    {
     "name": "stdout",
     "output_type": "stream",
     "text": [
      "<itertools.chain object at 0x00000258B8F9A208>\n"
     ]
    }
   ],
   "source": [
    "import itertools\n",
    "\n",
    "letters = ['a', 'b', 'c', 'd', 'e', 'f']\n",
    "booleans = [1, 0, 1, 0, 0, 1]\n",
    "numbers = [23, 20, 44, 32, 7, 12]\n",
    "decimals = [0.1, 0.7, 0.4, 0.4, 0.5]\n"
   ]
  },
  {
   "cell_type": "code",
   "execution_count": 99,
   "metadata": {},
   "outputs": [
    {
     "name": "stdout",
     "output_type": "stream",
     "text": [
      "<itertools.chain object at 0x00000258B90A52E8>\n"
     ]
    }
   ],
   "source": [
    "print (itertools.chain(letters, booleans, decimals))"
   ]
  },
  {
   "cell_type": "code",
   "execution_count": 100,
   "metadata": {},
   "outputs": [
    {
     "name": "stdout",
     "output_type": "stream",
     "text": [
      "['a', 'b', 'c', 'd', 'e', 'f', 1, 0, 1, 0, 0, 1, 0.1, 0.7, 0.4, 0.4, 0.5]\n"
     ]
    }
   ],
   "source": [
    "print (list(itertools.chain(letters, booleans, decimals)))"
   ]
  },
  {
   "cell_type": "code",
   "execution_count": 102,
   "metadata": {},
   "outputs": [
    {
     "data": {
      "text/plain": [
       "[('A', 'B', 'C'),\n",
       " ('A', 'C', 'B'),\n",
       " ('B', 'A', 'C'),\n",
       " ('B', 'C', 'A'),\n",
       " ('C', 'A', 'B'),\n",
       " ('C', 'B', 'A')]"
      ]
     },
     "execution_count": 102,
     "metadata": {},
     "output_type": "execute_result"
    }
   ],
   "source": [
    "list(itertools.permutations('ABC',3))"
   ]
  },
  {
   "cell_type": "code",
   "execution_count": 104,
   "metadata": {},
   "outputs": [
    {
     "data": {
      "text/plain": [
       "[('A', 'B'), ('A', 'C'), ('B', 'C')]"
      ]
     },
     "execution_count": 104,
     "metadata": {},
     "output_type": "execute_result"
    }
   ],
   "source": [
    "list(itertools.combinations('ABC',2))"
   ]
  },
  {
   "cell_type": "code",
   "execution_count": 105,
   "metadata": {},
   "outputs": [
    {
     "data": {
      "text/plain": [
       "[('A', 'A'), ('A', 'B'), ('A', 'C'), ('B', 'B'), ('B', 'C'), ('C', 'C')]"
      ]
     },
     "execution_count": 105,
     "metadata": {},
     "output_type": "execute_result"
    }
   ],
   "source": [
    "list(itertools.combinations_with_replacement('ABC',2))"
   ]
  },
  {
   "cell_type": "code",
   "execution_count": 120,
   "metadata": {
    "collapsed": true
   },
   "outputs": [],
   "source": [
    "# fibbonacchi series\n",
    "\n",
    "def fib_iter(n):\n",
    "    a, b = 0,1\n",
    "    \n",
    "    for i in range(n):\n",
    "        a, b = b , a+b\n",
    "        \n",
    "        print (\"a = {} and b = {} \".format(a , b))\n",
    "    \n",
    "    return a "
   ]
  },
  {
   "cell_type": "code",
   "execution_count": 121,
   "metadata": {},
   "outputs": [
    {
     "name": "stdout",
     "output_type": "stream",
     "text": [
      "a = 1 and b = 1 \n",
      "a = 1 and b = 2 \n",
      "a = 2 and b = 3 \n",
      "a = 3 and b = 5 \n",
      "a = 5 and b = 8 \n",
      "a = 8 and b = 13 \n",
      "a = 13 and b = 21 \n",
      "a = 21 and b = 34 \n",
      "a = 34 and b = 55 \n",
      "a = 55 and b = 89 \n"
     ]
    },
    {
     "data": {
      "text/plain": [
       "55"
      ]
     },
     "execution_count": 121,
     "metadata": {},
     "output_type": "execute_result"
    }
   ],
   "source": [
    "fib_iter(10)"
   ]
  },
  {
   "cell_type": "code",
   "execution_count": 130,
   "metadata": {
    "collapsed": true
   },
   "outputs": [],
   "source": [
    "def fib_rec(n):\n",
    "    \n",
    "    # Base case\n",
    "    if n == 1 or n == 0:\n",
    "        return n\n",
    "    \n",
    "    # recusrsive case\n",
    "    else:\n",
    "\n",
    "        return fib_rec(n-1) + fib_rec(n-2)\n",
    "    \n",
    "    "
   ]
  },
  {
   "cell_type": "code",
   "execution_count": 131,
   "metadata": {},
   "outputs": [
    {
     "data": {
      "text/plain": [
       "55"
      ]
     },
     "execution_count": 131,
     "metadata": {},
     "output_type": "execute_result"
    }
   ],
   "source": [
    "# ways og cfib_rec(10)"
   ]
  },
  {
   "cell_type": "code",
   "execution_count": 160,
   "metadata": {
    "collapsed": true
   },
   "outputs": [],
   "source": [
    "# ways for coing change\n",
    "\n",
    "def coinDenominationCombinations(amount,denominations):\n",
    "    combinations = [0 for x in range(amount+1) ]\n",
    "\n",
    "    combinations[0] = 1\n",
    "\n",
    "\n",
    "    for denomination in denominations:\n",
    "\n",
    "        for j in range(denomination,amount+1):\n",
    "            combinations[j] = combinations[j] + combinations[j-denomination]\n",
    "\n",
    "    return combinations[amount]\n",
    "\n"
   ]
  },
  {
   "cell_type": "code",
   "execution_count": 161,
   "metadata": {},
   "outputs": [
    {
     "name": "stdout",
     "output_type": "stream",
     "text": [
      "5\n"
     ]
    }
   ],
   "source": [
    "print(coinDenominationCombinations(5,[1,2,3]))"
   ]
  },
  {
   "cell_type": "code",
   "execution_count": 4,
   "metadata": {
    "collapsed": true
   },
   "outputs": [],
   "source": [
    "# Largest continuous sum\n",
    "\n",
    "def large_cont_sum(arr):\n",
    "    if len(arr) == 0:\n",
    "        return 0\n",
    "    \n",
    "    max_sum =  current_sum = arr[0]\n",
    "    \n",
    "    for num in arr[1:]:\n",
    "        \n",
    "        current_sum = max(current_sum + num, num)\n",
    "        print(\"current sum is = {}\".format(current_sum))\n",
    "        max_sum = max(max_sum , current_sum)\n",
    "        print(\"Max sum is = {}\".format(max_sum))\n",
    "    return max_sum"
   ]
  },
  {
   "cell_type": "code",
   "execution_count": 8,
   "metadata": {},
   "outputs": [
    {
     "name": "stdout",
     "output_type": "stream",
     "text": [
      "current sum is = -2\n",
      "Max sum is = -2\n",
      "current sum is = -3\n",
      "Max sum is = -2\n",
      "current sum is = -7\n",
      "Max sum is = -2\n",
      "current sum is = 1\n",
      "Max sum is = 1\n",
      "current sum is = -2\n",
      "Max sum is = 1\n",
      "current sum is = -5\n",
      "Max sum is = 1\n",
      "current sum is = 2\n",
      "Max sum is = 2\n",
      "current sum is = 1\n",
      "Max sum is = 2\n",
      "current sum is = 4\n",
      "Max sum is = 4\n",
      "current sum is = -6\n",
      "Max sum is = 4\n",
      "current sum is = -1\n",
      "Max sum is = 4\n",
      "current sum is = -8\n",
      "Max sum is = 4\n",
      "current sum is = -10\n",
      "Max sum is = 4\n",
      "current sum is = -4\n",
      "Max sum is = 4\n",
      "current sum is = -5\n",
      "Max sum is = 4\n"
     ]
    },
    {
     "data": {
      "text/plain": [
       "4"
      ]
     },
     "execution_count": 8,
     "metadata": {},
     "output_type": "execute_result"
    }
   ],
   "source": [
    "large_cont_sum([-20,-2,-3,-7,1,-3,-5, 2,-1,3,-10,-1,-8,-10,-4,-5])"
   ]
  },
  {
   "cell_type": "code",
   "execution_count": 9,
   "metadata": {
    "collapsed": true
   },
   "outputs": [],
   "source": [
    "# Reverse the sentense\n",
    "\n",
    "def rev_word1(s):\n",
    "    return \" \".join(reversed(s.split()))"
   ]
  },
  {
   "cell_type": "code",
   "execution_count": 10,
   "metadata": {},
   "outputs": [
    {
     "data": {
      "text/plain": [
       "'line test is this'"
      ]
     },
     "execution_count": 10,
     "metadata": {},
     "output_type": "execute_result"
    }
   ],
   "source": [
    "rev_word1(\"this is test line\")"
   ]
  },
  {
   "cell_type": "code",
   "execution_count": 11,
   "metadata": {
    "collapsed": true
   },
   "outputs": [],
   "source": [
    "def rev_word2(s):\n",
    "    return \" \".join(s.split()[::-1])"
   ]
  },
  {
   "cell_type": "code",
   "execution_count": 1,
   "metadata": {},
   "outputs": [
    {
     "ename": "NameError",
     "evalue": "name 'rev_word2' is not defined",
     "output_type": "error",
     "traceback": [
      "\u001b[1;31m---------------------------------------------------------------------------\u001b[0m",
      "\u001b[1;31mNameError\u001b[0m                                 Traceback (most recent call last)",
      "\u001b[1;32m<ipython-input-1-06a3aa061f6d>\u001b[0m in \u001b[0;36m<module>\u001b[1;34m()\u001b[0m\n\u001b[1;32m----> 1\u001b[1;33m \u001b[0mrev_word2\u001b[0m\u001b[1;33m(\u001b[0m\u001b[1;34m\"this is test line\"\u001b[0m\u001b[1;33m)\u001b[0m\u001b[1;33m\u001b[0m\u001b[0m\n\u001b[0m",
      "\u001b[1;31mNameError\u001b[0m: name 'rev_word2' is not defined"
     ]
    }
   ],
   "source": [
    "rev_word2(\"this is test line\")"
   ]
  },
  {
   "cell_type": "code",
   "execution_count": 28,
   "metadata": {
    "collapsed": true
   },
   "outputs": [],
   "source": [
    "# String compression\n",
    "\n",
    "def compress(s):\n",
    "    r = \"\"\n",
    "    l = len(s)\n",
    "\n",
    "    if l == 0:\n",
    "        return \"\"\n",
    "    \n",
    "    if l == 1:\n",
    "        return s + \"1\"\n",
    "    \n",
    "    last = s[0]\n",
    "    \n",
    "    cnt = 1\n",
    "    \n",
    "    i = 1\n",
    "    print(i)\n",
    "    while i < l:\n",
    "        print(\"i is = {}\".format(i))\n",
    "        if s[i] == s[i-1]:\n",
    "            cnt += 1\n",
    "            print(\"cnt is {}\".format(cnt))\n",
    "        else:\n",
    "            r = r + s[i-1] + str(cnt)\n",
    "            print(\"r is {}\".format(r))\n",
    "            cnt = 1\n",
    "        \n",
    "        i = i+1\n",
    "    \n",
    "    r = r + s[i-1]+str(cnt)\n",
    "    return r\n",
    "        \n",
    "    \n",
    "    "
   ]
  },
  {
   "cell_type": "code",
   "execution_count": 29,
   "metadata": {},
   "outputs": [
    {
     "name": "stdout",
     "output_type": "stream",
     "text": [
      "1\n",
      "i is = 1\n",
      "cnt is 2\n",
      "i is = 2\n",
      "r is A2\n",
      "i is = 3\n",
      "cnt is 2\n"
     ]
    },
    {
     "data": {
      "text/plain": [
       "'A2B2'"
      ]
     },
     "execution_count": 29,
     "metadata": {},
     "output_type": "execute_result"
    }
   ],
   "source": [
    "compress('AABB')"
   ]
  },
  {
   "cell_type": "code",
   "execution_count": 34,
   "metadata": {
    "collapsed": true
   },
   "outputs": [],
   "source": [
    "# find number to reach at target\n",
    "\n",
    "def solution(lst, target):\n",
    "    seen = set()\n",
    "    for num in lst:\n",
    "        num2 = target-num\n",
    "        \n",
    "        if num2 in seen:\n",
    "            return True\n",
    "        \n",
    "        seen.add(num)\n",
    "    print(seen)\n",
    "    return False"
   ]
  },
  {
   "cell_type": "code",
   "execution_count": 35,
   "metadata": {},
   "outputs": [
    {
     "name": "stdout",
     "output_type": "stream",
     "text": [
      "{1, 2, 4}\n"
     ]
    },
    {
     "data": {
      "text/plain": [
       "False"
      ]
     },
     "execution_count": 35,
     "metadata": {},
     "output_type": "execute_result"
    }
   ],
   "source": [
    "solution([1,2,4] , 9)"
   ]
  },
  {
   "cell_type": "code",
   "execution_count": 72,
   "metadata": {
    "collapsed": true
   },
   "outputs": [],
   "source": [
    "# coint change.. poor solution\n",
    "def rec_coin(target,coins):\n",
    "    '''\n",
    "    INPUT: Target change amount and list of coin values\n",
    "    OUTPUT: Minimum coins needed to make change\n",
    "    \n",
    "    Note, this solution is not optimized.\n",
    "    '''\n",
    "    \n",
    "    # Default to target value\n",
    "    min_coins = target\n",
    "    \n",
    "    # Check to see if we have a single coin match (BASE CASE)\n",
    "    if target in coins:\n",
    "        return 1\n",
    "    \n",
    "    else:\n",
    "        \n",
    "        # for every coin value that is <= than target\n",
    "        for i in [c for c in coins if c <= target]:\n",
    "            \n",
    "            # Recursive Call (add a count coin and subtract from the target) \n",
    "            num_coins = 1 + rec_coin(target-i,coins)\n",
    "            \n",
    "            # Reset Minimum if we have a new minimum\n",
    "            if num_coins < min_coins:\n",
    "                \n",
    "                min_coins = num_coins\n",
    "                \n",
    "    return min_coins"
   ]
  },
  {
   "cell_type": "code",
   "execution_count": 76,
   "metadata": {},
   "outputs": [
    {
     "data": {
      "text/plain": [
       "3"
      ]
     },
     "execution_count": 76,
     "metadata": {},
     "output_type": "execute_result"
    }
   ],
   "source": [
    "rec_coin(15,[7,6])"
   ]
  },
  {
   "cell_type": "code",
   "execution_count": null,
   "metadata": {
    "collapsed": true
   },
   "outputs": [],
   "source": []
  }
 ],
 "metadata": {
  "kernelspec": {
   "display_name": "Python 2",
   "language": "python",
   "name": "python2"
  },
  "language_info": {
   "codemirror_mode": {
    "name": "ipython",
    "version": 2
   },
   "file_extension": ".py",
   "mimetype": "text/x-python",
   "name": "python",
   "nbconvert_exporter": "python",
   "pygments_lexer": "ipython2",
   "version": "2.7.13"
  }
 },
 "nbformat": 4,
 "nbformat_minor": 2
}
